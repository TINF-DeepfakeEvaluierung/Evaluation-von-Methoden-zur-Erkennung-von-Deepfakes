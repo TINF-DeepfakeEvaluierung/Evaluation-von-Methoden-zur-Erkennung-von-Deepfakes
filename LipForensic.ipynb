{
  "cells": [
    {
      "cell_type": "markdown",
      "metadata": {
        "id": "view-in-github",
        "colab_type": "text"
      },
      "source": [
        "<a href=\"https://colab.research.google.com/github/TINF-DeepfakeEvaluierung/Evaluation-von-Methoden-zur-Erkennung-von-Deepfakes/blob/main/LipForensic.ipynb\" target=\"_parent\"><img src=\"https://colab.research.google.com/assets/colab-badge.svg\" alt=\"Open In Colab\"/></a>"
      ]
    },
    {
      "cell_type": "code",
      "execution_count": null,
      "metadata": {
        "colab": {
          "base_uri": "https://localhost:8080/"
        },
        "id": "Xxbwf0Ea6po0",
        "outputId": "31be6932-8a4a-4501-a72c-a3b727d58cb3"
      },
      "outputs": [
        {
          "output_type": "stream",
          "name": "stdout",
          "text": [
            "Cloning into 'LipForensics'...\n",
            "remote: Enumerating objects: 142, done.\u001b[K\n",
            "remote: Counting objects: 100% (142/142), done.\u001b[K\n",
            "remote: Compressing objects: 100% (128/128), done.\u001b[K\n",
            "remote: Total 142 (delta 73), reused 53 (delta 12), pack-reused 0\u001b[K\n",
            "Receiving objects: 100% (142/142), 584.10 KiB | 8.59 MiB/s, done.\n",
            "Resolving deltas: 100% (73/73), done.\n",
            "/content/LipForensics\n"
          ]
        }
      ],
      "source": [
        "!git clone https://github.com/TINF-DeepfakeEvaluierung/LipForensics.git\n",
        "%cd LipForensics\n",
        "net_model = \"LipForensic\""
      ]
    },
    {
      "cell_type": "code",
      "execution_count": null,
      "metadata": {
        "id": "WenT64N360ZB"
      },
      "outputs": [],
      "source": [
        "import sys\n",
        "sys.path.append('..')\n",
        "\n",
        "import os\n",
        "import cv2\n",
        "import numpy as np\n",
        "from tqdm import tqdm\n",
        "from PIL import Image\n",
        "from collections import deque\n",
        "from collections import defaultdict\n",
        "import pandas as pd\n",
        "from sklearn import metrics\n",
        "import torch\n",
        "from torch.utils.data import DataLoader\n",
        "from torchvision.transforms import Compose, CenterCrop\n",
        "import torch.nn.functional as F\n",
        "from itertools import islice\n",
        "\n",
        "from preprocessing.utils import warp_img, apply_transform, cut_patch"
      ]
    },
    {
      "cell_type": "code",
      "execution_count": null,
      "metadata": {
        "colab": {
          "base_uri": "https://localhost:8080/"
        },
        "id": "3404VCqKYd10",
        "outputId": "3ec7a188-f2f6-47a4-80fa-4a316f64e1ff"
      },
      "outputs": [
        {
          "output_type": "stream",
          "name": "stdout",
          "text": [
            "deb https://packages.cloud.google.com/apt gcsfuse-jammy main\n",
            "  % Total    % Received % Xferd  Average Speed   Time    Time     Time  Current\n",
            "                                 Dload  Upload   Total   Spent    Left  Speed\n",
            "100  2659  100  2659    0     0   9544      0 --:--:-- --:--:-- --:--:--  9530\n",
            "Warning: apt-key is deprecated. Manage keyring files in trusted.gpg.d instead (see apt-key(8)).\n",
            "OK\n",
            "45 packages can be upgraded. Run 'apt list --upgradable' to see them.\n",
            "\u001b[1;33mW: \u001b[0mhttps://packages.cloud.google.com/apt/dists/gcsfuse-jammy/InRelease: Key is stored in legacy trusted.gpg keyring (/etc/apt/trusted.gpg), see the DEPRECATION section in apt-key(8) for details.\u001b[0m\n",
            "The following NEW packages will be installed:\n",
            "  gcsfuse\n",
            "0 upgraded, 1 newly installed, 0 to remove and 45 not upgraded.\n",
            "Need to get 10.4 MB of archives.\n",
            "After this operation, 0 B of additional disk space will be used.\n",
            "Selecting previously unselected package gcsfuse.\n",
            "(Reading database ... 121920 files and directories currently installed.)\n",
            "Preparing to unpack .../gcsfuse_2.0.1_amd64.deb ...\n",
            "Unpacking gcsfuse (2.0.1) ...\n",
            "Setting up gcsfuse (2.0.1) ...\n",
            "{\"timestamp\":{\"seconds\":1715025248,\"nanos\":664553653},\"severity\":\"INFO\",\"message\":\"Start gcsfuse/2.0.1 (Go version go1.22.1) for app \\\"\\\" using mount point: /content/deepfake_detection_datasets\\n\"}\n",
            "{\"timestamp\":{\"seconds\":1715025248,\"nanos\":664815847},\"severity\":\"INFO\",\"message\":\"GCSFuse mount command flags: {\\\"AppName\\\":\\\"\\\",\\\"Foreground\\\":false,\\\"ConfigFile\\\":\\\"\\\",\\\"MountOptions\\\":{},\\\"DirMode\\\":493,\\\"FileMode\\\":420,\\\"Uid\\\":-1,\\\"Gid\\\":-1,\\\"ImplicitDirs\\\":true,\\\"OnlyDir\\\":\\\"\\\",\\\"RenameDirLimit\\\":0,\\\"CustomEndpoint\\\":null,\\\"BillingProject\\\":\\\"\\\",\\\"KeyFile\\\":\\\"\\\",\\\"TokenUrl\\\":\\\"\\\",\\\"ReuseTokenFromUrl\\\":true,\\\"EgressBandwidthLimitBytesPerSecond\\\":-1,\\\"OpRateLimitHz\\\":-1,\\\"SequentialReadSizeMb\\\":200,\\\"MaxRetrySleep\\\":30000000000,\\\"StatCacheCapacity\\\":20460,\\\"StatCacheTTL\\\":60000000000,\\\"TypeCacheTTL\\\":60000000000,\\\"HttpClientTimeout\\\":0,\\\"MaxRetryDuration\\\":-1000000000,\\\"RetryMultiplier\\\":2,\\\"LocalFileCache\\\":false,\\\"TempDir\\\":\\\"\\\",\\\"ClientProtocol\\\":\\\"http1\\\",\\\"MaxConnsPerHost\\\":100,\\\"MaxIdleConnsPerHost\\\":100,\\\"EnableNonexistentTypeCache\\\":false,\\\"StackdriverExportInterval\\\":0,\\\"OtelCollectorAddress\\\":\\\"\\\",\\\"LogFile\\\":\\\"\\\",\\\"LogFormat\\\":\\\"json\\\",\\\"ExperimentalEnableJsonRead\\\":false,\\\"DebugFuseErrors\\\":true,\\\"DebugFuse\\\":false,\\\"DebugFS\\\":false,\\\"DebugGCS\\\":false,\\\"DebugHTTP\\\":false,\\\"DebugInvariants\\\":false,\\\"DebugMutex\\\":false}\"}\n",
            "{\"timestamp\":{\"seconds\":1715025248,\"nanos\":664883968},\"severity\":\"INFO\",\"message\":\"GCSFuse mount config flags: {\\\"CreateEmptyFile\\\":false,\\\"Severity\\\":\\\"INFO\\\",\\\"Format\\\":\\\"json\\\",\\\"FilePath\\\":\\\"\\\",\\\"LogRotateConfig\\\":{\\\"MaxFileSizeMB\\\":512,\\\"BackupFileCount\\\":10,\\\"Compress\\\":true},\\\"MaxSizeMB\\\":-1,\\\"CacheFileForRangeRead\\\":false,\\\"CacheDir\\\":\\\"\\\",\\\"TtlInSeconds\\\":-9223372036854775808,\\\"TypeCacheMaxSizeMB\\\":4,\\\"StatCacheMaxSizeMB\\\":-9223372036854775808,\\\"EnableEmptyManagedFolders\\\":false,\\\"ConnPoolSize\\\":1}\"}\n",
            "{\"timestamp\":{\"seconds\":1715025249,\"nanos\":74173472},\"severity\":\"INFO\",\"message\":\"File system has been successfully mounted.\"}\n"
          ]
        }
      ],
      "source": [
        "# Connect Google Cloud\n",
        "# Authenticate.\n",
        "from google.colab import auth\n",
        "auth.authenticate_user()\n",
        "\n",
        "# Install Cloud Storage FUSE.\n",
        "!echo \"deb https://packages.cloud.google.com/apt gcsfuse-`lsb_release -c -s` main\" | sudo tee /etc/apt/sources.list.d/gcsfuse.list\n",
        "!curl https://packages.cloud.google.com/apt/doc/apt-key.gpg | sudo apt-key add -\n",
        "!apt -qq update && apt -qq install gcsfuse\n",
        "# Mount a Cloud Storage bucket or location, without the gs:// prefix.\n",
        "mount_path = \"deepfake_detection_datasets\"  # or a location like \"my-bucket/path/to/mount\"\n",
        "local_path = f\"/content/{mount_path}\"\n",
        "\n",
        "!mkdir -p {local_path}\n",
        "!gcsfuse --implicit-dirs {mount_path} {local_path}"
      ]
    },
    {
      "cell_type": "code",
      "execution_count": null,
      "metadata": {
        "id": "Wb3d-WyVgS_K"
      },
      "outputs": [],
      "source": [
        "!mkdir \"./models/weights\"\n",
        "!cp \"/content/deepfake_detection_datasets/LipForensic_model/lipforensics_ff.pth\" \"./models/weights\""
      ]
    },
    {
      "cell_type": "code",
      "execution_count": null,
      "metadata": {
        "id": "-sfgXCPQ80Jy"
      },
      "outputs": [],
      "source": [
        "def crop_mouths(video_cap, target_dir, device=\"gpu\"):\n",
        "  if not os.path.exists(target_dir):\n",
        "    os.makedirs(target_dir, exist_ok=True)\n",
        "\n",
        "  fa = face_alignment.FaceAlignment(face_alignment.LandmarksType.TWO_D, device=device)\n",
        "  q_frames, q_landmarks, q_path = deque(), deque(), deque()\n",
        "  frame_num = 0\n",
        "\n",
        "  while frame_num <= 39:\n",
        "    # Check if the cropped_mouths where already created, if yes skipp the loop\n",
        "    target_path = os.path.join(target_dir, '{:04d}.png'.format(frame_num))\n",
        "    if os.path.exists(target_path):\n",
        "      frame_num += 1\n",
        "      # print(f\"Continue {target_path}\")\n",
        "      continue\n",
        "\n",
        "    success, image = video_cap.read()\n",
        "    if not success:\n",
        "      break\n",
        "\n",
        "    image = image[..., ::-1]\n",
        "    landmarks = fa.get_landmarks(image)\n",
        "    if landmarks is not None and len(landmarks) > 0:\n",
        "      q_landmarks.append(landmarks[0])  # Append the first (or only) set of landmarks\n",
        "      q_frames.append(image)\n",
        "      q_path.append(target_path)\n",
        "      # print(f\"Add q_frame {target_path}\")\n",
        "      frame_num += 1\n",
        "\n",
        "    if len(q_frames) == 12:  # Wait until queues are large enough\n",
        "      smoothed_landmarks = np.mean(q_landmarks, axis=0)\n",
        "      cur_landmarks = q_landmarks.popleft()\n",
        "      cur_frame = q_frames.popleft()\n",
        "      cur_path = q_path.popleft()\n",
        "\n",
        "      # Get aligned frame as well as affine transformation that produced it\n",
        "      trans_frame, trans = warp_img(\n",
        "          smoothed_landmarks[STABLE_POINTS, :], mean_face_landmarks[STABLE_POINTS, :], cur_frame, STD_SIZE\n",
        "      )\n",
        "\n",
        "      # Apply that affine transform to the landmarks\n",
        "      trans_landmarks = trans(cur_landmarks)\n",
        "\n",
        "      # Crop mouth region\n",
        "      cropped_frame = cut_patch(\n",
        "          trans_frame,\n",
        "          trans_landmarks[48 : 68],\n",
        "          96 // 2,\n",
        "          96 // 2,\n",
        "      )\n",
        "\n",
        "      # Save image\n",
        "      # print(cur_path)\n",
        "      Image.fromarray(cropped_frame.astype(np.uint8)).save(cur_path)\n",
        "  video_cap.release()\n",
        "\n",
        "  # Process remaining frames in the queue\n",
        "  while q_frames:\n",
        "      # print(q_path)\n",
        "      cur_frame = q_frames.popleft()\n",
        "      cur_path = q_path.popleft()\n",
        "      cur_landmarks = q_landmarks.popleft()\n",
        "\n",
        "      trans_frame = apply_transform(trans, cur_frame, STD_SIZE)\n",
        "      trans_landmarks = trans(cur_landmarks)\n",
        "\n",
        "      cropped_frame = cut_patch(\n",
        "          trans_frame, trans_landmarks[48 : 68], 96 // 2, 96 // 2\n",
        "      )\n",
        "      # print(cur_path)\n",
        "      Image.fromarray(cropped_frame.astype(np.uint8)).save(cur_path)\n",
        "  print(f\"Extracted Mouths: {target_dir}\")\n",
        "  return target_dir"
      ]
    },
    {
      "cell_type": "code",
      "source": [
        "def calculate_sigmoid(result, b=1):\n",
        "    \"\"\"Custom sigmoid function with stretching and shifting.\n",
        "\n",
        "    Parameters:\n",
        "    - x: Input value or array of values.\n",
        "    - b: Horizontal compression factor.\n",
        "    \"\"\"\n",
        "\n",
        "    sigmoid_output = np.array([])\n",
        "\n",
        "    # Apply the sigmoid function\n",
        "    for prop in result:\n",
        "      sigmoid = 1 / (1 + np.exp(-b * (prop - 1)))\n",
        "      sigmoid_output = np.append(sigmoid_output, sigmoid)\n",
        "    return sigmoid_output"
      ],
      "metadata": {
        "id": "MCIZ9kyF_1CH"
      },
      "execution_count": null,
      "outputs": []
    },
    {
      "cell_type": "code",
      "source": [
        "def calculate_scores(sigmoid_results, number_of_real):\n",
        "  index = 0\n",
        "  score_real = np.array([])\n",
        "  score_fake = np.array([])\n",
        "  for output in sigmoid_results:\n",
        "    if index < number_of_real:\n",
        "      score_real = np.append(score_real, output.item())\n",
        "    else:\n",
        "      score_fake = np.append(score_fake, output.item())\n",
        "    index+=1\n",
        "  return score_real, score_fake"
      ],
      "metadata": {
        "id": "6MjHsY8EAVb7"
      },
      "execution_count": null,
      "outputs": []
    },
    {
      "cell_type": "markdown",
      "source": [
        "# FaceForensics++"
      ],
      "metadata": {
        "id": "HjvM9qVW_2YA"
      }
    },
    {
      "cell_type": "markdown",
      "source": [
        "## Data preperation"
      ],
      "metadata": {
        "id": "e90uSn1MA6oy"
      }
    },
    {
      "cell_type": "code",
      "source": [
        "!pip install face-alignment\n",
        "import face_alignment\n",
        "import json\n",
        "\n",
        "STD_SIZE = (256, 256)\n",
        "STABLE_POINTS = [33, 36, 39, 42, 45]\n",
        "mean_face_landmarks = np.load(\"/content/LipForensics/preprocessing/20words_mean_face.npy\")"
      ],
      "metadata": {
        "colab": {
          "base_uri": "https://localhost:8080/"
        },
        "id": "bk0q04yPLNOd",
        "outputId": "9da4a832-78bb-46c9-e08b-d07269a5ef69"
      },
      "execution_count": null,
      "outputs": [
        {
          "output_type": "stream",
          "name": "stdout",
          "text": [
            "Collecting face-alignment\n",
            "  Downloading face_alignment-1.4.1-py2.py3-none-any.whl (30 kB)\n",
            "Requirement already satisfied: torch in /usr/local/lib/python3.10/dist-packages (from face-alignment) (2.2.1+cu121)\n",
            "Requirement already satisfied: numpy in /usr/local/lib/python3.10/dist-packages (from face-alignment) (1.25.2)\n",
            "Requirement already satisfied: scipy>=0.17 in /usr/local/lib/python3.10/dist-packages (from face-alignment) (1.11.4)\n",
            "Requirement already satisfied: scikit-image in /usr/local/lib/python3.10/dist-packages (from face-alignment) (0.19.3)\n",
            "Requirement already satisfied: opencv-python in /usr/local/lib/python3.10/dist-packages (from face-alignment) (4.8.0.76)\n",
            "Requirement already satisfied: tqdm in /usr/local/lib/python3.10/dist-packages (from face-alignment) (4.66.2)\n",
            "Requirement already satisfied: numba in /usr/local/lib/python3.10/dist-packages (from face-alignment) (0.58.1)\n",
            "Requirement already satisfied: llvmlite<0.42,>=0.41.0dev0 in /usr/local/lib/python3.10/dist-packages (from numba->face-alignment) (0.41.1)\n",
            "Requirement already satisfied: networkx>=2.2 in /usr/local/lib/python3.10/dist-packages (from scikit-image->face-alignment) (3.3)\n",
            "Requirement already satisfied: pillow!=7.1.0,!=7.1.1,!=8.3.0,>=6.1.0 in /usr/local/lib/python3.10/dist-packages (from scikit-image->face-alignment) (9.4.0)\n",
            "Requirement already satisfied: imageio>=2.4.1 in /usr/local/lib/python3.10/dist-packages (from scikit-image->face-alignment) (2.31.6)\n",
            "Requirement already satisfied: tifffile>=2019.7.26 in /usr/local/lib/python3.10/dist-packages (from scikit-image->face-alignment) (2024.4.24)\n",
            "Requirement already satisfied: PyWavelets>=1.1.1 in /usr/local/lib/python3.10/dist-packages (from scikit-image->face-alignment) (1.6.0)\n",
            "Requirement already satisfied: packaging>=20.0 in /usr/local/lib/python3.10/dist-packages (from scikit-image->face-alignment) (24.0)\n",
            "Requirement already satisfied: filelock in /usr/local/lib/python3.10/dist-packages (from torch->face-alignment) (3.14.0)\n",
            "Requirement already satisfied: typing-extensions>=4.8.0 in /usr/local/lib/python3.10/dist-packages (from torch->face-alignment) (4.11.0)\n",
            "Requirement already satisfied: sympy in /usr/local/lib/python3.10/dist-packages (from torch->face-alignment) (1.12)\n",
            "Requirement already satisfied: jinja2 in /usr/local/lib/python3.10/dist-packages (from torch->face-alignment) (3.1.3)\n",
            "Requirement already satisfied: fsspec in /usr/local/lib/python3.10/dist-packages (from torch->face-alignment) (2023.6.0)\n",
            "Collecting nvidia-cuda-nvrtc-cu12==12.1.105 (from torch->face-alignment)\n",
            "  Using cached nvidia_cuda_nvrtc_cu12-12.1.105-py3-none-manylinux1_x86_64.whl (23.7 MB)\n",
            "Collecting nvidia-cuda-runtime-cu12==12.1.105 (from torch->face-alignment)\n",
            "  Using cached nvidia_cuda_runtime_cu12-12.1.105-py3-none-manylinux1_x86_64.whl (823 kB)\n",
            "Collecting nvidia-cuda-cupti-cu12==12.1.105 (from torch->face-alignment)\n",
            "  Using cached nvidia_cuda_cupti_cu12-12.1.105-py3-none-manylinux1_x86_64.whl (14.1 MB)\n",
            "Collecting nvidia-cudnn-cu12==8.9.2.26 (from torch->face-alignment)\n",
            "  Using cached nvidia_cudnn_cu12-8.9.2.26-py3-none-manylinux1_x86_64.whl (731.7 MB)\n",
            "Collecting nvidia-cublas-cu12==12.1.3.1 (from torch->face-alignment)\n",
            "  Using cached nvidia_cublas_cu12-12.1.3.1-py3-none-manylinux1_x86_64.whl (410.6 MB)\n",
            "Collecting nvidia-cufft-cu12==11.0.2.54 (from torch->face-alignment)\n",
            "  Using cached nvidia_cufft_cu12-11.0.2.54-py3-none-manylinux1_x86_64.whl (121.6 MB)\n",
            "Collecting nvidia-curand-cu12==10.3.2.106 (from torch->face-alignment)\n",
            "  Using cached nvidia_curand_cu12-10.3.2.106-py3-none-manylinux1_x86_64.whl (56.5 MB)\n",
            "Collecting nvidia-cusolver-cu12==11.4.5.107 (from torch->face-alignment)\n",
            "  Using cached nvidia_cusolver_cu12-11.4.5.107-py3-none-manylinux1_x86_64.whl (124.2 MB)\n",
            "Collecting nvidia-cusparse-cu12==12.1.0.106 (from torch->face-alignment)\n",
            "  Using cached nvidia_cusparse_cu12-12.1.0.106-py3-none-manylinux1_x86_64.whl (196.0 MB)\n",
            "Collecting nvidia-nccl-cu12==2.19.3 (from torch->face-alignment)\n",
            "  Using cached nvidia_nccl_cu12-2.19.3-py3-none-manylinux1_x86_64.whl (166.0 MB)\n",
            "Collecting nvidia-nvtx-cu12==12.1.105 (from torch->face-alignment)\n",
            "  Using cached nvidia_nvtx_cu12-12.1.105-py3-none-manylinux1_x86_64.whl (99 kB)\n",
            "Requirement already satisfied: triton==2.2.0 in /usr/local/lib/python3.10/dist-packages (from torch->face-alignment) (2.2.0)\n",
            "Collecting nvidia-nvjitlink-cu12 (from nvidia-cusolver-cu12==11.4.5.107->torch->face-alignment)\n",
            "  Using cached nvidia_nvjitlink_cu12-12.4.127-py3-none-manylinux2014_x86_64.whl (21.1 MB)\n",
            "Requirement already satisfied: MarkupSafe>=2.0 in /usr/local/lib/python3.10/dist-packages (from jinja2->torch->face-alignment) (2.1.5)\n",
            "Requirement already satisfied: mpmath>=0.19 in /usr/local/lib/python3.10/dist-packages (from sympy->torch->face-alignment) (1.3.0)\n",
            "Installing collected packages: nvidia-nvtx-cu12, nvidia-nvjitlink-cu12, nvidia-nccl-cu12, nvidia-curand-cu12, nvidia-cufft-cu12, nvidia-cuda-runtime-cu12, nvidia-cuda-nvrtc-cu12, nvidia-cuda-cupti-cu12, nvidia-cublas-cu12, nvidia-cusparse-cu12, nvidia-cudnn-cu12, nvidia-cusolver-cu12, face-alignment\n",
            "Successfully installed face-alignment-1.4.1 nvidia-cublas-cu12-12.1.3.1 nvidia-cuda-cupti-cu12-12.1.105 nvidia-cuda-nvrtc-cu12-12.1.105 nvidia-cuda-runtime-cu12-12.1.105 nvidia-cudnn-cu12-8.9.2.26 nvidia-cufft-cu12-11.0.2.54 nvidia-curand-cu12-10.3.2.106 nvidia-cusolver-cu12-11.4.5.107 nvidia-cusparse-cu12-12.1.0.106 nvidia-nccl-cu12-2.19.3 nvidia-nvjitlink-cu12-12.4.127 nvidia-nvtx-cu12-12.1.105\n"
          ]
        }
      ]
    },
    {
      "cell_type": "code",
      "source": [
        "ffpp_dir = \"/content/deepfake_detection_datasets/FFPP/\"\n",
        "dataset = \"FaceForensics++\""
      ],
      "metadata": {
        "id": "G9ywT2JCAw2T"
      },
      "execution_count": null,
      "outputs": []
    },
    {
      "cell_type": "code",
      "execution_count": null,
      "metadata": {
        "id": "nSsRj0xMdEbR"
      },
      "outputs": [],
      "source": [
        "# images_per_class should be devidable by 6\n",
        "def detect_ffpp_mouths(ffpp_dir, images_per_class=60):\n",
        "    # Initialize arrays to store scores for real and fake videos.\n",
        "    paths_to_cropped_mouts = []\n",
        "\n",
        "    # Dictionaries to keep track of how many files have been processed in each subfolder.\n",
        "    manipulated_predicted_count = {}\n",
        "    original_predicted_count = {}\n",
        "    original_filename_list = []\n",
        "    manipulated_filename_list = []\n",
        "\n",
        "    # Calculate the number of files to be processed per subfolder based on the folder type.\n",
        "    files_per_manipulated_subfolder = images_per_class / 6\n",
        "    files_per_original_subfolder = images_per_class / 2\n",
        "\n",
        "    # Total number of files targeted for processing from all subfolders.\n",
        "    total_files_to_process = 2 * images_per_class\n",
        "    processed_files = 0  # Counter for the number of files processed.\n",
        "\n",
        "    # Set up a progress bar with the total number of files to process.\n",
        "    pbar = tqdm(total=total_files_to_process, desc=\"Processing: \")\n",
        "    # Walk through the directory structure of the given path.\n",
        "    for root, _, files in os.walk(ffpp_dir):\n",
        "      for file in files:\n",
        "          # Stop processing if the number of processed files meets the target.\n",
        "          if processed_files >= total_files_to_process:\n",
        "              break\n",
        "\n",
        "          # Process only MP4 video files.\n",
        "          if file.endswith('.mp4'):\n",
        "              vid_path = os.path.join(root, file)\n",
        "              rel_path = os.path.relpath(vid_path, ffpp_dir)\n",
        "              path_parts = rel_path.split(os.sep)\n",
        "\n",
        "              # Check if the video is from a manipulated or original sequence based on folder names.\n",
        "              is_manipulated = path_parts[0] == 'manipulated_sequences'\n",
        "              subfolder_path = os.path.join(path_parts[0], path_parts[1])\n",
        "\n",
        "              # Process videos from manipulated sequences.\n",
        "              if is_manipulated:\n",
        "                  # Ensure not to process more videos than the set limit for the subfolder.\n",
        "                  if manipulated_predicted_count.get(subfolder_path, 0) < files_per_manipulated_subfolder:\n",
        "                    #video_cap = cv2.VideoCapture(vid_path)\n",
        "                    path_parts[-2] = \"cropped_mouths\"\n",
        "                    path_parts[-1] = path_parts[-1].replace('.mp4', '')\n",
        "                    manipulated_filename_list.append(path_parts[-1])\n",
        "                    target_dir = os.path.join(ffpp_dir, *path_parts)\n",
        "                    #paths_to_cropped_mouts.append(target_dir)\n",
        "                    #crop_mouths(video_cap, target_dir, \"cuda\")\n",
        "                    manipulated_predicted_count[subfolder_path] = manipulated_predicted_count.get(subfolder_path, 0) + 1\n",
        "                    processed_files += 1\n",
        "                    pbar.update(1)\n",
        "\n",
        "              # Process videos from original sequences.\n",
        "              else:\n",
        "                  if original_predicted_count.get(subfolder_path, 0) < files_per_original_subfolder:\n",
        "                    #video_cap = cv2.VideoCapture(vid_path)\n",
        "                    path_parts[-2] = \"cropped_mouths\"\n",
        "                    path_parts[-1] = path_parts[-1].replace('.mp4', '')\n",
        "                    original_filename_list.append(path_parts[-1])\n",
        "                    target_dir = os.path.join(ffpp_dir, *path_parts)\n",
        "                    #paths_to_cropped_mouts.append(target_dir)\n",
        "                    #crop_mouths(video_cap, target_dir, \"cuda\")\n",
        "                    original_predicted_count[subfolder_path] = original_predicted_count.get(subfolder_path, 0) + 1\n",
        "                    processed_files += 1\n",
        "                    pbar.update(1)\n",
        "\n",
        "      # Break the outer loop if the processing limit is reached.\n",
        "      if processed_files >= total_files_to_process:\n",
        "          break\n",
        "\n",
        "    # Save the list to a JSON file after the loop completes\n",
        "    json_path = os.path.join(ffpp_dir, 'original_filenames.json')\n",
        "    with open(json_path, 'w') as json_file:\n",
        "        json.dump(original_filename_list, json_file)\n",
        "\n",
        "    json_path = os.path.join(ffpp_dir, 'manipulated_filenames.json')\n",
        "    with open(json_path, 'w') as json_file:\n",
        "        json.dump(manipulated_filename_list, json_file)\n",
        "\n",
        "    pbar.close()\n",
        "\n",
        "    return original_filename_list, manipulated_filename_list"
      ]
    },
    {
      "cell_type": "code",
      "execution_count": null,
      "metadata": {
        "id": "O-79CTM6xYpa",
        "colab": {
          "base_uri": "https://localhost:8080/"
        },
        "outputId": "909b85ad-ca94-49bf-e246-c8e74e92d811"
      },
      "outputs": [
        {
          "output_type": "stream",
          "name": "stderr",
          "text": [
            "Processing: 100%|██████████| 60/60 [00:29<00:00,  2.01it/s]\n"
          ]
        }
      ],
      "source": [
        "images_per_class = 30\n",
        "original_filename_list, manipulated_filename_list = detect_ffpp_mouths(ffpp_dir, images_per_class)"
      ]
    },
    {
      "cell_type": "markdown",
      "metadata": {
        "id": "0Igf8RnsgJjZ"
      },
      "source": [
        "## Evaluation"
      ]
    },
    {
      "cell_type": "code",
      "execution_count": null,
      "metadata": {
        "colab": {
          "base_uri": "https://localhost:8080/"
        },
        "id": "Cf-Mqsomlcdj",
        "outputId": "fd3ebfb5-2eaa-43a5-c462-ac009ceb1b6e"
      },
      "outputs": [
        {
          "output_type": "stream",
          "name": "stdout",
          "text": [
            "Face forgery weights loaded.\n",
            "Loading Datasets: 100% 8/8 [04:58<00:00, 37.33s/it]\n",
            "100% 45/45 [1:31:52<00:00, 122.49s/it]\n",
            "FaceForensics++ AUC (video-level): 0.9506481481481482, Logits (video-level): tensor([[ 1.5173e-01],\n",
            "        [-7.3938e-01],\n",
            "        [-3.4285e+00],\n",
            "        [-2.4295e+00],\n",
            "        [-5.0361e+00],\n",
            "        [ 1.9275e+00],\n",
            "        [ 8.9536e-01],\n",
            "        [-2.9491e-02],\n",
            "        [-5.8841e+00],\n",
            "        [-3.1643e-01],\n",
            "        [-1.1011e+00],\n",
            "        [-6.4177e-01],\n",
            "        [ 1.0036e+01],\n",
            "        [-5.0045e+00],\n",
            "        [-1.2606e+00],\n",
            "        [-3.3177e+00],\n",
            "        [ 2.7143e-01],\n",
            "        [-1.5668e+00],\n",
            "        [-4.0535e+00],\n",
            "        [ 4.8033e-01],\n",
            "        [-1.5649e+00],\n",
            "        [-4.8335e-01],\n",
            "        [-1.0466e-01],\n",
            "        [ 7.6165e+00],\n",
            "        [-3.8617e+00],\n",
            "        [ 1.3867e+00],\n",
            "        [-5.4648e+00],\n",
            "        [-3.7342e+00],\n",
            "        [ 3.0449e-01],\n",
            "        [-8.7643e-01],\n",
            "        [-2.7265e+00],\n",
            "        [-2.6827e+00],\n",
            "        [-2.5372e+00],\n",
            "        [-2.6767e+00],\n",
            "        [-2.7604e+00],\n",
            "        [ 4.9957e+00],\n",
            "        [-2.4264e+00],\n",
            "        [ 1.0106e+00],\n",
            "        [-1.6919e+00],\n",
            "        [-2.6370e+00],\n",
            "        [-3.5365e+00],\n",
            "        [-3.3226e+00],\n",
            "        [-3.8745e+00],\n",
            "        [-2.1283e+00],\n",
            "        [-1.2986e+00],\n",
            "        [ 1.7159e+00],\n",
            "        [ 2.6694e+00],\n",
            "        [-4.1847e+00],\n",
            "        [-2.3271e+00],\n",
            "        [-4.5194e+00],\n",
            "        [-1.3425e+00],\n",
            "        [-1.0429e+00],\n",
            "        [-1.4018e+00],\n",
            "        [-2.3202e-01],\n",
            "        [-1.9730e+00],\n",
            "        [-3.4316e+00],\n",
            "        [-3.2788e+00],\n",
            "        [-1.5521e+00],\n",
            "        [ 1.1706e+00],\n",
            "        [ 1.6302e+00],\n",
            "        [ 2.5363e+00],\n",
            "        [-2.7493e+00],\n",
            "        [-6.5298e+00],\n",
            "        [-5.3593e+00],\n",
            "        [-1.7203e+00],\n",
            "        [ 2.8044e-01],\n",
            "        [-3.3482e+00],\n",
            "        [ 7.1748e-01],\n",
            "        [-2.5112e+00],\n",
            "        [-3.7563e+00],\n",
            "        [ 5.7746e+00],\n",
            "        [-6.5862e+00],\n",
            "        [-4.6514e+00],\n",
            "        [-5.2133e+00],\n",
            "        [-3.3153e+00],\n",
            "        [-1.2858e+00],\n",
            "        [ 1.2368e+00],\n",
            "        [-1.8476e+00],\n",
            "        [-3.8551e+00],\n",
            "        [-4.8702e+00],\n",
            "        [-1.1307e+00],\n",
            "        [ 2.2070e-01],\n",
            "        [-7.9978e-01],\n",
            "        [ 6.8927e-01],\n",
            "        [ 1.9443e+00],\n",
            "        [-4.3171e+00],\n",
            "        [-2.0748e+00],\n",
            "        [ 9.2644e-01],\n",
            "        [ 1.1981e+00],\n",
            "        [ 9.2554e-01],\n",
            "        [-2.7151e+00],\n",
            "        [-3.7413e+00],\n",
            "        [-5.9313e-01],\n",
            "        [-3.3267e+00],\n",
            "        [-3.3278e+00],\n",
            "        [-2.6118e+00],\n",
            "        [-5.0942e+00],\n",
            "        [-3.9507e+00],\n",
            "        [-5.5626e+00],\n",
            "        [-5.8097e+00],\n",
            "        [-1.9823e+00],\n",
            "        [-3.4821e+00],\n",
            "        [-2.1615e+00],\n",
            "        [-3.0763e+00],\n",
            "        [-6.0674e+00],\n",
            "        [-5.3603e+00],\n",
            "        [-6.8078e+00],\n",
            "        [-3.6108e+00],\n",
            "        [-3.3234e+00],\n",
            "        [-2.8595e+00],\n",
            "        [-2.2485e+00],\n",
            "        [-4.5736e+00],\n",
            "        [-2.9676e+00],\n",
            "        [-3.1607e+00],\n",
            "        [-1.2864e+00],\n",
            "        [ 3.1983e+00],\n",
            "        [-3.0103e+00],\n",
            "        [-8.0600e-01],\n",
            "        [ 8.6838e-01],\n",
            "        [-1.3589e+00],\n",
            "        [-1.8400e+00],\n",
            "        [-5.3704e+00],\n",
            "        [-5.9670e-01],\n",
            "        [-3.4117e+00],\n",
            "        [-4.7080e+00],\n",
            "        [-2.6635e+00],\n",
            "        [-5.3418e+00],\n",
            "        [-5.1644e+00],\n",
            "        [-2.0275e+00],\n",
            "        [-3.3080e+00],\n",
            "        [-3.8505e+00],\n",
            "        [-3.4539e+00],\n",
            "        [-1.2618e+00],\n",
            "        [-3.8143e+00],\n",
            "        [-8.3669e-01],\n",
            "        [-3.4388e+00],\n",
            "        [-4.0098e+00],\n",
            "        [-3.6239e+00],\n",
            "        [-3.0148e+00],\n",
            "        [-2.9086e+00],\n",
            "        [-3.8647e+00],\n",
            "        [-1.1275e+00],\n",
            "        [-2.9633e+00],\n",
            "        [-4.9223e+00],\n",
            "        [-3.0542e+00],\n",
            "        [-6.4269e+00],\n",
            "        [-5.1063e+00],\n",
            "        [-2.8075e+00],\n",
            "        [-1.7853e+00],\n",
            "        [-2.6847e+00],\n",
            "        [-2.9279e+00],\n",
            "        [-5.2932e+00],\n",
            "        [-2.1992e+00],\n",
            "        [-4.2661e+00],\n",
            "        [-5.1030e+00],\n",
            "        [-1.2893e+00],\n",
            "        [-6.1989e+00],\n",
            "        [-1.3334e+00],\n",
            "        [-3.1718e+00],\n",
            "        [-2.1345e+00],\n",
            "        [-5.1169e+00],\n",
            "        [-2.5956e+00],\n",
            "        [-3.5804e+00],\n",
            "        [-5.5942e+00],\n",
            "        [ 7.6671e-01],\n",
            "        [-4.3405e+00],\n",
            "        [-3.2832e+00],\n",
            "        [-5.1463e+00],\n",
            "        [-1.2382e+00],\n",
            "        [-3.7266e+00],\n",
            "        [-2.5226e+00],\n",
            "        [-2.2730e+00],\n",
            "        [-2.5624e+00],\n",
            "        [-1.5623e-01],\n",
            "        [-1.7535e+00],\n",
            "        [-5.0546e+00],\n",
            "        [-2.6872e+00],\n",
            "        [-6.3768e+00],\n",
            "        [-2.6272e+00],\n",
            "        [-1.8816e+00],\n",
            "        [-2.3144e+00],\n",
            "        [-2.9540e+00],\n",
            "        [-2.2704e-01],\n",
            "        [-2.6966e+00],\n",
            "        [ 5.5449e-01],\n",
            "        [ 6.4699e-01],\n",
            "        [ 6.4854e+00],\n",
            "        [-1.3198e+00],\n",
            "        [ 2.9868e+00],\n",
            "        [ 5.5826e+00],\n",
            "        [ 1.1065e+01],\n",
            "        [-8.8926e-01],\n",
            "        [-7.4453e-01],\n",
            "        [ 8.8029e+00],\n",
            "        [-4.9729e+00],\n",
            "        [ 4.4059e+00],\n",
            "        [ 1.1057e+01],\n",
            "        [ 3.8179e+00],\n",
            "        [-2.0870e+00],\n",
            "        [ 3.6394e+00],\n",
            "        [ 1.0004e+00],\n",
            "        [ 2.8764e+00],\n",
            "        [ 3.1208e+00],\n",
            "        [ 8.9335e+00],\n",
            "        [-4.4834e-01],\n",
            "        [ 1.1326e+00],\n",
            "        [ 3.1790e+00],\n",
            "        [-1.3864e+00],\n",
            "        [ 2.1049e+01],\n",
            "        [-1.0707e+00],\n",
            "        [ 1.0623e+01],\n",
            "        [ 7.5625e+00],\n",
            "        [ 1.0516e+01],\n",
            "        [ 1.7003e+01],\n",
            "        [ 2.4797e+01],\n",
            "        [ 8.9807e+00],\n",
            "        [ 2.3563e+01],\n",
            "        [ 1.6376e+01],\n",
            "        [ 1.5207e+01],\n",
            "        [ 1.6610e+01],\n",
            "        [ 1.0082e+01],\n",
            "        [ 1.4867e+01],\n",
            "        [ 1.7288e+01],\n",
            "        [ 1.1992e+01],\n",
            "        [ 1.7658e+01],\n",
            "        [ 3.2718e+01],\n",
            "        [ 2.3316e+01],\n",
            "        [ 2.6508e+01],\n",
            "        [ 1.0603e+01],\n",
            "        [ 2.5352e+01],\n",
            "        [ 1.0700e+01],\n",
            "        [ 1.4120e+01],\n",
            "        [ 2.4144e+00],\n",
            "        [ 1.2774e+01],\n",
            "        [ 2.0870e+01],\n",
            "        [ 1.4281e+01],\n",
            "        [ 1.9617e+01],\n",
            "        [ 1.8515e+01],\n",
            "        [ 2.2169e+01],\n",
            "        [ 1.5272e+00],\n",
            "        [ 3.0498e+01],\n",
            "        [ 1.4293e+01],\n",
            "        [ 7.3584e+00],\n",
            "        [ 2.0185e+01],\n",
            "        [ 2.6686e+01],\n",
            "        [ 1.0345e+01],\n",
            "        [ 2.0216e+01],\n",
            "        [ 2.3956e+01],\n",
            "        [ 1.1578e+01],\n",
            "        [ 1.4240e+01],\n",
            "        [ 1.6931e+01],\n",
            "        [ 4.1934e+00],\n",
            "        [ 2.1056e+01],\n",
            "        [ 1.0390e+01],\n",
            "        [ 1.5822e+01],\n",
            "        [ 1.1147e+01],\n",
            "        [ 1.3391e+01],\n",
            "        [ 2.6024e+01],\n",
            "        [ 1.2371e+01],\n",
            "        [ 1.1575e+01],\n",
            "        [ 1.7542e+01],\n",
            "        [ 2.3377e+01],\n",
            "        [ 1.8074e+01],\n",
            "        [ 8.6222e+00],\n",
            "        [ 6.6817e+00],\n",
            "        [ 2.3282e+01],\n",
            "        [ 1.4510e+01],\n",
            "        [ 1.4752e+01],\n",
            "        [ 2.0813e+01],\n",
            "        [ 1.6982e+01],\n",
            "        [ 3.3504e-01],\n",
            "        [ 3.5330e+00],\n",
            "        [ 6.2162e+00],\n",
            "        [ 9.6909e+00],\n",
            "        [ 1.5391e+01],\n",
            "        [ 6.1051e-01],\n",
            "        [ 9.5954e+00],\n",
            "        [ 1.9946e+01],\n",
            "        [ 2.1946e+01],\n",
            "        [ 4.4547e+00],\n",
            "        [ 1.3573e+01],\n",
            "        [ 6.3689e+00],\n",
            "        [ 1.0111e+01],\n",
            "        [ 2.0843e+00],\n",
            "        [ 1.3573e+01],\n",
            "        [ 1.5958e+01],\n",
            "        [ 1.6146e+01],\n",
            "        [ 2.4492e+00],\n",
            "        [ 1.6569e+01],\n",
            "        [ 8.5070e+00],\n",
            "        [ 1.2540e+01],\n",
            "        [ 1.8267e+01],\n",
            "        [ 7.8013e+00],\n",
            "        [ 1.3594e+01],\n",
            "        [ 8.1845e+00],\n",
            "        [ 1.2104e+01],\n",
            "        [ 1.4867e+01],\n",
            "        [ 1.1984e+01],\n",
            "        [ 1.5817e+01],\n",
            "        [ 1.4494e+00],\n",
            "        [-2.2818e+00],\n",
            "        [ 8.9804e+00],\n",
            "        [ 2.2708e+00],\n",
            "        [ 8.7889e+00],\n",
            "        [ 6.8077e+00],\n",
            "        [ 1.1289e+00],\n",
            "        [ 4.5542e+00],\n",
            "        [ 3.3345e+00],\n",
            "        [ 1.0576e+00],\n",
            "        [ 1.0532e+01],\n",
            "        [ 2.9157e+00],\n",
            "        [ 7.3333e+00],\n",
            "        [ 5.2504e+00],\n",
            "        [-1.0356e+00],\n",
            "        [ 9.2771e-01],\n",
            "        [ 1.6658e+00],\n",
            "        [ 4.9818e+00],\n",
            "        [ 4.9261e+00],\n",
            "        [ 6.1000e+00],\n",
            "        [-1.0095e-01],\n",
            "        [ 5.4421e-01],\n",
            "        [ 7.9446e+00],\n",
            "        [ 7.7917e+00],\n",
            "        [ 1.9286e+00],\n",
            "        [ 4.5260e+00],\n",
            "        [ 3.2108e+00],\n",
            "        [ 3.2343e+00],\n",
            "        [ 5.4056e+00],\n",
            "        [ 1.0244e+01],\n",
            "        [ 5.0111e+00],\n",
            "        [ 2.8308e-01],\n",
            "        [ 2.5257e+00],\n",
            "        [ 3.1359e+00],\n",
            "        [ 4.1204e+00],\n",
            "        [ 6.0546e+00],\n",
            "        [-3.0975e-01],\n",
            "        [ 1.0415e+00],\n",
            "        [ 5.4252e+00],\n",
            "        [ 1.8885e+00],\n",
            "        [ 7.1043e+00],\n",
            "        [ 9.0858e+00],\n",
            "        [ 6.5827e+00],\n",
            "        [ 5.2016e+00],\n",
            "        [ 9.3111e+00],\n",
            "        [-4.9621e-01],\n",
            "        [ 6.6780e+00],\n",
            "        [ 3.9060e+00],\n",
            "        [ 5.7592e+00],\n",
            "        [ 5.7475e+00],\n",
            "        [-2.1757e+00],\n",
            "        [ 5.1379e+00],\n",
            "        [ 4.2400e+00],\n",
            "        [ 2.5643e+00],\n",
            "        [ 4.0913e+00],\n",
            "        [ 1.1614e+01],\n",
            "        [ 4.6192e+00],\n",
            "        [ 1.0338e+01],\n",
            "        [ 4.8598e+00],\n",
            "        [ 6.8250e+00],\n",
            "        [ 4.4302e+00]], device='cuda:0')\n",
            "Predicitons: tensor([0, 0, 0, 0, 0, 0, 0, 0, 0, 0, 0, 0, 0, 0, 0, 0, 0, 0, 0, 0, 0, 0, 0, 0,\n",
            "        0, 0, 0, 0, 0, 0, 0, 0, 0, 0, 0, 0, 0, 0, 0, 0, 0, 0, 0, 0, 0, 0, 0, 0,\n",
            "        0, 0, 0, 0, 0, 0, 0, 0, 0, 0, 0, 0, 0, 0, 0, 0, 0, 0, 0, 0, 0, 0, 0, 0,\n",
            "        0, 0, 0, 0, 0, 0, 0, 0, 0, 0, 0, 0, 0, 0, 0, 0, 0, 0, 0, 0, 0, 0, 0, 0,\n",
            "        0, 0, 0, 0, 0, 0, 0, 0, 0, 0, 0, 0, 0, 0, 0, 0, 0, 0, 0, 0, 0, 0, 0, 0,\n",
            "        0, 0, 0, 0, 0, 0, 0, 0, 0, 0, 0, 0, 0, 0, 0, 0, 0, 0, 0, 0, 0, 0, 0, 0,\n",
            "        0, 0, 0, 0, 0, 0, 0, 0, 0, 0, 0, 0, 0, 0, 0, 0, 0, 0, 0, 0, 0, 0, 0, 0,\n",
            "        0, 0, 0, 0, 0, 0, 0, 0, 0, 0, 0, 0, 1, 1, 1, 1, 1, 1, 1, 1, 1, 1, 1, 1,\n",
            "        1, 1, 1, 1, 1, 1, 1, 1, 1, 1, 1, 1, 1, 1, 1, 1, 1, 1, 1, 1, 1, 1, 1, 1,\n",
            "        1, 1, 1, 1, 1, 1, 1, 1, 1, 1, 1, 1, 1, 1, 1, 1, 1, 1, 1, 1, 1, 1, 1, 1,\n",
            "        1, 1, 1, 1, 1, 1, 1, 1, 1, 1, 1, 1, 1, 1, 1, 1, 1, 1, 1, 1, 1, 1, 1, 1,\n",
            "        1, 1, 1, 1, 1, 1, 1, 1, 1, 1, 1, 1, 1, 1, 1, 1, 1, 1, 1, 1, 1, 1, 1, 1,\n",
            "        1, 1, 1, 1, 1, 1, 1, 1, 1, 1, 1, 1, 1, 1, 1, 1, 1, 1, 1, 1, 1, 1, 1, 1,\n",
            "        1, 1, 1, 1, 1, 1, 1, 1, 1, 1, 1, 1, 1, 1, 1, 1, 1, 1, 1, 1, 1, 1, 1, 1,\n",
            "        1, 1, 1, 1, 1, 1, 1, 1, 1, 1, 1, 1, 1, 1, 1, 1, 1, 1, 1, 1, 1, 1, 1, 1],\n",
            "       device='cuda:0')\n"
          ]
        }
      ],
      "source": [
        "!python evaluate.py --dataset FaceForensics++ --weights_forgery ./models/weights/lipforensics_ff.pth --num_workers 0 --frames_per_clip 10"
      ]
    },
    {
      "cell_type": "code",
      "source": [
        "result = torch.tensor([[ 1.5173e-01], [-7.3938e-01], [-3.4285e+00], [-2.4295e+00], [-5.0361e+00], [ 1.9275e+00], [ 8.9536e-01], [-2.9491e-02],\n",
        "                       [-5.8841e+00], [-3.1643e-01], [-1.1011e+00], [-6.4177e-01], [ 1.0036e+01], [-5.0045e+00], [-1.2606e+00], [-3.3177e+00],\n",
        "                       [ 2.7143e-01], [-1.5668e+00], [-4.0535e+00], [ 4.8033e-01], [-1.5649e+00], [-4.8335e-01], [-1.0466e-01], [ 7.6165e+00],\n",
        "                       [-3.8617e+00], [ 1.3867e+00], [-5.4648e+00], [-3.7342e+00], [ 3.0449e-01], [-8.7643e-01], [-2.7265e+00], [-2.6827e+00],\n",
        "                       [-2.5372e+00], [-2.6767e+00], [-2.7604e+00], [ 4.9957e+00], [-2.4264e+00], [ 1.0106e+00], [-1.6919e+00], [-2.6370e+00],\n",
        "                       [-3.5365e+00], [-3.3226e+00], [-3.8745e+00], [-2.1283e+00], [-1.2986e+00], [ 1.7159e+00], [ 2.6694e+00], [-4.1847e+00],\n",
        "                       [-2.3271e+00], [-4.5194e+00], [-1.3425e+00], [-1.0429e+00], [-1.4018e+00], [-2.3202e-01], [-1.9730e+00], [-3.4316e+00],\n",
        "                       [-3.2788e+00], [-1.5521e+00], [ 1.1706e+00], [ 1.6302e+00], [ 2.5363e+00], [-2.7493e+00], [-6.5298e+00], [-5.3593e+00],\n",
        "                       [-1.7203e+00], [ 2.8044e-01], [-3.3482e+00], [ 7.1748e-01], [-2.5112e+00], [-3.7563e+00], [ 5.7746e+00], [-6.5862e+00],\n",
        "                       [-4.6514e+00], [-5.2133e+00], [-3.3153e+00], [-1.2858e+00], [ 1.2368e+00], [-1.8476e+00], [-3.8551e+00], [-4.8702e+00],\n",
        "                       [-1.1307e+00], [ 2.2070e-01], [-7.9978e-01], [ 6.8927e-01], [ 1.9443e+00], [-4.3171e+00], [-2.0748e+00], [ 9.2644e-01],\n",
        "                       [ 1.1981e+00], [ 9.2554e-01], [-2.7151e+00], [-3.7413e+00], [-5.9313e-01], [-3.3267e+00], [-3.3278e+00], [-2.6118e+00],\n",
        "                       [-5.0942e+00], [-3.9507e+00], [-5.5626e+00], [-5.8097e+00], [-1.9823e+00], [-3.4821e+00], [-2.1615e+00], [-3.0763e+00],\n",
        "                       [-6.0674e+00], [-5.3603e+00], [-6.8078e+00], [-3.6108e+00], [-3.3234e+00], [-2.8595e+00], [-2.2485e+00], [-4.5736e+00],\n",
        "                       [-2.9676e+00], [-3.1607e+00], [-1.2864e+00], [ 3.1983e+00], [-3.0103e+00], [-8.0600e-01], [ 8.6838e-01], [-1.3589e+00],\n",
        "                       [-1.8400e+00], [-5.3704e+00], [-5.9670e-01], [-3.4117e+00], [-4.7080e+00], [-2.6635e+00], [-5.3418e+00], [-5.1644e+00],\n",
        "                       [-2.0275e+00], [-3.3080e+00], [-3.8505e+00], [-3.4539e+00], [-1.2618e+00], [-3.8143e+00], [-8.3669e-01], [-3.4388e+00],\n",
        "                       [-4.0098e+00], [-3.6239e+00], [-3.0148e+00], [-2.9086e+00], [-3.8647e+00], [-1.1275e+00], [-2.9633e+00], [-4.9223e+00],\n",
        "                       [-3.0542e+00], [-6.4269e+00], [-5.1063e+00], [-2.8075e+00], [-1.7853e+00], [-2.6847e+00], [-2.9279e+00], [-5.2932e+00],\n",
        "                       [-2.1992e+00], [-4.2661e+00], [-5.1030e+00], [-1.2893e+00], [-6.1989e+00], [-1.3334e+00], [-3.1718e+00], [-2.1345e+00],\n",
        "                       [-5.1169e+00], [-2.5956e+00], [-3.5804e+00], [-5.5942e+00], [ 7.6671e-01], [-4.3405e+00], [-3.2832e+00], [-5.1463e+00],\n",
        "                       [-1.2382e+00], [-3.7266e+00], [-2.5226e+00], [-2.2730e+00], [-2.5624e+00], [-1.5623e-01], [-1.7535e+00], [-5.0546e+00],\n",
        "                       [-2.6872e+00], [-6.3768e+00], [-2.6272e+00], [-1.8816e+00], [-2.3144e+00], [-2.9540e+00], [-2.2704e-01], [-2.6966e+00],\n",
        "                       [ 5.5449e-01], [ 6.4699e-01], [ 6.4854e+00], [-1.3198e+00], [ 2.9868e+00], [ 5.5826e+00], [ 1.1065e+01], [-8.8926e-01],\n",
        "                       [-7.4453e-01], [ 8.8029e+00], [-4.9729e+00], [ 4.4059e+00], [ 1.1057e+01], [ 3.8179e+00], [-2.0870e+00], [ 3.6394e+00],\n",
        "                       [ 1.0004e+00], [ 2.8764e+00], [ 3.1208e+00], [ 8.9335e+00], [-4.4834e-01], [ 1.1326e+00], [ 3.1790e+00], [-1.3864e+00],\n",
        "                       [ 2.1049e+01], [-1.0707e+00], [ 1.0623e+01], [ 7.5625e+00], [ 1.0516e+01], [ 1.7003e+01], [ 2.4797e+01], [ 8.9807e+00],\n",
        "                       [ 2.3563e+01], [ 1.6376e+01], [ 1.5207e+01], [ 1.6610e+01], [ 1.0082e+01], [ 1.4867e+01], [ 1.7288e+01], [ 1.1992e+01],\n",
        "                       [ 1.7658e+01], [ 3.2718e+01], [ 2.3316e+01], [ 2.6508e+01], [ 1.0603e+01], [ 2.5352e+01], [ 1.0700e+01], [ 1.4120e+01],\n",
        "                       [ 2.4144e+00], [ 1.2774e+01], [ 2.0870e+01], [ 1.4281e+01], [ 1.9617e+01], [ 1.8515e+01], [ 2.2169e+01], [ 1.5272e+00],\n",
        "                       [ 3.0498e+01], [ 1.4293e+01], [ 7.3584e+00], [ 2.0185e+01], [ 2.6686e+01], [ 1.0345e+01], [ 2.0216e+01], [ 2.3956e+01],\n",
        "                       [ 1.1578e+01], [ 1.4240e+01], [ 1.6931e+01], [ 4.1934e+00], [ 2.1056e+01], [ 1.0390e+01], [ 1.5822e+01], [ 1.1147e+01],\n",
        "                       [ 1.3391e+01], [ 2.6024e+01], [ 1.2371e+01], [ 1.1575e+01], [ 1.7542e+01], [ 2.3377e+01], [ 1.8074e+01], [ 8.6222e+00],\n",
        "                       [ 6.6817e+00], [ 2.3282e+01], [ 1.4510e+01], [ 1.4752e+01], [ 2.0813e+01], [ 1.6982e+01], [ 3.3504e-01], [ 3.5330e+00],\n",
        "                       [ 6.2162e+00], [ 9.6909e+00], [ 1.5391e+01], [ 6.1051e-01], [ 9.5954e+00], [ 1.9946e+01], [ 2.1946e+01], [ 4.4547e+00],\n",
        "                       [ 1.3573e+01], [ 6.3689e+00], [ 1.0111e+01], [ 2.0843e+00], [ 1.3573e+01], [ 1.5958e+01], [ 1.6146e+01], [ 2.4492e+00],\n",
        "                       [ 1.6569e+01], [ 8.5070e+00], [ 1.2540e+01], [ 1.8267e+01], [ 7.8013e+00], [ 1.3594e+01], [ 8.1845e+00], [ 1.2104e+01],\n",
        "                       [ 1.4867e+01], [ 1.1984e+01], [ 1.5817e+01], [ 1.4494e+00], [-2.2818e+00], [ 8.9804e+00], [ 2.2708e+00], [ 8.7889e+00],\n",
        "                       [ 6.8077e+00], [ 1.1289e+00], [ 4.5542e+00], [ 3.3345e+00], [ 1.0576e+00], [ 1.0532e+01], [ 2.9157e+00], [ 7.3333e+00],\n",
        "                       [ 5.2504e+00], [-1.0356e+00], [ 9.2771e-01], [ 1.6658e+00], [ 4.9818e+00], [ 4.9261e+00], [ 6.1000e+00], [-1.0095e-01],\n",
        "                       [ 5.4421e-01], [ 7.9446e+00], [ 7.7917e+00], [ 1.9286e+00], [ 4.5260e+00], [ 3.2108e+00], [ 3.2343e+00], [ 5.4056e+00],\n",
        "                       [ 1.0244e+01], [ 5.0111e+00], [ 2.8308e-01], [ 2.5257e+00], [ 3.1359e+00], [ 4.1204e+00], [ 6.0546e+00], [-3.0975e-01],\n",
        "                       [ 1.0415e+00], [ 5.4252e+00], [ 1.8885e+00], [ 7.1043e+00], [ 9.0858e+00], [ 6.5827e+00], [ 5.2016e+00], [ 9.3111e+00],\n",
        "                       [-4.9621e-01], [ 6.6780e+00], [ 3.9060e+00], [ 5.7592e+00], [ 5.7475e+00], [-2.1757e+00], [ 5.1379e+00], [ 4.2400e+00],\n",
        "                       [ 2.5643e+00], [ 4.0913e+00], [ 1.1614e+01], [ 4.6192e+00], [ 1.0338e+01], [ 4.8598e+00], [ 6.8250e+00], [ 4.4302e+00]])"
      ],
      "metadata": {
        "id": "FlK_GiyQKRPg"
      },
      "execution_count": null,
      "outputs": []
    },
    {
      "cell_type": "code",
      "source": [
        "sigmoid_results = calculate_sigmoid(result)\n",
        "score_real, score_fake = calculate_scores(sigmoid_results, 180)"
      ],
      "metadata": {
        "id": "G6JwCl7wfE9P"
      },
      "execution_count": null,
      "outputs": []
    },
    {
      "cell_type": "code",
      "source": [
        "score_real"
      ],
      "metadata": {
        "colab": {
          "base_uri": "https://localhost:8080/"
        },
        "id": "yGpac--nfWM_",
        "outputId": "95f73bd6-92d0-4415-ef07-bcf1392e81aa"
      },
      "execution_count": null,
      "outputs": [
        {
          "output_type": "execute_result",
          "data": {
            "text/plain": [
              "array([2.99795896e-01, 1.49391711e-01, 1.17916707e-02, 3.13861258e-02,\n",
              "       2.38516275e-03, 7.16567814e-01, 4.73863810e-01, 2.63182789e-01,\n",
              "       1.02288998e-03, 2.11412862e-01, 1.08989954e-01, 1.62224352e-01,\n",
              "       9.99880910e-01, 2.46154889e-03, 9.44390297e-02, 1.31551456e-02,\n",
              "       3.25508595e-01, 7.13059157e-02, 6.34640455e-03, 3.72929394e-01,\n",
              "       7.14318529e-02, 1.84921950e-01, 2.48867780e-01, 9.98663664e-01,\n",
              "       7.67791178e-03, 5.95488071e-01, 1.55488157e-03, 8.71289521e-03,\n",
              "       3.32808465e-01, 1.32799461e-01, 2.35108882e-02, 2.45377198e-02,\n",
              "       2.82721091e-02, 2.46817395e-02, 2.27450505e-02, 9.81937647e-01,\n",
              "       3.14805135e-02, 5.02649963e-01, 6.34530187e-02, 2.56556738e-02,\n",
              "       1.05973240e-02, 1.30916834e-02, 7.58099975e-03, 4.19548899e-02,\n",
              "       9.12389755e-02, 6.71703517e-01, 8.41495752e-01, 5.57041354e-03,\n",
              "       3.46531086e-02, 3.99225019e-03, 8.76637623e-02, 1.14771746e-01,\n",
              "       8.30355212e-02, 2.25828081e-01, 4.86606546e-02, 1.17556024e-02,\n",
              "       1.36698298e-02, 7.22855404e-02, 5.42546868e-01, 6.52534842e-01,\n",
              "       8.22926223e-01, 2.29930896e-02, 5.36557578e-04, 1.72758778e-03,\n",
              "       6.17860705e-02, 3.27489913e-01, 1.27650145e-02, 4.29836094e-01,\n",
              "       2.89952345e-02, 8.52407701e-03, 9.91629243e-01, 5.07148099e-04,\n",
              "       3.50030023e-03, 1.99861499e-03, 1.31863374e-02, 9.23058540e-02,\n",
              "       5.58924913e-01, 5.48055060e-02, 7.72836385e-03, 2.81436532e-03,\n",
              "       1.06148548e-01, 3.14470768e-01, 1.41877845e-01, 4.22936589e-01,\n",
              "       7.19967425e-01, 4.88300249e-03, 4.41587828e-02, 4.81618315e-01,\n",
              "       5.49363673e-01, 4.81393546e-01, 2.37740353e-02, 8.65178555e-03,\n",
              "       1.68943986e-01, 1.30388141e-02, 1.30246691e-02, 2.62931976e-02,\n",
              "       2.25083600e-03, 7.02870172e-03, 1.41021749e-03, 1.10180851e-03,\n",
              "       4.82319333e-02, 1.11831604e-02, 4.06405292e-02, 1.66869629e-02,\n",
              "       8.51720572e-04, 1.72586401e-03, 4.06386331e-04, 9.84595530e-03,\n",
              "       1.30813504e-02, 2.06434056e-02, 3.73808183e-02, 3.78242740e-03,\n",
              "       1.85675081e-02, 1.53571190e-02, 9.22556072e-02, 9.00096714e-01,\n",
              "       1.78051908e-02, 1.41122267e-01, 4.67142403e-01, 8.63609463e-02,\n",
              "       5.52005358e-02, 1.70855050e-03, 1.68443367e-01, 1.19890478e-02,\n",
              "       3.30832275e-03, 2.50014998e-02, 1.75803271e-03, 2.09856639e-03,\n",
              "       4.61988673e-02, 1.32816639e-02, 7.76371639e-03, 1.14993332e-02,\n",
              "       9.43364725e-02, 8.04760959e-03, 1.37443244e-01, 1.16722537e-02,\n",
              "       6.62801461e-03, 9.71905794e-03, 1.77266579e-02, 1.96737535e-02,\n",
              "       7.65508739e-03, 1.06452554e-01, 1.86460298e-02, 2.67187366e-03,\n",
              "       1.70534849e-02, 5.94675483e-04, 2.22382601e-03, 2.17213295e-02,\n",
              "       5.81237227e-02, 2.44898926e-02, 1.93049498e-02, 1.84542220e-03,\n",
              "       3.91958430e-02, 5.13718324e-03, 2.23115971e-03, 9.20130163e-02,\n",
              "       7.46849168e-04, 8.83943066e-02, 1.51901776e-02, 4.17063832e-02,\n",
              "       2.20042933e-03, 2.67111473e-02, 1.01467837e-02, 1.36641134e-03,\n",
              "       4.41940546e-01, 4.77060582e-03, 1.36106275e-02, 2.13681487e-03,\n",
              "       9.63721871e-02, 8.77878536e-03, 2.86759902e-02, 3.65091525e-02,\n",
              "       2.75879595e-02, 2.39352986e-01, 5.98892868e-02, 2.34154542e-03,\n",
              "       2.44302377e-02, 6.25208428e-04, 2.59017944e-02, 5.30706793e-02])"
            ]
          },
          "metadata": {},
          "execution_count": 25
        }
      ]
    },
    {
      "cell_type": "code",
      "source": [
        "score_fake"
      ],
      "metadata": {
        "colab": {
          "base_uri": "https://localhost:8080/"
        },
        "id": "HQUhG2e8fXeB",
        "outputId": "00ffce42-7957-406c-defa-5c8a7e4860d8"
      },
      "execution_count": null,
      "outputs": [
        {
          "output_type": "execute_result",
          "data": {
            "text/plain": [
              "array([0.03508048, 0.01881697, 0.2266999 , 0.0242072 , 0.39042884,\n",
              "       0.41265273, 0.99587017, 0.08949637, 0.87940413, 0.98987526,\n",
              "       0.99995744, 0.13132887, 0.14873846, 0.99959165, 0.00254038,\n",
              "       0.96788847, 0.99995708, 0.94363546, 0.0436467 , 0.93335468,\n",
              "       0.50009996, 0.8671971 , 0.89290845, 0.99964154, 0.19025719,\n",
              "       0.5331015 , 0.8983478 , 0.08421566, 1.        , 0.11197739,\n",
              "       0.99993384, 0.99858958, 0.99992633, 0.99999988, 1.        ,\n",
              "       0.99965811, 1.        , 0.99999976, 0.99999928, 0.99999988,\n",
              "       0.99988627, 0.99999905, 0.99999988, 0.99998319, 1.        ,\n",
              "       1.        , 1.        , 1.        , 0.99993253, 1.        ,\n",
              "       0.99993873, 0.99999797, 0.8044591 , 0.99999225, 1.        ,\n",
              "       0.99999833, 1.        , 1.        , 1.        , 0.62882984,\n",
              "       1.        , 0.99999833, 0.99827087, 1.        , 1.        ,\n",
              "       0.99991262, 1.        , 1.        , 0.99997449, 0.99999821,\n",
              "       0.99999988, 0.96058518, 1.        , 0.99991643, 0.99999964,\n",
              "       0.99996078, 0.99999583, 1.        , 0.99998844, 0.99997449,\n",
              "       0.99999988, 1.        , 1.        , 0.99951077, 0.99660385,\n",
              "       1.        , 0.99999869, 0.99999893, 1.        , 0.99999988,\n",
              "       0.33962631, 0.92642307, 0.99460137, 0.99983191, 0.9999994 ,\n",
              "       0.40384007, 0.99981505, 1.        , 1.        , 0.96937102,\n",
              "       0.99999654, 0.99536234, 0.99988961, 0.74730688, 0.99999654,\n",
              "       0.99999964, 0.99999976, 0.80987531, 0.99999988, 0.9994511 ,\n",
              "       0.99999022, 1.        , 0.99888891, 0.99999666, 0.99924231,\n",
              "       0.99998498, 0.99999905, 0.99998307, 0.99999964, 0.61049658,\n",
              "       0.03620086, 0.99965799, 0.78087968, 0.99958593, 0.99700469,\n",
              "       0.53218043, 0.97219115, 0.91169435, 0.51439601, 0.99992752,\n",
              "       0.87165815, 0.99822694, 0.98594195, 0.11551552, 0.48193541,\n",
              "       0.6605621 , 0.98168945, 0.98066092, 0.99394023, 0.24956197,\n",
              "       0.38798502, 0.99903715, 0.99887818, 0.71679115, 0.97141856,\n",
              "       0.90121514, 0.90328759, 0.98793846, 0.99990332, 0.98220879,\n",
              "       0.32807156, 0.82137632, 0.89434385, 0.95772642, 0.99366051,\n",
              "       0.21252869, 0.51037347, 0.98816979, 0.70858049, 0.99777168,\n",
              "       0.9996922 , 0.99625176, 0.98524922, 0.99975425, 0.18299147,\n",
              "       0.99659133, 0.94814223, 0.99150038, 0.99140126, 0.04009049,\n",
              "       0.9842943 , 0.96231204, 0.8269695 , 0.95653248, 0.99997544,\n",
              "       0.97389561, 0.99991202, 0.97936261, 0.99705589, 0.96863514])"
            ]
          },
          "metadata": {},
          "execution_count": 26
        }
      ]
    },
    {
      "cell_type": "markdown",
      "source": [
        "# DFDC"
      ],
      "metadata": {
        "id": "tKjaYo2cC9Z5"
      }
    },
    {
      "cell_type": "code",
      "source": [
        "!pip install face-alignment\n",
        "import face_alignment\n",
        "import json\n",
        "\n",
        "STD_SIZE = (256, 256)\n",
        "STABLE_POINTS = [33, 36, 39, 42, 45]\n",
        "mean_face_landmarks = np.load(\"/content/LipForensics/preprocessing/20words_mean_face.npy\")"
      ],
      "metadata": {
        "id": "HuDOX7XfDFad",
        "colab": {
          "base_uri": "https://localhost:8080/"
        },
        "outputId": "1bccf710-97a9-4c10-a4dc-4a036877a5be"
      },
      "execution_count": null,
      "outputs": [
        {
          "output_type": "stream",
          "name": "stdout",
          "text": [
            "Requirement already satisfied: face-alignment in /usr/local/lib/python3.10/dist-packages (1.4.1)\n",
            "Requirement already satisfied: torch in /usr/local/lib/python3.10/dist-packages (from face-alignment) (2.2.1+cu121)\n",
            "Requirement already satisfied: numpy in /usr/local/lib/python3.10/dist-packages (from face-alignment) (1.25.2)\n",
            "Requirement already satisfied: scipy>=0.17 in /usr/local/lib/python3.10/dist-packages (from face-alignment) (1.11.4)\n",
            "Requirement already satisfied: scikit-image in /usr/local/lib/python3.10/dist-packages (from face-alignment) (0.19.3)\n",
            "Requirement already satisfied: opencv-python in /usr/local/lib/python3.10/dist-packages (from face-alignment) (4.8.0.76)\n",
            "Requirement already satisfied: tqdm in /usr/local/lib/python3.10/dist-packages (from face-alignment) (4.66.2)\n",
            "Requirement already satisfied: numba in /usr/local/lib/python3.10/dist-packages (from face-alignment) (0.58.1)\n",
            "Requirement already satisfied: llvmlite<0.42,>=0.41.0dev0 in /usr/local/lib/python3.10/dist-packages (from numba->face-alignment) (0.41.1)\n",
            "Requirement already satisfied: networkx>=2.2 in /usr/local/lib/python3.10/dist-packages (from scikit-image->face-alignment) (3.3)\n",
            "Requirement already satisfied: pillow!=7.1.0,!=7.1.1,!=8.3.0,>=6.1.0 in /usr/local/lib/python3.10/dist-packages (from scikit-image->face-alignment) (9.4.0)\n",
            "Requirement already satisfied: imageio>=2.4.1 in /usr/local/lib/python3.10/dist-packages (from scikit-image->face-alignment) (2.31.6)\n",
            "Requirement already satisfied: tifffile>=2019.7.26 in /usr/local/lib/python3.10/dist-packages (from scikit-image->face-alignment) (2024.4.24)\n",
            "Requirement already satisfied: PyWavelets>=1.1.1 in /usr/local/lib/python3.10/dist-packages (from scikit-image->face-alignment) (1.6.0)\n",
            "Requirement already satisfied: packaging>=20.0 in /usr/local/lib/python3.10/dist-packages (from scikit-image->face-alignment) (24.0)\n",
            "Requirement already satisfied: filelock in /usr/local/lib/python3.10/dist-packages (from torch->face-alignment) (3.13.4)\n",
            "Requirement already satisfied: typing-extensions>=4.8.0 in /usr/local/lib/python3.10/dist-packages (from torch->face-alignment) (4.11.0)\n",
            "Requirement already satisfied: sympy in /usr/local/lib/python3.10/dist-packages (from torch->face-alignment) (1.12)\n",
            "Requirement already satisfied: jinja2 in /usr/local/lib/python3.10/dist-packages (from torch->face-alignment) (3.1.3)\n",
            "Requirement already satisfied: fsspec in /usr/local/lib/python3.10/dist-packages (from torch->face-alignment) (2023.6.0)\n",
            "Requirement already satisfied: nvidia-cuda-nvrtc-cu12==12.1.105 in /usr/local/lib/python3.10/dist-packages (from torch->face-alignment) (12.1.105)\n",
            "Requirement already satisfied: nvidia-cuda-runtime-cu12==12.1.105 in /usr/local/lib/python3.10/dist-packages (from torch->face-alignment) (12.1.105)\n",
            "Requirement already satisfied: nvidia-cuda-cupti-cu12==12.1.105 in /usr/local/lib/python3.10/dist-packages (from torch->face-alignment) (12.1.105)\n",
            "Requirement already satisfied: nvidia-cudnn-cu12==8.9.2.26 in /usr/local/lib/python3.10/dist-packages (from torch->face-alignment) (8.9.2.26)\n",
            "Requirement already satisfied: nvidia-cublas-cu12==12.1.3.1 in /usr/local/lib/python3.10/dist-packages (from torch->face-alignment) (12.1.3.1)\n",
            "Requirement already satisfied: nvidia-cufft-cu12==11.0.2.54 in /usr/local/lib/python3.10/dist-packages (from torch->face-alignment) (11.0.2.54)\n",
            "Requirement already satisfied: nvidia-curand-cu12==10.3.2.106 in /usr/local/lib/python3.10/dist-packages (from torch->face-alignment) (10.3.2.106)\n",
            "Requirement already satisfied: nvidia-cusolver-cu12==11.4.5.107 in /usr/local/lib/python3.10/dist-packages (from torch->face-alignment) (11.4.5.107)\n",
            "Requirement already satisfied: nvidia-cusparse-cu12==12.1.0.106 in /usr/local/lib/python3.10/dist-packages (from torch->face-alignment) (12.1.0.106)\n",
            "Requirement already satisfied: nvidia-nccl-cu12==2.19.3 in /usr/local/lib/python3.10/dist-packages (from torch->face-alignment) (2.19.3)\n",
            "Requirement already satisfied: nvidia-nvtx-cu12==12.1.105 in /usr/local/lib/python3.10/dist-packages (from torch->face-alignment) (12.1.105)\n",
            "Requirement already satisfied: triton==2.2.0 in /usr/local/lib/python3.10/dist-packages (from torch->face-alignment) (2.2.0)\n",
            "Requirement already satisfied: nvidia-nvjitlink-cu12 in /usr/local/lib/python3.10/dist-packages (from nvidia-cusolver-cu12==11.4.5.107->torch->face-alignment) (12.4.127)\n",
            "Requirement already satisfied: MarkupSafe>=2.0 in /usr/local/lib/python3.10/dist-packages (from jinja2->torch->face-alignment) (2.1.5)\n",
            "Requirement already satisfied: mpmath>=0.19 in /usr/local/lib/python3.10/dist-packages (from sympy->torch->face-alignment) (1.3.0)\n"
          ]
        }
      ]
    },
    {
      "cell_type": "code",
      "source": [
        "dfdc_dir = \"/content/deepfake_detection_datasets/DFDC\"\n",
        "dataset = \"DFDC\""
      ],
      "metadata": {
        "id": "fqJJmNv_QZRy"
      },
      "execution_count": null,
      "outputs": []
    },
    {
      "cell_type": "code",
      "source": [
        "# videos_per_class can not be bigger then 77 because there are only 77 real videos\n",
        "def detect_mouths_dfdc(dfdc_folder, videos_per_class=30):\n",
        "  deepfake_folder = os.path.join(dfdc_folder, \"train_sample_videos\")\n",
        "  metadata_file = deepfake_folder + \"/metadata.json\"\n",
        "  video_count = {'REAL': 0, 'FAKE': 0}\n",
        "  real_filename_list = []\n",
        "  fake_filename_list = []\n",
        "\n",
        "  pbar = tqdm(total=videos_per_class*2)\n",
        "\n",
        "  with open(metadata_file, 'r') as file:\n",
        "      metadata = json.load(file)\n",
        "\n",
        "  for deepfake, properties in metadata.items():\n",
        "    if video_count[properties['label']] < videos_per_class:\n",
        "      vid_path = os.path.join(deepfake_folder, deepfake)\n",
        "\n",
        "      if properties['label'] == \"FAKE\":\n",
        "        video_cap = cv2.VideoCapture(vid_path)\n",
        "        target_dir = os.path.join(dfdc_folder, \"fake\", \"cropped_mouths\", deepfake.replace('.mp4', ''))\n",
        "        fake_filename_list.append(deepfake.replace('.mp4', ''))\n",
        "        crop_mouths(video_cap, target_dir, \"cuda\")\n",
        "        video_count['FAKE'] += 1\n",
        "      else:\n",
        "        video_cap = cv2.VideoCapture(vid_path)\n",
        "        target_dir = os.path.join(dfdc_folder, \"real\", \"cropped_mouths\", deepfake.replace('.mp4', ''))\n",
        "        real_filename_list.append(deepfake.replace('.mp4', ''))\n",
        "        crop_mouths(video_cap, target_dir, \"cuda\")\n",
        "        video_count['REAL'] += 1\n",
        "      pbar.update(1)\n",
        "\n",
        "  pbar.close()\n",
        "  return real_filename_list, fake_filename_list"
      ],
      "metadata": {
        "id": "lMhbPpJ4QPiK"
      },
      "execution_count": null,
      "outputs": []
    },
    {
      "cell_type": "code",
      "source": [
        "real_dfdc_list, fake_dfdc_list = detect_mouths_dfdc(dfdc_dir)"
      ],
      "metadata": {
        "colab": {
          "base_uri": "https://localhost:8080/"
        },
        "id": "5rZQ-X_WS8UG",
        "outputId": "511b554a-e96d-49c7-b2aa-b235701b4ade"
      },
      "execution_count": null,
      "outputs": [
        {
          "output_type": "stream",
          "name": "stderr",
          "text": [
            "  2%|▏         | 1/60 [01:37<1:35:29, 97.10s/it]"
          ]
        },
        {
          "output_type": "stream",
          "name": "stdout",
          "text": [
            "Extracted Mouths: /content/deepfake_detection_datasets/DFDC/fake/cropped_mouths/aagfhgtpmv\n"
          ]
        },
        {
          "output_type": "stream",
          "name": "stderr",
          "text": [
            "\r  3%|▎         | 2/60 [02:45<1:17:20, 80.01s/it]"
          ]
        },
        {
          "output_type": "stream",
          "name": "stdout",
          "text": [
            "Extracted Mouths: /content/deepfake_detection_datasets/DFDC/fake/cropped_mouths/aapnvogymq\n"
          ]
        },
        {
          "output_type": "stream",
          "name": "stderr",
          "text": [
            "\r  5%|▌         | 3/60 [03:57<1:12:34, 76.40s/it]"
          ]
        },
        {
          "output_type": "stream",
          "name": "stdout",
          "text": [
            "Extracted Mouths: /content/deepfake_detection_datasets/DFDC/real/cropped_mouths/abarnvbtwb\n"
          ]
        },
        {
          "output_type": "stream",
          "name": "stderr",
          "text": [
            "\r  7%|▋         | 4/60 [05:00<1:06:38, 71.40s/it]"
          ]
        },
        {
          "output_type": "stream",
          "name": "stdout",
          "text": [
            "Extracted Mouths: /content/deepfake_detection_datasets/DFDC/fake/cropped_mouths/abofeumbvv\n"
          ]
        },
        {
          "output_type": "stream",
          "name": "stderr",
          "text": [
            "\r  8%|▊         | 5/60 [06:10<1:04:43, 70.61s/it]"
          ]
        },
        {
          "output_type": "stream",
          "name": "stdout",
          "text": [
            "Extracted Mouths: /content/deepfake_detection_datasets/DFDC/fake/cropped_mouths/abqwwspghj\n"
          ]
        },
        {
          "output_type": "stream",
          "name": "stderr",
          "text": [
            "\r 10%|█         | 6/60 [07:32<1:07:06, 74.56s/it]"
          ]
        },
        {
          "output_type": "stream",
          "name": "stdout",
          "text": [
            "Extracted Mouths: /content/deepfake_detection_datasets/DFDC/fake/cropped_mouths/acifjvzvpm\n"
          ]
        },
        {
          "output_type": "stream",
          "name": "stderr",
          "text": [
            "\r 12%|█▏        | 7/60 [08:43<1:04:55, 73.50s/it]"
          ]
        },
        {
          "output_type": "stream",
          "name": "stdout",
          "text": [
            "Extracted Mouths: /content/deepfake_detection_datasets/DFDC/fake/cropped_mouths/acqfdwsrhi\n"
          ]
        },
        {
          "output_type": "stream",
          "name": "stderr",
          "text": [
            "\r 13%|█▎        | 8/60 [10:07<1:06:30, 76.75s/it]"
          ]
        },
        {
          "output_type": "stream",
          "name": "stdout",
          "text": [
            "Extracted Mouths: /content/deepfake_detection_datasets/DFDC/fake/cropped_mouths/acxnxvbsxk\n"
          ]
        },
        {
          "output_type": "stream",
          "name": "stderr",
          "text": [
            "\r 15%|█▌        | 9/60 [11:35<1:08:17, 80.34s/it]"
          ]
        },
        {
          "output_type": "stream",
          "name": "stdout",
          "text": [
            "Extracted Mouths: /content/deepfake_detection_datasets/DFDC/fake/cropped_mouths/acxwigylke\n"
          ]
        },
        {
          "output_type": "stream",
          "name": "stderr",
          "text": [
            "\r 17%|█▋        | 10/60 [12:34<1:01:28, 73.78s/it]"
          ]
        },
        {
          "output_type": "stream",
          "name": "stdout",
          "text": [
            "Extracted Mouths: /content/deepfake_detection_datasets/DFDC/fake/cropped_mouths/aczrgyricp\n"
          ]
        },
        {
          "output_type": "stream",
          "name": "stderr",
          "text": [
            "\r 18%|█▊        | 11/60 [13:47<59:52, 73.32s/it]  "
          ]
        },
        {
          "output_type": "stream",
          "name": "stdout",
          "text": [
            "Extracted Mouths: /content/deepfake_detection_datasets/DFDC/fake/cropped_mouths/adhsbajydo\n"
          ]
        },
        {
          "output_type": "stream",
          "name": "stderr",
          "text": [
            "\r 20%|██        | 12/60 [15:11<1:01:21, 76.70s/it]"
          ]
        },
        {
          "output_type": "stream",
          "name": "stdout",
          "text": [
            "Extracted Mouths: /content/deepfake_detection_datasets/DFDC/fake/cropped_mouths/adohikbdaz\n"
          ]
        },
        {
          "output_type": "stream",
          "name": "stderr",
          "text": [
            "\r 22%|██▏       | 13/60 [16:31<1:00:56, 77.79s/it]"
          ]
        },
        {
          "output_type": "stream",
          "name": "stdout",
          "text": [
            "Extracted Mouths: /content/deepfake_detection_datasets/DFDC/fake/cropped_mouths/adylbeequz\n"
          ]
        },
        {
          "output_type": "stream",
          "name": "stderr",
          "text": [
            "\r 23%|██▎       | 14/60 [17:52<1:00:17, 78.63s/it]"
          ]
        },
        {
          "output_type": "stream",
          "name": "stdout",
          "text": [
            "Extracted Mouths: /content/deepfake_detection_datasets/DFDC/real/cropped_mouths/aelfnikyqj\n"
          ]
        },
        {
          "output_type": "stream",
          "name": "stderr",
          "text": [
            "\r 25%|██▌       | 15/60 [19:09<58:39, 78.22s/it]  "
          ]
        },
        {
          "output_type": "stream",
          "name": "stdout",
          "text": [
            "Extracted Mouths: /content/deepfake_detection_datasets/DFDC/fake/cropped_mouths/aelzhcnwgf\n"
          ]
        },
        {
          "output_type": "stream",
          "name": "stderr",
          "text": [
            "\r 27%|██▋       | 16/60 [20:32<58:25, 79.67s/it]"
          ]
        },
        {
          "output_type": "stream",
          "name": "stdout",
          "text": [
            "Extracted Mouths: /content/deepfake_detection_datasets/DFDC/fake/cropped_mouths/aettqgevhz\n"
          ]
        },
        {
          "output_type": "stream",
          "name": "stderr",
          "text": [
            "\r 28%|██▊       | 17/60 [21:44<55:19, 77.21s/it]"
          ]
        },
        {
          "output_type": "stream",
          "name": "stdout",
          "text": [
            "Extracted Mouths: /content/deepfake_detection_datasets/DFDC/fake/cropped_mouths/aevrfsexku\n"
          ]
        },
        {
          "output_type": "stream",
          "name": "stderr",
          "text": [
            "\r 30%|███       | 18/60 [23:16<57:11, 81.71s/it]"
          ]
        },
        {
          "output_type": "stream",
          "name": "stdout",
          "text": [
            "Extracted Mouths: /content/deepfake_detection_datasets/DFDC/real/cropped_mouths/afoovlsmtx\n"
          ]
        },
        {
          "output_type": "stream",
          "name": "stderr",
          "text": [
            "\r 32%|███▏      | 19/60 [24:22<52:44, 77.19s/it]"
          ]
        },
        {
          "output_type": "stream",
          "name": "stdout",
          "text": [
            "Extracted Mouths: /content/deepfake_detection_datasets/DFDC/fake/cropped_mouths/agdkmztvby\n"
          ]
        },
        {
          "output_type": "stream",
          "name": "stderr",
          "text": [
            "\r 33%|███▎      | 20/60 [25:40<51:32, 77.31s/it]"
          ]
        },
        {
          "output_type": "stream",
          "name": "stdout",
          "text": [
            "Extracted Mouths: /content/deepfake_detection_datasets/DFDC/fake/cropped_mouths/agqphdxmwt\n"
          ]
        },
        {
          "output_type": "stream",
          "name": "stderr",
          "text": [
            "/usr/local/lib/python3.10/dist-packages/face_alignment/api.py:147: UserWarning: No faces were detected.\n",
            "  warnings.warn(\"No faces were detected.\")\n",
            " 35%|███▌      | 21/60 [27:04<51:28, 79.19s/it]"
          ]
        },
        {
          "output_type": "stream",
          "name": "stdout",
          "text": [
            "Extracted Mouths: /content/deepfake_detection_datasets/DFDC/real/cropped_mouths/agrmhtjdlk\n"
          ]
        },
        {
          "output_type": "stream",
          "name": "stderr",
          "text": [
            "\r 37%|███▋      | 22/60 [28:35<52:24, 82.74s/it]"
          ]
        },
        {
          "output_type": "stream",
          "name": "stdout",
          "text": [
            "Extracted Mouths: /content/deepfake_detection_datasets/DFDC/fake/cropped_mouths/ahbweevwpv\n"
          ]
        },
        {
          "output_type": "stream",
          "name": "stderr",
          "text": [
            "\r 38%|███▊      | 23/60 [30:05<52:21, 84.92s/it]"
          ]
        },
        {
          "output_type": "stream",
          "name": "stdout",
          "text": [
            "Extracted Mouths: /content/deepfake_detection_datasets/DFDC/fake/cropped_mouths/ahdbuwqxit\n"
          ]
        },
        {
          "output_type": "stream",
          "name": "stderr",
          "text": [
            "\r 40%|████      | 24/60 [31:12<47:48, 79.69s/it]"
          ]
        },
        {
          "output_type": "stream",
          "name": "stdout",
          "text": [
            "Extracted Mouths: /content/deepfake_detection_datasets/DFDC/fake/cropped_mouths/ahfazfbntc\n"
          ]
        },
        {
          "output_type": "stream",
          "name": "stderr",
          "text": [
            "\r 42%|████▏     | 25/60 [32:33<46:45, 80.17s/it]"
          ]
        },
        {
          "output_type": "stream",
          "name": "stdout",
          "text": [
            "Extracted Mouths: /content/deepfake_detection_datasets/DFDC/real/cropped_mouths/ahqqqilsxt\n"
          ]
        },
        {
          "output_type": "stream",
          "name": "stderr",
          "text": [
            "\r 43%|████▎     | 26/60 [33:57<45:59, 81.17s/it]"
          ]
        },
        {
          "output_type": "stream",
          "name": "stdout",
          "text": [
            "Extracted Mouths: /content/deepfake_detection_datasets/DFDC/fake/cropped_mouths/aipfdnwpoo\n"
          ]
        },
        {
          "output_type": "stream",
          "name": "stderr",
          "text": [
            "\r 45%|████▌     | 27/60 [35:19<44:45, 81.38s/it]"
          ]
        },
        {
          "output_type": "stream",
          "name": "stdout",
          "text": [
            "Extracted Mouths: /content/deepfake_detection_datasets/DFDC/real/cropped_mouths/ajqslcypsw\n"
          ]
        },
        {
          "output_type": "stream",
          "name": "stderr",
          "text": [
            "\r 47%|████▋     | 28/60 [36:27<41:13, 77.31s/it]"
          ]
        },
        {
          "output_type": "stream",
          "name": "stdout",
          "text": [
            "Extracted Mouths: /content/deepfake_detection_datasets/DFDC/fake/cropped_mouths/ajwpjhrbcv\n"
          ]
        },
        {
          "output_type": "stream",
          "name": "stderr",
          "text": [
            "\r 48%|████▊     | 29/60 [37:35<38:34, 74.66s/it]"
          ]
        },
        {
          "output_type": "stream",
          "name": "stdout",
          "text": [
            "Extracted Mouths: /content/deepfake_detection_datasets/DFDC/fake/cropped_mouths/aklqzsddfl\n"
          ]
        },
        {
          "output_type": "stream",
          "name": "stderr",
          "text": [
            "\r 50%|█████     | 30/60 [38:54<37:58, 75.95s/it]"
          ]
        },
        {
          "output_type": "stream",
          "name": "stdout",
          "text": [
            "Extracted Mouths: /content/deepfake_detection_datasets/DFDC/fake/cropped_mouths/aknbdpmgua\n"
          ]
        },
        {
          "output_type": "stream",
          "name": "stderr",
          "text": [
            "\r 52%|█████▏    | 31/60 [40:11<36:53, 76.34s/it]"
          ]
        },
        {
          "output_type": "stream",
          "name": "stdout",
          "text": [
            "Extracted Mouths: /content/deepfake_detection_datasets/DFDC/fake/cropped_mouths/aknmpoonls\n"
          ]
        },
        {
          "output_type": "stream",
          "name": "stderr",
          "text": [
            "\r 53%|█████▎    | 32/60 [41:17<34:10, 73.24s/it]"
          ]
        },
        {
          "output_type": "stream",
          "name": "stdout",
          "text": [
            "Extracted Mouths: /content/deepfake_detection_datasets/DFDC/fake/cropped_mouths/akvmwkdyuv\n",
            "Extracted Mouths: /content/deepfake_detection_datasets/DFDC/fake/cropped_mouths/akxoopqjqz\n"
          ]
        },
        {
          "output_type": "stream",
          "name": "stderr",
          "text": [
            " 57%|█████▋    | 34/60 [43:38<31:20, 72.32s/it]"
          ]
        },
        {
          "output_type": "stream",
          "name": "stdout",
          "text": [
            "Extracted Mouths: /content/deepfake_detection_datasets/DFDC/fake/cropped_mouths/akzbnazxtz\n"
          ]
        },
        {
          "output_type": "stream",
          "name": "stderr",
          "text": [
            "\r 58%|█████▊    | 35/60 [44:50<29:59, 71.98s/it]"
          ]
        },
        {
          "output_type": "stream",
          "name": "stdout",
          "text": [
            "Extracted Mouths: /content/deepfake_detection_datasets/DFDC/fake/cropped_mouths/aladcziidp\n"
          ]
        },
        {
          "output_type": "stream",
          "name": "stderr",
          "text": [
            "\r 60%|██████    | 36/60 [45:58<28:23, 70.98s/it]"
          ]
        },
        {
          "output_type": "stream",
          "name": "stdout",
          "text": [
            "Extracted Mouths: /content/deepfake_detection_datasets/DFDC/fake/cropped_mouths/alaijyygdv\n"
          ]
        },
        {
          "output_type": "stream",
          "name": "stderr",
          "text": [
            "\r 62%|██████▏   | 37/60 [47:18<28:12, 73.61s/it]"
          ]
        },
        {
          "output_type": "stream",
          "name": "stdout",
          "text": [
            "Extracted Mouths: /content/deepfake_detection_datasets/DFDC/real/cropped_mouths/anpuvshzoo\n"
          ]
        },
        {
          "output_type": "stream",
          "name": "stderr",
          "text": [
            "\r 63%|██████▎   | 38/60 [48:30<26:49, 73.15s/it]"
          ]
        },
        {
          "output_type": "stream",
          "name": "stdout",
          "text": [
            "Extracted Mouths: /content/deepfake_detection_datasets/DFDC/real/cropped_mouths/asaxgevnnp\n"
          ]
        },
        {
          "output_type": "stream",
          "name": "stderr",
          "text": [
            "\r 65%|██████▌   | 39/60 [49:51<26:26, 75.57s/it]"
          ]
        },
        {
          "output_type": "stream",
          "name": "stdout",
          "text": [
            "Extracted Mouths: /content/deepfake_detection_datasets/DFDC/real/cropped_mouths/atkdltyyen\n"
          ]
        },
        {
          "output_type": "stream",
          "name": "stderr",
          "text": [
            "\r 67%|██████▋   | 40/60 [51:14<25:56, 77.80s/it]"
          ]
        },
        {
          "output_type": "stream",
          "name": "stdout",
          "text": [
            "Extracted Mouths: /content/deepfake_detection_datasets/DFDC/real/cropped_mouths/atvmxvwyns\n"
          ]
        },
        {
          "output_type": "stream",
          "name": "stderr",
          "text": [
            "\r 68%|██████▊   | 41/60 [52:37<25:08, 79.39s/it]"
          ]
        },
        {
          "output_type": "stream",
          "name": "stdout",
          "text": [
            "Extracted Mouths: /content/deepfake_detection_datasets/DFDC/real/cropped_mouths/avmjormvsx\n"
          ]
        },
        {
          "output_type": "stream",
          "name": "stderr",
          "text": [
            "\r 70%|███████   | 42/60 [54:03<24:23, 81.33s/it]"
          ]
        },
        {
          "output_type": "stream",
          "name": "stdout",
          "text": [
            "Extracted Mouths: /content/deepfake_detection_datasets/DFDC/real/cropped_mouths/axntxmycwd\n"
          ]
        },
        {
          "output_type": "stream",
          "name": "stderr",
          "text": [
            "\r 72%|███████▏  | 43/60 [55:26<23:08, 81.70s/it]"
          ]
        },
        {
          "output_type": "stream",
          "name": "stdout",
          "text": [
            "Extracted Mouths: /content/deepfake_detection_datasets/DFDC/real/cropped_mouths/aybgughjxh\n"
          ]
        },
        {
          "output_type": "stream",
          "name": "stderr",
          "text": [
            "\r 73%|███████▎  | 44/60 [56:41<21:17, 79.83s/it]"
          ]
        },
        {
          "output_type": "stream",
          "name": "stdout",
          "text": [
            "Extracted Mouths: /content/deepfake_detection_datasets/DFDC/real/cropped_mouths/aybumesmpk\n"
          ]
        },
        {
          "output_type": "stream",
          "name": "stderr",
          "text": [
            "\r 75%|███████▌  | 45/60 [57:54<19:25, 77.68s/it]"
          ]
        },
        {
          "output_type": "stream",
          "name": "stdout",
          "text": [
            "Extracted Mouths: /content/deepfake_detection_datasets/DFDC/real/cropped_mouths/aytzyidmgs\n"
          ]
        },
        {
          "output_type": "stream",
          "name": "stderr",
          "text": [
            "\r 77%|███████▋  | 46/60 [59:11<18:03, 77.40s/it]"
          ]
        },
        {
          "output_type": "stream",
          "name": "stdout",
          "text": [
            "Extracted Mouths: /content/deepfake_detection_datasets/DFDC/real/cropped_mouths/bddjdhzfze\n"
          ]
        },
        {
          "output_type": "stream",
          "name": "stderr",
          "text": [
            "\r 78%|███████▊  | 47/60 [1:00:39<17:27, 80.54s/it]"
          ]
        },
        {
          "output_type": "stream",
          "name": "stdout",
          "text": [
            "Extracted Mouths: /content/deepfake_detection_datasets/DFDC/real/cropped_mouths/bdnaqemxmr\n"
          ]
        },
        {
          "output_type": "stream",
          "name": "stderr",
          "text": [
            "\r 80%|████████  | 48/60 [1:01:57<16:00, 80.02s/it]"
          ]
        },
        {
          "output_type": "stream",
          "name": "stdout",
          "text": [
            "Extracted Mouths: /content/deepfake_detection_datasets/DFDC/real/cropped_mouths/beboztfcme\n"
          ]
        },
        {
          "output_type": "stream",
          "name": "stderr",
          "text": [
            "\r 82%|████████▏ | 49/60 [1:03:19<14:45, 80.51s/it]"
          ]
        },
        {
          "output_type": "stream",
          "name": "stdout",
          "text": [
            "Extracted Mouths: /content/deepfake_detection_datasets/DFDC/real/cropped_mouths/bejhvclboh\n"
          ]
        },
        {
          "output_type": "stream",
          "name": "stderr",
          "text": [
            "\r 83%|████████▎ | 50/60 [1:04:33<13:05, 78.51s/it]"
          ]
        },
        {
          "output_type": "stream",
          "name": "stdout",
          "text": [
            "Extracted Mouths: /content/deepfake_detection_datasets/DFDC/real/cropped_mouths/beyebyhrph\n"
          ]
        },
        {
          "output_type": "stream",
          "name": "stderr",
          "text": [
            "\r 85%|████████▌ | 51/60 [1:05:47<11:34, 77.13s/it]"
          ]
        },
        {
          "output_type": "stream",
          "name": "stdout",
          "text": [
            "Extracted Mouths: /content/deepfake_detection_datasets/DFDC/real/cropped_mouths/bffwsjxghk\n"
          ]
        },
        {
          "output_type": "stream",
          "name": "stderr",
          "text": [
            "\r 87%|████████▋ | 52/60 [1:07:05<10:19, 77.43s/it]"
          ]
        },
        {
          "output_type": "stream",
          "name": "stdout",
          "text": [
            "Extracted Mouths: /content/deepfake_detection_datasets/DFDC/real/cropped_mouths/bgvhtpzknn\n"
          ]
        },
        {
          "output_type": "stream",
          "name": "stderr",
          "text": [
            "\r 88%|████████▊ | 53/60 [1:08:21<08:58, 76.90s/it]"
          ]
        },
        {
          "output_type": "stream",
          "name": "stdout",
          "text": [
            "Extracted Mouths: /content/deepfake_detection_datasets/DFDC/real/cropped_mouths/bgwmmujlmc\n"
          ]
        },
        {
          "output_type": "stream",
          "name": "stderr",
          "text": [
            "\r 90%|█████████ | 54/60 [1:09:44<07:52, 78.74s/it]"
          ]
        },
        {
          "output_type": "stream",
          "name": "stdout",
          "text": [
            "Extracted Mouths: /content/deepfake_detection_datasets/DFDC/real/cropped_mouths/bilnggbxgu\n"
          ]
        },
        {
          "output_type": "stream",
          "name": "stderr",
          "text": [
            "\r 92%|█████████▏| 55/60 [1:10:56<06:24, 76.82s/it]"
          ]
        },
        {
          "output_type": "stream",
          "name": "stdout",
          "text": [
            "Extracted Mouths: /content/deepfake_detection_datasets/DFDC/real/cropped_mouths/bmjzrlszhi\n"
          ]
        },
        {
          "output_type": "stream",
          "name": "stderr",
          "text": [
            "\r 93%|█████████▎| 56/60 [1:12:07<05:00, 75.19s/it]"
          ]
        },
        {
          "output_type": "stream",
          "name": "stdout",
          "text": [
            "Extracted Mouths: /content/deepfake_detection_datasets/DFDC/real/cropped_mouths/bpapbctoao\n"
          ]
        },
        {
          "output_type": "stream",
          "name": "stderr",
          "text": [
            "\r 95%|█████████▌| 57/60 [1:13:25<03:47, 75.90s/it]"
          ]
        },
        {
          "output_type": "stream",
          "name": "stdout",
          "text": [
            "Extracted Mouths: /content/deepfake_detection_datasets/DFDC/real/cropped_mouths/brwrlczjvi\n"
          ]
        },
        {
          "output_type": "stream",
          "name": "stderr",
          "text": [
            "\r 97%|█████████▋| 58/60 [1:14:53<02:39, 79.69s/it]"
          ]
        },
        {
          "output_type": "stream",
          "name": "stdout",
          "text": [
            "Extracted Mouths: /content/deepfake_detection_datasets/DFDC/real/cropped_mouths/bulkxhhknf\n"
          ]
        },
        {
          "output_type": "stream",
          "name": "stderr",
          "text": [
            "\r 98%|█████████▊| 59/60 [1:16:25<01:23, 83.36s/it]"
          ]
        },
        {
          "output_type": "stream",
          "name": "stdout",
          "text": [
            "Extracted Mouths: /content/deepfake_detection_datasets/DFDC/real/cropped_mouths/bwhlgysghg\n"
          ]
        },
        {
          "output_type": "stream",
          "name": "stderr",
          "text": [
            "100%|██████████| 60/60 [1:17:29<00:00, 77.49s/it]"
          ]
        },
        {
          "output_type": "stream",
          "name": "stdout",
          "text": [
            "Extracted Mouths: /content/deepfake_detection_datasets/DFDC/real/cropped_mouths/bwipwzzxxu\n"
          ]
        },
        {
          "output_type": "stream",
          "name": "stderr",
          "text": [
            "\n"
          ]
        }
      ]
    },
    {
      "cell_type": "markdown",
      "source": [
        "## Predict"
      ],
      "metadata": {
        "id": "VypsxysjTVB4"
      }
    },
    {
      "cell_type": "code",
      "source": [
        "!python evaluate.py --dataset DFDC --weights_forgery ./models/weights/lipforensics_ff.pth --num_workers 0 --frames_per_clip 10"
      ],
      "metadata": {
        "colab": {
          "base_uri": "https://localhost:8080/"
        },
        "outputId": "4218e59f-45c5-47b5-9b72-3ae73f7038e5",
        "id": "vHqvvIlcTVB-"
      },
      "execution_count": null,
      "outputs": [
        {
          "output_type": "stream",
          "name": "stdout",
          "text": [
            "Face forgery weights loaded.\n",
            "Loading Datasets:   0% 0/2 [00:00<?, ?it/s]DFDC-real Real\n",
            "Loading Datasets:  50% 1/2 [00:09<00:09,  9.41s/it]DFDC-fake Fake\n",
            "Loading Datasets: 100% 2/2 [00:18<00:00,  9.30s/it]\n",
            "100% 8/8 [00:48<00:00,  6.03s/it]\n",
            "DFDC AUC (video-level): 0.73, Logits (video-level): tensor([[-0.8510],\n",
            "        [-2.8444],\n",
            "        [-1.3666],\n",
            "        [-1.6799],\n",
            "        [-0.0346],\n",
            "        [-1.7452],\n",
            "        [-2.5740],\n",
            "        [-0.3136],\n",
            "        [-4.3376],\n",
            "        [-0.8981],\n",
            "        [-1.3506],\n",
            "        [ 0.0239],\n",
            "        [ 1.0890],\n",
            "        [ 0.2977],\n",
            "        [-2.4535],\n",
            "        [-2.1654],\n",
            "        [-2.2983],\n",
            "        [-3.0648],\n",
            "        [-2.2940],\n",
            "        [-5.4524],\n",
            "        [-1.4717],\n",
            "        [ 1.3548],\n",
            "        [-2.8903],\n",
            "        [-2.1461],\n",
            "        [-5.2212],\n",
            "        [-2.9415],\n",
            "        [-5.3657],\n",
            "        [ 1.3291],\n",
            "        [-1.5634],\n",
            "        [ 0.8473],\n",
            "        [ 7.0083],\n",
            "        [12.4622],\n",
            "        [-0.6462],\n",
            "        [-2.9092],\n",
            "        [-1.4459],\n",
            "        [-0.8729],\n",
            "        [-1.0227],\n",
            "        [ 3.3501],\n",
            "        [-0.5229],\n",
            "        [-0.4084],\n",
            "        [ 3.2892],\n",
            "        [-0.4512],\n",
            "        [ 5.3117],\n",
            "        [-3.5173],\n",
            "        [ 0.2402],\n",
            "        [12.5162],\n",
            "        [-1.0624],\n",
            "        [-1.6110],\n",
            "        [ 6.1480],\n",
            "        [-1.4786],\n",
            "        [-1.2591],\n",
            "        [-0.8198],\n",
            "        [-0.7718],\n",
            "        [-1.4458],\n",
            "        [ 0.3382],\n",
            "        [-1.0175],\n",
            "        [-1.2846],\n",
            "        [-3.2880],\n",
            "        [ 2.4896],\n",
            "        [ 5.9614]], device='cuda:0')\n",
            "Predicitons: tensor([0, 0, 0, 0, 0, 0, 0, 0, 0, 0, 0, 0, 0, 0, 0, 0, 0, 0, 0, 0, 0, 0, 0, 0,\n",
            "        0, 0, 0, 0, 0, 0, 1, 1, 1, 1, 1, 1, 1, 1, 1, 1, 1, 1, 1, 1, 1, 1, 1, 1,\n",
            "        1, 1, 1, 1, 1, 1, 1, 1, 1, 1, 1, 1], device='cuda:0')\n"
          ]
        }
      ]
    },
    {
      "cell_type": "code",
      "source": [
        "results = torch.tensor([[-0.8510],\n",
        "        [-2.8444],\n",
        "        [-1.3666],\n",
        "        [-1.6799],\n",
        "        [-0.0346],\n",
        "        [-1.7452],\n",
        "        [-2.5740],\n",
        "        [-0.3136],\n",
        "        [-4.3376],\n",
        "        [-0.8981],\n",
        "        [-1.3506],\n",
        "        [ 0.0239],\n",
        "        [ 1.0890],\n",
        "        [ 0.2977],\n",
        "        [-2.4535],\n",
        "        [-2.1654],\n",
        "        [-2.2983],\n",
        "        [-3.0648],\n",
        "        [-2.2940],\n",
        "        [-5.4524],\n",
        "        [-1.4717],\n",
        "        [ 1.3548],\n",
        "        [-2.8903],\n",
        "        [-2.1461],\n",
        "        [-5.2212],\n",
        "        [-2.9415],\n",
        "        [-5.3657],\n",
        "        [ 1.3291],\n",
        "        [-1.5634],\n",
        "        [ 0.8473],\n",
        "        [ 7.0083],\n",
        "        [12.4622],\n",
        "        [-0.6462],\n",
        "        [-2.9092],\n",
        "        [-1.4459],\n",
        "        [-0.8729],\n",
        "        [-1.0227],\n",
        "        [ 3.3501],\n",
        "        [-0.5229],\n",
        "        [-0.4084],\n",
        "        [ 3.2892],\n",
        "        [-0.4512],\n",
        "        [ 5.3117],\n",
        "        [-3.5173],\n",
        "        [ 0.2402],\n",
        "        [12.5162],\n",
        "        [-1.0624],\n",
        "        [-1.6110],\n",
        "        [ 6.1480],\n",
        "        [-1.4786],\n",
        "        [-1.2591],\n",
        "        [-0.8198],\n",
        "        [-0.7718],\n",
        "        [-1.4458],\n",
        "        [ 0.3382],\n",
        "        [-1.0175],\n",
        "        [-1.2846],\n",
        "        [-3.2880],\n",
        "        [ 2.4896],\n",
        "        [ 5.9614]])"
      ],
      "metadata": {
        "id": "eRFAJNtGTVB-"
      },
      "execution_count": null,
      "outputs": []
    },
    {
      "cell_type": "code",
      "source": [
        "sigmoid_results = calculate_sigmoid(results)\n",
        "score_real, score_fake = calculate_scores(sigmoid_results, 30)"
      ],
      "metadata": {
        "id": "eaQlPr4bTVB-"
      },
      "execution_count": null,
      "outputs": []
    },
    {
      "cell_type": "code",
      "source": [
        "score_real"
      ],
      "metadata": {
        "colab": {
          "base_uri": "https://localhost:8080/"
        },
        "id": "CR9jeAn09IdQ",
        "outputId": "2eea7403-caeb-4026-f6af-b34b61632ec1"
      },
      "execution_count": null,
      "outputs": [
        {
          "output_type": "execute_result",
          "data": {
            "text/plain": [
              "array([8.39573890e-03, 2.33781035e-03, 1.42141655e-02, 8.78799483e-02,\n",
              "       5.04599810e-01, 2.44149542e-03, 6.79210527e-04, 1.00634001e-01,\n",
              "       3.19990329e-04, 1.22197814e-01, 1.89909220e-01, 6.94221258e-02,\n",
              "       1.34850126e-02, 2.87770689e-01, 9.87231173e-03, 1.61890294e-02,\n",
              "       7.99350534e-03, 1.40373111e-02, 1.55978678e-02, 1.04366285e-04,\n",
              "       3.88732515e-02, 2.65097141e-01, 1.18138324e-02, 1.38694523e-02,\n",
              "       5.65968803e-05, 3.39607149e-02, 1.80479861e-03, 3.95215780e-01,\n",
              "       7.49794533e-03, 2.71197200e-01])"
            ]
          },
          "metadata": {},
          "execution_count": 74
        }
      ]
    },
    {
      "cell_type": "code",
      "source": [
        "score_fake"
      ],
      "metadata": {
        "colab": {
          "base_uri": "https://localhost:8080/"
        },
        "outputId": "0b13924e-e223-4ab2-883b-93651f7f6baa",
        "id": "OK_6ByUITVB-"
      },
      "execution_count": null,
      "outputs": [
        {
          "output_type": "execute_result",
          "data": {
            "text/plain": [
              "array([0.93920922, 0.9997955 , 0.13232341, 0.00543201, 0.01505168,\n",
              "       0.10107836, 0.00293678, 0.90995622, 0.22630221, 0.16282187,\n",
              "       0.29482168, 0.04637986, 0.60022432, 0.00510864, 0.13308187,\n",
              "       1.        , 0.03245523, 0.00137668, 0.33332157, 0.05935105,\n",
              "       0.01315515, 0.04430675, 0.06610004, 0.04116226, 0.06036966,\n",
              "       0.00790597, 0.01940745, 0.00585725, 0.21029635, 0.99933463])"
            ]
          },
          "metadata": {},
          "execution_count": 75
        }
      ]
    },
    {
      "cell_type": "markdown",
      "source": [
        "# FakeAVCeleb"
      ],
      "metadata": {
        "id": "G6qgiscMC_Mo"
      }
    },
    {
      "cell_type": "code",
      "source": [
        "!pip install face-alignment\n",
        "import face_alignment\n",
        "import json\n",
        "\n",
        "STD_SIZE = (256, 256)\n",
        "STABLE_POINTS = [33, 36, 39, 42, 45]\n",
        "mean_face_landmarks = np.load(\"/content/LipForensics/preprocessing/20words_mean_face.npy\")"
      ],
      "metadata": {
        "id": "_5VEhokoDXaK",
        "colab": {
          "base_uri": "https://localhost:8080/"
        },
        "outputId": "e32e8ecf-de1b-423d-9ed6-eb69ec9c861f"
      },
      "execution_count": null,
      "outputs": [
        {
          "output_type": "stream",
          "name": "stdout",
          "text": [
            "Collecting face-alignment\n",
            "  Downloading face_alignment-1.4.1-py2.py3-none-any.whl (30 kB)\n",
            "Requirement already satisfied: torch in /usr/local/lib/python3.10/dist-packages (from face-alignment) (2.2.1+cu121)\n",
            "Requirement already satisfied: numpy in /usr/local/lib/python3.10/dist-packages (from face-alignment) (1.25.2)\n",
            "Requirement already satisfied: scipy>=0.17 in /usr/local/lib/python3.10/dist-packages (from face-alignment) (1.11.4)\n",
            "Requirement already satisfied: scikit-image in /usr/local/lib/python3.10/dist-packages (from face-alignment) (0.19.3)\n",
            "Requirement already satisfied: opencv-python in /usr/local/lib/python3.10/dist-packages (from face-alignment) (4.8.0.76)\n",
            "Requirement already satisfied: tqdm in /usr/local/lib/python3.10/dist-packages (from face-alignment) (4.66.2)\n",
            "Requirement already satisfied: numba in /usr/local/lib/python3.10/dist-packages (from face-alignment) (0.58.1)\n",
            "Requirement already satisfied: llvmlite<0.42,>=0.41.0dev0 in /usr/local/lib/python3.10/dist-packages (from numba->face-alignment) (0.41.1)\n",
            "Requirement already satisfied: networkx>=2.2 in /usr/local/lib/python3.10/dist-packages (from scikit-image->face-alignment) (3.3)\n",
            "Requirement already satisfied: pillow!=7.1.0,!=7.1.1,!=8.3.0,>=6.1.0 in /usr/local/lib/python3.10/dist-packages (from scikit-image->face-alignment) (9.4.0)\n",
            "Requirement already satisfied: imageio>=2.4.1 in /usr/local/lib/python3.10/dist-packages (from scikit-image->face-alignment) (2.31.6)\n",
            "Requirement already satisfied: tifffile>=2019.7.26 in /usr/local/lib/python3.10/dist-packages (from scikit-image->face-alignment) (2024.4.24)\n",
            "Requirement already satisfied: PyWavelets>=1.1.1 in /usr/local/lib/python3.10/dist-packages (from scikit-image->face-alignment) (1.6.0)\n",
            "Requirement already satisfied: packaging>=20.0 in /usr/local/lib/python3.10/dist-packages (from scikit-image->face-alignment) (24.0)\n",
            "Requirement already satisfied: filelock in /usr/local/lib/python3.10/dist-packages (from torch->face-alignment) (3.13.4)\n",
            "Requirement already satisfied: typing-extensions>=4.8.0 in /usr/local/lib/python3.10/dist-packages (from torch->face-alignment) (4.11.0)\n",
            "Requirement already satisfied: sympy in /usr/local/lib/python3.10/dist-packages (from torch->face-alignment) (1.12)\n",
            "Requirement already satisfied: jinja2 in /usr/local/lib/python3.10/dist-packages (from torch->face-alignment) (3.1.3)\n",
            "Requirement already satisfied: fsspec in /usr/local/lib/python3.10/dist-packages (from torch->face-alignment) (2023.6.0)\n",
            "Collecting nvidia-cuda-nvrtc-cu12==12.1.105 (from torch->face-alignment)\n",
            "  Using cached nvidia_cuda_nvrtc_cu12-12.1.105-py3-none-manylinux1_x86_64.whl (23.7 MB)\n",
            "Collecting nvidia-cuda-runtime-cu12==12.1.105 (from torch->face-alignment)\n",
            "  Using cached nvidia_cuda_runtime_cu12-12.1.105-py3-none-manylinux1_x86_64.whl (823 kB)\n",
            "Collecting nvidia-cuda-cupti-cu12==12.1.105 (from torch->face-alignment)\n",
            "  Using cached nvidia_cuda_cupti_cu12-12.1.105-py3-none-manylinux1_x86_64.whl (14.1 MB)\n",
            "Collecting nvidia-cudnn-cu12==8.9.2.26 (from torch->face-alignment)\n",
            "  Using cached nvidia_cudnn_cu12-8.9.2.26-py3-none-manylinux1_x86_64.whl (731.7 MB)\n",
            "Collecting nvidia-cublas-cu12==12.1.3.1 (from torch->face-alignment)\n",
            "  Using cached nvidia_cublas_cu12-12.1.3.1-py3-none-manylinux1_x86_64.whl (410.6 MB)\n",
            "Collecting nvidia-cufft-cu12==11.0.2.54 (from torch->face-alignment)\n",
            "  Using cached nvidia_cufft_cu12-11.0.2.54-py3-none-manylinux1_x86_64.whl (121.6 MB)\n",
            "Collecting nvidia-curand-cu12==10.3.2.106 (from torch->face-alignment)\n",
            "  Using cached nvidia_curand_cu12-10.3.2.106-py3-none-manylinux1_x86_64.whl (56.5 MB)\n",
            "Collecting nvidia-cusolver-cu12==11.4.5.107 (from torch->face-alignment)\n",
            "  Using cached nvidia_cusolver_cu12-11.4.5.107-py3-none-manylinux1_x86_64.whl (124.2 MB)\n",
            "Collecting nvidia-cusparse-cu12==12.1.0.106 (from torch->face-alignment)\n",
            "  Using cached nvidia_cusparse_cu12-12.1.0.106-py3-none-manylinux1_x86_64.whl (196.0 MB)\n",
            "Collecting nvidia-nccl-cu12==2.19.3 (from torch->face-alignment)\n",
            "  Using cached nvidia_nccl_cu12-2.19.3-py3-none-manylinux1_x86_64.whl (166.0 MB)\n",
            "Collecting nvidia-nvtx-cu12==12.1.105 (from torch->face-alignment)\n",
            "  Using cached nvidia_nvtx_cu12-12.1.105-py3-none-manylinux1_x86_64.whl (99 kB)\n",
            "Requirement already satisfied: triton==2.2.0 in /usr/local/lib/python3.10/dist-packages (from torch->face-alignment) (2.2.0)\n",
            "Collecting nvidia-nvjitlink-cu12 (from nvidia-cusolver-cu12==11.4.5.107->torch->face-alignment)\n",
            "  Using cached nvidia_nvjitlink_cu12-12.4.127-py3-none-manylinux2014_x86_64.whl (21.1 MB)\n",
            "Requirement already satisfied: MarkupSafe>=2.0 in /usr/local/lib/python3.10/dist-packages (from jinja2->torch->face-alignment) (2.1.5)\n",
            "Requirement already satisfied: mpmath>=0.19 in /usr/local/lib/python3.10/dist-packages (from sympy->torch->face-alignment) (1.3.0)\n",
            "Installing collected packages: nvidia-nvtx-cu12, nvidia-nvjitlink-cu12, nvidia-nccl-cu12, nvidia-curand-cu12, nvidia-cufft-cu12, nvidia-cuda-runtime-cu12, nvidia-cuda-nvrtc-cu12, nvidia-cuda-cupti-cu12, nvidia-cublas-cu12, nvidia-cusparse-cu12, nvidia-cudnn-cu12, nvidia-cusolver-cu12, face-alignment\n",
            "Successfully installed face-alignment-1.4.1 nvidia-cublas-cu12-12.1.3.1 nvidia-cuda-cupti-cu12-12.1.105 nvidia-cuda-nvrtc-cu12-12.1.105 nvidia-cuda-runtime-cu12-12.1.105 nvidia-cudnn-cu12-8.9.2.26 nvidia-cufft-cu12-11.0.2.54 nvidia-curand-cu12-10.3.2.106 nvidia-cusolver-cu12-11.4.5.107 nvidia-cusparse-cu12-12.1.0.106 nvidia-nccl-cu12-2.19.3 nvidia-nvjitlink-cu12-12.4.127 nvidia-nvtx-cu12-12.1.105\n"
          ]
        }
      ]
    },
    {
      "cell_type": "code",
      "source": [
        "fakeavceleb_dir = \"/content/deepfake_detection_datasets/FakeAVCeleb\"\n",
        "dataset = \"FakeAVCeleb\""
      ],
      "metadata": {
        "id": "FUQpxQ00TnVO"
      },
      "execution_count": null,
      "outputs": []
    },
    {
      "cell_type": "code",
      "source": [
        "# files_per_class must be devidable by 10\n",
        "def detect_mouths_fakeAVCeleb(fakeAVCeleb_dir, videos_per_class=30):\n",
        "  metadata_file = os.path.join(fakeAVCeleb_dir, \"meta_data.csv\")\n",
        "  metadata = pd.read_csv(metadata_file)\n",
        "  real_filename_list = []\n",
        "  fake_filename_list = []\n",
        "\n",
        "  # Filter for 'RealVideo-RealAudio' category\n",
        "  real_videos = metadata[metadata['type'] == 'RealVideo-RealAudio'].head(videos_per_class)\n",
        "\n",
        "  videos_per_fake_class = int(videos_per_class/10)\n",
        "  # Filter for 'FakeVideo-RealAudio' category and sample\n",
        "  fake_videos = metadata[metadata['type'] == 'FakeVideo-RealAudio']\n",
        "  sampled_fakes = fake_videos.groupby(['race', 'gender']).apply(\n",
        "        lambda x: x.sample(n=videos_per_fake_class, replace=False) if len(x) >= videos_per_fake_class else x).reset_index(drop=True)\n",
        "\n",
        "  # Concatenate real and sampled fake videos\n",
        "  final_metadata = pd.concat([real_videos, sampled_fakes]).reset_index(drop=True)\n",
        "\n",
        "  for index, properties in tqdm(final_metadata.iterrows(), total=len(final_metadata.index)):\n",
        "    deepfake = properties['path']\n",
        "    vid_path = os.path.join(\"/content/deepfake_detection_datasets/\", properties['Unnamed: 9'], deepfake)\n",
        "    deepfake = deepfake.replace('.mp4', '')\n",
        "\n",
        "    if properties['method'] == \"real\":\n",
        "      target_dir = os.path.join(fakeAVCeleb_dir, \"real\", \"cropped_mouths\", deepfake)\n",
        "      original_target_dir = target_dir\n",
        "      count = 1\n",
        "\n",
        "      while deepfake in real_filename_list:\n",
        "          # Append a number to make the directory name unique\n",
        "          target_dir = f\"{original_target_dir}_{count}\"\n",
        "          deepfake = f\"{deepfake}_{count}\"\n",
        "          count += 1\n",
        "      real_filename_list.append(deepfake)\n",
        "\n",
        "      if not os.path.exists(target_dir):\n",
        "        video_cap = cv2.VideoCapture(vid_path)\n",
        "        crop_mouths(video_cap, target_dir, \"cuda\")\n",
        "    else:\n",
        "      target_dir = os.path.join(fakeAVCeleb_dir, \"fake\", \"cropped_mouths\", deepfake)\n",
        "      original_target_dir = target_dir\n",
        "      count = 1\n",
        "      while deepfake in real_filename_list:\n",
        "          # Append a number to make the directory name unique\n",
        "          target_dir = f\"{original_target_dir}_{count}\"\n",
        "          deepfake = f\"{deepfake}_{count}\"\n",
        "          count += 1\n",
        "      fake_filename_list.append(deepfake)\n",
        "      if not os.path.exists(target_dir):\n",
        "        video_cap = cv2.VideoCapture(vid_path)\n",
        "        crop_mouths(video_cap, target_dir, \"cuda\")\n",
        "\n",
        "  return real_filename_list, fake_filename_list"
      ],
      "metadata": {
        "id": "9tS5d-12Tpbx"
      },
      "execution_count": null,
      "outputs": []
    },
    {
      "cell_type": "code",
      "source": [
        "real_dfdc_list, fake_dfdc_list = detect_mouths_fakeAVCeleb(fakeavceleb_dir)"
      ],
      "metadata": {
        "colab": {
          "base_uri": "https://localhost:8080/",
          "height": 1000
        },
        "id": "MnX-xWCRU9aF",
        "outputId": "0fdfe837-7eaa-40ed-a3d8-1341e7214c7a"
      },
      "execution_count": null,
      "outputs": [
        {
          "output_type": "stream",
          "name": "stderr",
          "text": [
            " 32%|███▏      | 19/60 [00:21<00:38,  1.07it/s]Downloading: \"https://www.adrianbulat.com/downloads/python-fan/s3fd-619a316812.pth\" to /root/.cache/torch/hub/checkpoints/s3fd-619a316812.pth\n",
            "\n",
            "  0%|          | 0.00/85.7M [00:00<?, ?B/s]\u001b[A\n",
            "  0%|          | 32.0k/85.7M [00:00<08:15, 181kB/s]\u001b[A\n",
            "  0%|          | 80.0k/85.7M [00:00<06:30, 230kB/s]\u001b[A\n",
            "  0%|          | 112k/85.7M [00:00<07:18, 205kB/s] \u001b[A\n",
            "  0%|          | 224k/85.7M [00:00<04:04, 367kB/s]\u001b[A\n",
            "  0%|          | 432k/85.7M [00:00<02:18, 646kB/s]\u001b[A\n",
            "  1%|          | 848k/85.7M [00:01<01:14, 1.20MB/s]\u001b[A\n",
            "  2%|▏         | 1.64M/85.7M [00:01<00:38, 2.30MB/s]\u001b[A\n",
            "  4%|▍         | 3.28M/85.7M [00:01<00:19, 4.50MB/s]\u001b[A\n",
            "  6%|▌         | 5.33M/85.7M [00:01<00:12, 6.68MB/s]\u001b[A\n",
            "  9%|▉         | 7.62M/85.7M [00:01<00:09, 8.60MB/s]\u001b[A\n",
            " 11%|█         | 9.56M/85.7M [00:02<00:08, 9.29MB/s]\u001b[A\n",
            " 14%|█▍        | 12.0M/85.7M [00:02<00:07, 10.6MB/s]\u001b[A\n",
            " 16%|█▌        | 13.9M/85.7M [00:02<00:07, 10.6MB/s]\u001b[A\n",
            " 19%|█▊        | 16.0M/85.7M [00:02<00:06, 10.9MB/s]\u001b[A\n",
            " 21%|██        | 18.0M/85.7M [00:02<00:06, 11.2MB/s]\u001b[A\n",
            " 24%|██▎       | 20.2M/85.7M [00:02<00:05, 11.5MB/s]\u001b[A\n",
            " 26%|██▋       | 22.5M/85.7M [00:03<00:05, 11.9MB/s]\u001b[A\n",
            " 29%|██▊       | 24.6M/85.7M [00:03<00:05, 11.8MB/s]\u001b[A\n",
            " 31%|███       | 26.7M/85.7M [00:03<00:05, 11.8MB/s]\u001b[A\n",
            " 34%|███▎      | 28.9M/85.7M [00:03<00:04, 11.9MB/s]\u001b[A\n",
            " 37%|███▋      | 31.4M/85.7M [00:03<00:04, 12.5MB/s]\u001b[A\n",
            " 39%|███▉      | 33.7M/85.7M [00:04<00:04, 12.7MB/s]\u001b[A\n",
            " 42%|████▏     | 35.7M/85.7M [00:04<00:04, 12.3MB/s]\u001b[A\n",
            " 44%|████▍     | 38.0M/85.7M [00:04<00:04, 12.4MB/s]\u001b[A\n",
            " 47%|████▋     | 40.2M/85.7M [00:04<00:03, 12.4MB/s]\u001b[A\n",
            " 49%|████▉     | 42.3M/85.7M [00:04<00:03, 12.3MB/s]\u001b[A\n",
            " 52%|█████▏    | 44.8M/85.7M [00:05<00:03, 12.7MB/s]\u001b[A\n",
            " 55%|█████▍    | 46.8M/85.7M [00:05<00:03, 12.3MB/s]\u001b[A\n",
            " 57%|█████▋    | 49.0M/85.7M [00:05<00:03, 12.3MB/s]\u001b[A\n",
            " 59%|█████▉    | 50.9M/85.7M [00:05<00:03, 11.9MB/s]\u001b[A\n",
            " 62%|██████▏   | 53.2M/85.7M [00:05<00:02, 12.2MB/s]\u001b[A\n",
            " 65%|██████▍   | 55.6M/85.7M [00:05<00:02, 12.6MB/s]\u001b[A\n",
            " 67%|██████▋   | 57.7M/85.7M [00:06<00:02, 12.2MB/s]\u001b[A\n",
            " 70%|██████▉   | 59.9M/85.7M [00:06<00:02, 12.3MB/s]\u001b[A\n",
            " 73%|███████▎  | 62.3M/85.7M [00:06<00:01, 12.7MB/s]\u001b[A\n",
            " 75%|███████▍  | 64.1M/85.7M [00:06<00:01, 11.9MB/s]\u001b[A\n",
            " 78%|███████▊  | 66.8M/85.7M [00:06<00:01, 12.8MB/s]\u001b[A\n",
            " 80%|████████  | 68.6M/85.7M [00:07<00:01, 12.0MB/s]\u001b[A\n",
            " 83%|████████▎ | 71.3M/85.7M [00:07<00:01, 12.9MB/s]\u001b[A\n",
            " 86%|████████▌ | 73.8M/85.7M [00:07<00:00, 13.2MB/s]\u001b[A\n",
            " 89%|████████▉ | 76.1M/85.7M [00:07<00:00, 13.2MB/s]\u001b[A\n",
            " 92%|█████████▏| 78.5M/85.7M [00:07<00:00, 13.3MB/s]\u001b[A\n",
            " 94%|█████████▍| 80.9M/85.7M [00:08<00:00, 13.4MB/s]\u001b[A\n",
            " 97%|█████████▋| 83.3M/85.7M [00:08<00:00, 13.4MB/s]\u001b[A\n",
            "100%|██████████| 85.7M/85.7M [00:08<00:00, 10.7MB/s]\n",
            "Downloading: \"https://www.adrianbulat.com/downloads/python-fan/2DFAN4-cd938726ad.zip\" to /root/.cache/torch/hub/checkpoints/2DFAN4-cd938726ad.zip\n",
            "\n",
            "  0%|          | 0.00/91.9M [00:00<?, ?B/s]\u001b[A\n",
            "  0%|          | 32.0k/91.9M [00:00<08:56, 180kB/s]\u001b[A\n",
            "  0%|          | 80.0k/91.9M [00:00<07:00, 229kB/s]\u001b[A\n",
            "  0%|          | 128k/91.9M [00:00<06:33, 244kB/s] \u001b[A\n",
            "  0%|          | 256k/91.9M [00:00<03:46, 425kB/s]\u001b[A\n",
            "  1%|          | 544k/91.9M [00:00<01:53, 841kB/s]\u001b[A\n",
            "  1%|          | 1.08M/91.9M [00:01<00:59, 1.60MB/s]\u001b[A\n",
            "  2%|▏         | 2.19M/91.9M [00:01<00:30, 3.11MB/s]\u001b[A\n",
            "  5%|▍         | 4.39M/91.9M [00:01<00:15, 6.05MB/s]\u001b[A\n",
            "  7%|▋         | 6.20M/91.9M [00:01<00:12, 7.33MB/s]\u001b[A\n",
            "  9%|▉         | 8.12M/91.9M [00:01<00:10, 8.40MB/s]\u001b[A\n",
            " 11%|█▏        | 10.4M/91.9M [00:02<00:08, 9.68MB/s]\u001b[A\n",
            " 13%|█▎        | 12.2M/91.9M [00:02<00:08, 9.91MB/s]\u001b[A\n",
            " 16%|█▌        | 14.5M/91.9M [00:02<00:07, 10.7MB/s]\u001b[A\n",
            " 18%|█▊        | 16.5M/91.9M [00:02<00:07, 10.9MB/s]\u001b[A\n",
            " 20%|██        | 18.6M/91.9M [00:02<00:06, 11.2MB/s]\u001b[A\n",
            " 22%|██▏       | 20.6M/91.9M [00:02<00:06, 11.2MB/s]\u001b[A\n",
            " 25%|██▍       | 22.8M/91.9M [00:03<00:06, 11.4MB/s]\u001b[A\n",
            " 27%|██▋       | 24.9M/91.9M [00:03<00:06, 11.7MB/s]\u001b[A\n",
            " 29%|██▉       | 26.9M/91.9M [00:03<00:05, 11.5MB/s]\u001b[A\n",
            " 31%|███▏      | 28.8M/91.9M [00:03<00:05, 11.2MB/s]\u001b[A\n",
            " 34%|███▍      | 31.3M/91.9M [00:03<00:05, 12.1MB/s]\u001b[A\n",
            " 36%|███▌      | 33.3M/91.9M [00:04<00:05, 11.7MB/s]\u001b[A\n",
            " 39%|███▉      | 35.9M/91.9M [00:04<00:04, 12.6MB/s]\u001b[A\n",
            " 41%|████▏     | 38.0M/91.9M [00:04<00:04, 12.3MB/s]\u001b[A\n",
            " 44%|████▍     | 40.5M/91.9M [00:04<00:04, 12.9MB/s]\u001b[A\n",
            " 46%|████▋     | 42.7M/91.9M [00:04<00:04, 12.7MB/s]\u001b[A\n",
            " 49%|████▉     | 45.0M/91.9M [00:05<00:03, 12.7MB/s]\u001b[A\n",
            " 52%|█████▏    | 47.6M/91.9M [00:05<00:03, 13.3MB/s]\u001b[A\n",
            " 55%|█████▍    | 50.2M/91.9M [00:05<00:03, 13.8MB/s]\u001b[A\n",
            " 58%|█████▊    | 52.9M/91.9M [00:05<00:02, 14.1MB/s]\u001b[A\n",
            " 60%|██████    | 55.5M/91.9M [00:05<00:02, 14.3MB/s]\u001b[A\n",
            " 63%|██████▎   | 58.2M/91.9M [00:05<00:02, 14.5MB/s]\u001b[A\n",
            " 66%|██████▌   | 60.8M/91.9M [00:06<00:02, 14.5MB/s]\u001b[A\n",
            " 69%|██████▉   | 63.4M/91.9M [00:06<00:02, 14.5MB/s]\u001b[A\n",
            " 72%|███████▏  | 66.2M/91.9M [00:06<00:01, 15.0MB/s]\u001b[A\n",
            " 75%|███████▍  | 68.8M/91.9M [00:06<00:01, 14.7MB/s]\u001b[A\n",
            " 78%|███████▊  | 71.4M/91.9M [00:06<00:01, 14.7MB/s]\u001b[A\n",
            " 81%|████████  | 74.0M/91.9M [00:07<00:01, 14.6MB/s]\u001b[A\n",
            " 84%|████████▎ | 76.7M/91.9M [00:07<00:01, 14.8MB/s]\u001b[A\n",
            " 86%|████████▋ | 79.4M/91.9M [00:07<00:00, 14.9MB/s]\u001b[A\n",
            " 89%|████████▉ | 81.9M/91.9M [00:07<00:00, 14.7MB/s]\u001b[A\n",
            " 92%|█████████▏| 84.3M/91.9M [00:07<00:00, 14.3MB/s]\u001b[A\n",
            " 94%|█████████▍| 86.7M/91.9M [00:08<00:00, 14.1MB/s]\u001b[A\n",
            "100%|██████████| 91.9M/91.9M [00:08<00:00, 11.7MB/s]\n",
            " 33%|███▎      | 20/60 [03:30<38:15, 57.38s/it]"
          ]
        },
        {
          "output_type": "stream",
          "name": "stdout",
          "text": [
            "Extracted Mouths: /content/deepfake_detection_datasets/FakeAVCeleb/real/cropped_mouths/00160_1\n"
          ]
        },
        {
          "output_type": "stream",
          "name": "stderr",
          "text": [
            " 37%|███▋      | 22/60 [05:29<40:29, 63.93s/it]"
          ]
        },
        {
          "output_type": "stream",
          "name": "stdout",
          "text": [
            "Extracted Mouths: /content/deepfake_detection_datasets/FakeAVCeleb/real/cropped_mouths/00005_1\n"
          ]
        },
        {
          "output_type": "stream",
          "name": "stderr",
          "text": [
            " 42%|████▏     | 25/60 [07:33<34:21, 58.91s/it]"
          ]
        },
        {
          "output_type": "stream",
          "name": "stdout",
          "text": [
            "Extracted Mouths: /content/deepfake_detection_datasets/FakeAVCeleb/real/cropped_mouths/00109_2\n"
          ]
        },
        {
          "output_type": "stream",
          "name": "stderr",
          "text": [
            " 48%|████▊     | 29/60 [09:34<25:59, 50.30s/it]"
          ]
        },
        {
          "output_type": "stream",
          "name": "stdout",
          "text": [
            "Extracted Mouths: /content/deepfake_detection_datasets/FakeAVCeleb/real/cropped_mouths/00005_2\n"
          ]
        },
        {
          "output_type": "stream",
          "name": "stderr",
          "text": [
            "\r 50%|█████     | 30/60 [11:52<38:19, 76.65s/it]"
          ]
        },
        {
          "output_type": "stream",
          "name": "stdout",
          "text": [
            "Extracted Mouths: /content/deepfake_detection_datasets/FakeAVCeleb/real/cropped_mouths/00044_1\n"
          ]
        },
        {
          "output_type": "stream",
          "name": "stderr",
          "text": [
            "\r 52%|█████▏    | 31/60 [13:57<44:01, 91.07s/it]"
          ]
        },
        {
          "output_type": "stream",
          "name": "stdout",
          "text": [
            "Extracted Mouths: /content/deepfake_detection_datasets/FakeAVCeleb/fake/cropped_mouths/00078_3\n"
          ]
        },
        {
          "output_type": "stream",
          "name": "stderr",
          "text": [
            "\r 53%|█████▎    | 32/60 [16:03<47:25, 101.64s/it]"
          ]
        },
        {
          "output_type": "stream",
          "name": "stdout",
          "text": [
            "Extracted Mouths: /content/deepfake_detection_datasets/FakeAVCeleb/fake/cropped_mouths/00072_id01452_wavtolip\n"
          ]
        },
        {
          "output_type": "stream",
          "name": "stderr",
          "text": [
            "\r 55%|█████▌    | 33/60 [18:21<50:37, 112.48s/it]"
          ]
        },
        {
          "output_type": "stream",
          "name": "stdout",
          "text": [
            "Extracted Mouths: /content/deepfake_detection_datasets/FakeAVCeleb/fake/cropped_mouths/00015_id01170_wavtolip\n"
          ]
        },
        {
          "output_type": "stream",
          "name": "stderr",
          "text": [
            "\r 55%|█████▌    | 33/60 [18:43<15:19, 34.04s/it] \n"
          ]
        },
        {
          "output_type": "error",
          "ename": "KeyboardInterrupt",
          "evalue": "",
          "traceback": [
            "\u001b[0;31m---------------------------------------------------------------------------\u001b[0m",
            "\u001b[0;31mKeyboardInterrupt\u001b[0m                         Traceback (most recent call last)",
            "\u001b[0;32m<ipython-input-11-e3c2f411d365>\u001b[0m in \u001b[0;36m<cell line: 1>\u001b[0;34m()\u001b[0m\n\u001b[0;32m----> 1\u001b[0;31m \u001b[0mreal_dfdc_list\u001b[0m\u001b[0;34m,\u001b[0m \u001b[0mfake_dfdc_list\u001b[0m \u001b[0;34m=\u001b[0m \u001b[0mdetect_mouths_fakeAVCeleb\u001b[0m\u001b[0;34m(\u001b[0m\u001b[0mfakeavceleb_dir\u001b[0m\u001b[0;34m)\u001b[0m\u001b[0;34m\u001b[0m\u001b[0;34m\u001b[0m\u001b[0m\n\u001b[0m",
            "\u001b[0;32m<ipython-input-10-8e77189cb666>\u001b[0m in \u001b[0;36mdetect_mouths_fakeAVCeleb\u001b[0;34m(fakeAVCeleb_dir, videos_per_class)\u001b[0m\n\u001b[1;32m     50\u001b[0m       \u001b[0;32mif\u001b[0m \u001b[0;32mnot\u001b[0m \u001b[0mos\u001b[0m\u001b[0;34m.\u001b[0m\u001b[0mpath\u001b[0m\u001b[0;34m.\u001b[0m\u001b[0mexists\u001b[0m\u001b[0;34m(\u001b[0m\u001b[0mtarget_dir\u001b[0m\u001b[0;34m)\u001b[0m\u001b[0;34m:\u001b[0m\u001b[0;34m\u001b[0m\u001b[0;34m\u001b[0m\u001b[0m\n\u001b[1;32m     51\u001b[0m         \u001b[0mvideo_cap\u001b[0m \u001b[0;34m=\u001b[0m \u001b[0mcv2\u001b[0m\u001b[0;34m.\u001b[0m\u001b[0mVideoCapture\u001b[0m\u001b[0;34m(\u001b[0m\u001b[0mvid_path\u001b[0m\u001b[0;34m)\u001b[0m\u001b[0;34m\u001b[0m\u001b[0;34m\u001b[0m\u001b[0m\n\u001b[0;32m---> 52\u001b[0;31m         \u001b[0mcrop_mouths\u001b[0m\u001b[0;34m(\u001b[0m\u001b[0mvideo_cap\u001b[0m\u001b[0;34m,\u001b[0m \u001b[0mtarget_dir\u001b[0m\u001b[0;34m,\u001b[0m \u001b[0;34m\"cuda\"\u001b[0m\u001b[0;34m)\u001b[0m\u001b[0;34m\u001b[0m\u001b[0;34m\u001b[0m\u001b[0m\n\u001b[0m\u001b[1;32m     53\u001b[0m \u001b[0;34m\u001b[0m\u001b[0m\n\u001b[1;32m     54\u001b[0m   \u001b[0;32mreturn\u001b[0m \u001b[0mreal_filename_list\u001b[0m\u001b[0;34m,\u001b[0m \u001b[0mfake_filename_list\u001b[0m\u001b[0;34m\u001b[0m\u001b[0;34m\u001b[0m\u001b[0m\n",
            "\u001b[0;32m<ipython-input-5-4097f104caa2>\u001b[0m in \u001b[0;36mcrop_mouths\u001b[0;34m(video_cap, target_dir, device)\u001b[0m\n\u001b[1;32m     10\u001b[0m     \u001b[0;31m# Check if the cropped_mouths where already created, if yes skipp the loop\u001b[0m\u001b[0;34m\u001b[0m\u001b[0;34m\u001b[0m\u001b[0m\n\u001b[1;32m     11\u001b[0m     \u001b[0mtarget_path\u001b[0m \u001b[0;34m=\u001b[0m \u001b[0mos\u001b[0m\u001b[0;34m.\u001b[0m\u001b[0mpath\u001b[0m\u001b[0;34m.\u001b[0m\u001b[0mjoin\u001b[0m\u001b[0;34m(\u001b[0m\u001b[0mtarget_dir\u001b[0m\u001b[0;34m,\u001b[0m \u001b[0;34m'{:04d}.png'\u001b[0m\u001b[0;34m.\u001b[0m\u001b[0mformat\u001b[0m\u001b[0;34m(\u001b[0m\u001b[0mframe_num\u001b[0m\u001b[0;34m)\u001b[0m\u001b[0;34m)\u001b[0m\u001b[0;34m\u001b[0m\u001b[0;34m\u001b[0m\u001b[0m\n\u001b[0;32m---> 12\u001b[0;31m     \u001b[0;32mif\u001b[0m \u001b[0mos\u001b[0m\u001b[0;34m.\u001b[0m\u001b[0mpath\u001b[0m\u001b[0;34m.\u001b[0m\u001b[0mexists\u001b[0m\u001b[0;34m(\u001b[0m\u001b[0mtarget_path\u001b[0m\u001b[0;34m)\u001b[0m\u001b[0;34m:\u001b[0m\u001b[0;34m\u001b[0m\u001b[0;34m\u001b[0m\u001b[0m\n\u001b[0m\u001b[1;32m     13\u001b[0m       \u001b[0mframe_num\u001b[0m \u001b[0;34m+=\u001b[0m \u001b[0;36m1\u001b[0m\u001b[0;34m\u001b[0m\u001b[0;34m\u001b[0m\u001b[0m\n\u001b[1;32m     14\u001b[0m       \u001b[0;31m# print(f\"Continue {target_path}\")\u001b[0m\u001b[0;34m\u001b[0m\u001b[0;34m\u001b[0m\u001b[0m\n",
            "\u001b[0;32m/usr/lib/python3.10/genericpath.py\u001b[0m in \u001b[0;36mexists\u001b[0;34m(path)\u001b[0m\n\u001b[1;32m     17\u001b[0m     \u001b[0;34m\"\"\"Test whether a path exists.  Returns False for broken symbolic links\"\"\"\u001b[0m\u001b[0;34m\u001b[0m\u001b[0;34m\u001b[0m\u001b[0m\n\u001b[1;32m     18\u001b[0m     \u001b[0;32mtry\u001b[0m\u001b[0;34m:\u001b[0m\u001b[0;34m\u001b[0m\u001b[0;34m\u001b[0m\u001b[0m\n\u001b[0;32m---> 19\u001b[0;31m         \u001b[0mos\u001b[0m\u001b[0;34m.\u001b[0m\u001b[0mstat\u001b[0m\u001b[0;34m(\u001b[0m\u001b[0mpath\u001b[0m\u001b[0;34m)\u001b[0m\u001b[0;34m\u001b[0m\u001b[0;34m\u001b[0m\u001b[0m\n\u001b[0m\u001b[1;32m     20\u001b[0m     \u001b[0;32mexcept\u001b[0m \u001b[0;34m(\u001b[0m\u001b[0mOSError\u001b[0m\u001b[0;34m,\u001b[0m \u001b[0mValueError\u001b[0m\u001b[0;34m)\u001b[0m\u001b[0;34m:\u001b[0m\u001b[0;34m\u001b[0m\u001b[0;34m\u001b[0m\u001b[0m\n\u001b[1;32m     21\u001b[0m         \u001b[0;32mreturn\u001b[0m \u001b[0;32mFalse\u001b[0m\u001b[0;34m\u001b[0m\u001b[0;34m\u001b[0m\u001b[0m\n",
            "\u001b[0;31mKeyboardInterrupt\u001b[0m: "
          ]
        }
      ]
    },
    {
      "cell_type": "markdown",
      "source": [
        "## Predict"
      ],
      "metadata": {
        "id": "05Tctud3VGl2"
      }
    },
    {
      "cell_type": "code",
      "source": [
        "!python evaluate.py --dataset FakeAVCeleb --weights_forgery ./models/weights/lipforensics_ff.pth --num_workers 0 --frames_per_clip 10"
      ],
      "metadata": {
        "id": "SRBvFLb3VGl3",
        "colab": {
          "base_uri": "https://localhost:8080/"
        },
        "outputId": "8a29f154-572d-4e33-9a27-e8c180de0bd6"
      },
      "execution_count": null,
      "outputs": [
        {
          "output_type": "stream",
          "name": "stdout",
          "text": [
            "Face forgery weights loaded.\n",
            "Loading Datasets: 100% 2/2 [01:42<00:00, 51.21s/it]\n",
            "100% 8/8 [14:49<00:00, 111.17s/it]\n",
            "FakeAVCeleb AUC (video-level): 0.974712643678161, Logits (video-level): tensor([[-2.5978],\n",
            "        [-2.2567],\n",
            "        [-5.3070],\n",
            "        [-1.7764],\n",
            "        [-2.6035],\n",
            "        [-2.5706],\n",
            "        [-2.8662],\n",
            "        [-3.7976],\n",
            "        [-0.3279],\n",
            "        [-3.5026],\n",
            "        [-2.1339],\n",
            "        [-3.6311],\n",
            "        [-3.8454],\n",
            "        [-1.4252],\n",
            "        [-1.5444],\n",
            "        [-3.6725],\n",
            "        [ 0.1009],\n",
            "        [-5.2078],\n",
            "        [-2.4237],\n",
            "        [-2.9859],\n",
            "        [-5.4557],\n",
            "        [-5.5249],\n",
            "        [-3.6452],\n",
            "        [-4.7987],\n",
            "        [-2.7275],\n",
            "        [-5.4845],\n",
            "        [-4.5454],\n",
            "        [-1.9703],\n",
            "        [-3.6645],\n",
            "        [-1.8068],\n",
            "        [ 6.1000],\n",
            "        [14.6561],\n",
            "        [ 3.2484],\n",
            "        [ 6.2939],\n",
            "        [ 1.9975],\n",
            "        [-0.9846],\n",
            "        [ 1.9113],\n",
            "        [ 1.7784],\n",
            "        [ 6.1381],\n",
            "        [-1.8930],\n",
            "        [15.5643],\n",
            "        [-1.8761],\n",
            "        [-1.8329],\n",
            "        [ 0.4777],\n",
            "        [ 0.8460],\n",
            "        [ 9.2270],\n",
            "        [ 5.5478],\n",
            "        [ 2.4574],\n",
            "        [ 3.7808],\n",
            "        [ 6.0304],\n",
            "        [-1.1210],\n",
            "        [ 6.7697],\n",
            "        [ 2.2825],\n",
            "        [ 1.5846],\n",
            "        [ 0.7277],\n",
            "        [ 4.3725],\n",
            "        [ 1.9065],\n",
            "        [ 7.7066],\n",
            "        [17.4342]], device='cuda:0')\n",
            "Predicitons: tensor([0, 0, 0, 0, 0, 0, 0, 0, 0, 0, 0, 0, 0, 0, 0, 0, 0, 0, 0, 0, 0, 0, 0, 0,\n",
            "        0, 0, 0, 0, 0, 0, 1, 1, 1, 1, 1, 1, 1, 1, 1, 1, 1, 1, 1, 1, 1, 1, 1, 1,\n",
            "        1, 1, 1, 1, 1, 1, 1, 1, 1, 1, 1], device='cuda:0')\n"
          ]
        }
      ]
    },
    {
      "cell_type": "code",
      "source": [
        "results = torch.tensor([[-2.5978],\n",
        "        [-2.2567],\n",
        "        [-5.3070],\n",
        "        [-1.7764],\n",
        "        [-2.6035],\n",
        "        [-2.5706],\n",
        "        [-2.8662],\n",
        "        [-3.7976],\n",
        "        [-0.3279],\n",
        "        [-3.5026],\n",
        "        [-2.1339],\n",
        "        [-3.6311],\n",
        "        [-3.8454],\n",
        "        [-1.4252],\n",
        "        [-1.5444],\n",
        "        [-3.6725],\n",
        "        [ 0.1009],\n",
        "        [-5.2078],\n",
        "        [-2.4237],\n",
        "        [-2.9859],\n",
        "        [-5.4557],\n",
        "        [-5.5249],\n",
        "        [-3.6452],\n",
        "        [-4.7987],\n",
        "        [-2.7275],\n",
        "        [-5.4845],\n",
        "        [-4.5454],\n",
        "        [-1.9703],\n",
        "        [-3.6645],\n",
        "        [-1.8068],\n",
        "        [ 6.1000],\n",
        "        [14.6561],\n",
        "        [ 3.2484],\n",
        "        [ 6.2939],\n",
        "        [ 1.9975],\n",
        "        [-0.9846],\n",
        "        [ 1.9113],\n",
        "        [ 1.7784],\n",
        "        [ 6.1381],\n",
        "        [-1.8930],\n",
        "        [15.5643],\n",
        "        [-1.8761],\n",
        "        [-1.8329],\n",
        "        [ 0.4777],\n",
        "        [ 0.8460],\n",
        "        [ 9.2270],\n",
        "        [ 5.5478],\n",
        "        [ 2.4574],\n",
        "        [ 3.7808],\n",
        "        [ 6.0304],\n",
        "        [-1.1210],\n",
        "        [ 6.7697],\n",
        "        [ 2.2825],\n",
        "        [ 1.5846],\n",
        "        [ 0.7277],\n",
        "        [ 4.3725],\n",
        "        [ 1.9065],\n",
        "        [ 7.7066],\n",
        "        [17.4342]])"
      ],
      "metadata": {
        "id": "r_9LuxYnVGl3"
      },
      "execution_count": null,
      "outputs": []
    },
    {
      "cell_type": "code",
      "source": [
        "sigmoid_results = calculate_sigmoid(results)\n",
        "score_real, score_fake = calculate_scores(sigmoid_results, 30)"
      ],
      "metadata": {
        "id": "ZA2DtSvbVGl3"
      },
      "execution_count": null,
      "outputs": []
    },
    {
      "cell_type": "code",
      "source": [
        "score_fake"
      ],
      "metadata": {
        "id": "7jWIjaoSVGl3",
        "colab": {
          "base_uri": "https://localhost:8080/"
        },
        "outputId": "7cbb2f4b-1188-45fb-dc77-a209cca508d8"
      },
      "execution_count": null,
      "outputs": [
        {
          "output_type": "execute_result",
          "data": {
            "text/plain": [
              "array([0.99394023, 0.99999881, 0.90451241, 0.99500293, 0.73056674,\n",
              "       0.12082933, 0.71326607, 0.68533516, 0.99416542, 0.05250068,\n",
              "       0.99999952, 0.05334775, 0.055572  , 0.37231457, 0.46157587,\n",
              "       0.99973267, 0.98952055, 0.8111347 , 0.94162947, 0.99350619,\n",
              "       0.10707241, 0.99688905, 0.78287506, 0.64212519, 0.43234256,\n",
              "       0.96683395, 0.71228343, 0.99877864, 0.99999988])"
            ]
          },
          "metadata": {},
          "execution_count": 17
        }
      ]
    },
    {
      "cell_type": "markdown",
      "source": [
        "# Celeb-DF"
      ],
      "metadata": {
        "id": "M1mS5VVEDB6_"
      }
    },
    {
      "cell_type": "markdown",
      "source": [
        "## Data Preperation"
      ],
      "metadata": {
        "id": "ekqHfJUgQKgo"
      }
    },
    {
      "cell_type": "code",
      "source": [
        "real_celeb_dir = \"/content/deepfake_detection_datasets/Celeb-DF/Celeb-real\"\n",
        "fake_celeb_dir = \"/content/deepfake_detection_datasets/Celeb-DF/Celeb-synthesis\"\n",
        "dataset = \"CelebDF\""
      ],
      "metadata": {
        "id": "4632xlxTDfOe"
      },
      "execution_count": null,
      "outputs": []
    },
    {
      "cell_type": "code",
      "source": [
        "!pip install face-alignment\n",
        "import face_alignment\n",
        "import json\n",
        "\n",
        "STD_SIZE = (256, 256)\n",
        "STABLE_POINTS = [33, 36, 39, 42, 45]\n",
        "mean_face_landmarks = np.load(\"/content/LipForensics/preprocessing/20words_mean_face.npy\")"
      ],
      "metadata": {
        "id": "BNuO7i4CDWOl",
        "colab": {
          "base_uri": "https://localhost:8080/"
        },
        "outputId": "414a0e75-1985-47e1-ef8d-21c1a33f5234"
      },
      "execution_count": null,
      "outputs": [
        {
          "output_type": "stream",
          "name": "stdout",
          "text": [
            "Collecting face-alignment\n",
            "  Downloading face_alignment-1.4.1-py2.py3-none-any.whl (30 kB)\n",
            "Requirement already satisfied: torch in /usr/local/lib/python3.10/dist-packages (from face-alignment) (2.2.1+cu121)\n",
            "Requirement already satisfied: numpy in /usr/local/lib/python3.10/dist-packages (from face-alignment) (1.25.2)\n",
            "Requirement already satisfied: scipy>=0.17 in /usr/local/lib/python3.10/dist-packages (from face-alignment) (1.11.4)\n",
            "Requirement already satisfied: scikit-image in /usr/local/lib/python3.10/dist-packages (from face-alignment) (0.19.3)\n",
            "Requirement already satisfied: opencv-python in /usr/local/lib/python3.10/dist-packages (from face-alignment) (4.8.0.76)\n",
            "Requirement already satisfied: tqdm in /usr/local/lib/python3.10/dist-packages (from face-alignment) (4.66.2)\n",
            "Requirement already satisfied: numba in /usr/local/lib/python3.10/dist-packages (from face-alignment) (0.58.1)\n",
            "Requirement already satisfied: llvmlite<0.42,>=0.41.0dev0 in /usr/local/lib/python3.10/dist-packages (from numba->face-alignment) (0.41.1)\n",
            "Requirement already satisfied: networkx>=2.2 in /usr/local/lib/python3.10/dist-packages (from scikit-image->face-alignment) (3.3)\n",
            "Requirement already satisfied: pillow!=7.1.0,!=7.1.1,!=8.3.0,>=6.1.0 in /usr/local/lib/python3.10/dist-packages (from scikit-image->face-alignment) (9.4.0)\n",
            "Requirement already satisfied: imageio>=2.4.1 in /usr/local/lib/python3.10/dist-packages (from scikit-image->face-alignment) (2.31.6)\n",
            "Requirement already satisfied: tifffile>=2019.7.26 in /usr/local/lib/python3.10/dist-packages (from scikit-image->face-alignment) (2024.4.24)\n",
            "Requirement already satisfied: PyWavelets>=1.1.1 in /usr/local/lib/python3.10/dist-packages (from scikit-image->face-alignment) (1.6.0)\n",
            "Requirement already satisfied: packaging>=20.0 in /usr/local/lib/python3.10/dist-packages (from scikit-image->face-alignment) (24.0)\n",
            "Requirement already satisfied: filelock in /usr/local/lib/python3.10/dist-packages (from torch->face-alignment) (3.13.4)\n",
            "Requirement already satisfied: typing-extensions>=4.8.0 in /usr/local/lib/python3.10/dist-packages (from torch->face-alignment) (4.11.0)\n",
            "Requirement already satisfied: sympy in /usr/local/lib/python3.10/dist-packages (from torch->face-alignment) (1.12)\n",
            "Requirement already satisfied: jinja2 in /usr/local/lib/python3.10/dist-packages (from torch->face-alignment) (3.1.3)\n",
            "Requirement already satisfied: fsspec in /usr/local/lib/python3.10/dist-packages (from torch->face-alignment) (2023.6.0)\n",
            "Collecting nvidia-cuda-nvrtc-cu12==12.1.105 (from torch->face-alignment)\n",
            "  Using cached nvidia_cuda_nvrtc_cu12-12.1.105-py3-none-manylinux1_x86_64.whl (23.7 MB)\n",
            "Collecting nvidia-cuda-runtime-cu12==12.1.105 (from torch->face-alignment)\n",
            "  Using cached nvidia_cuda_runtime_cu12-12.1.105-py3-none-manylinux1_x86_64.whl (823 kB)\n",
            "Collecting nvidia-cuda-cupti-cu12==12.1.105 (from torch->face-alignment)\n",
            "  Using cached nvidia_cuda_cupti_cu12-12.1.105-py3-none-manylinux1_x86_64.whl (14.1 MB)\n",
            "Collecting nvidia-cudnn-cu12==8.9.2.26 (from torch->face-alignment)\n",
            "  Using cached nvidia_cudnn_cu12-8.9.2.26-py3-none-manylinux1_x86_64.whl (731.7 MB)\n",
            "Collecting nvidia-cublas-cu12==12.1.3.1 (from torch->face-alignment)\n",
            "  Using cached nvidia_cublas_cu12-12.1.3.1-py3-none-manylinux1_x86_64.whl (410.6 MB)\n",
            "Collecting nvidia-cufft-cu12==11.0.2.54 (from torch->face-alignment)\n",
            "  Using cached nvidia_cufft_cu12-11.0.2.54-py3-none-manylinux1_x86_64.whl (121.6 MB)\n",
            "Collecting nvidia-curand-cu12==10.3.2.106 (from torch->face-alignment)\n",
            "  Using cached nvidia_curand_cu12-10.3.2.106-py3-none-manylinux1_x86_64.whl (56.5 MB)\n",
            "Collecting nvidia-cusolver-cu12==11.4.5.107 (from torch->face-alignment)\n",
            "  Using cached nvidia_cusolver_cu12-11.4.5.107-py3-none-manylinux1_x86_64.whl (124.2 MB)\n",
            "Collecting nvidia-cusparse-cu12==12.1.0.106 (from torch->face-alignment)\n",
            "  Using cached nvidia_cusparse_cu12-12.1.0.106-py3-none-manylinux1_x86_64.whl (196.0 MB)\n",
            "Collecting nvidia-nccl-cu12==2.19.3 (from torch->face-alignment)\n",
            "  Using cached nvidia_nccl_cu12-2.19.3-py3-none-manylinux1_x86_64.whl (166.0 MB)\n",
            "Collecting nvidia-nvtx-cu12==12.1.105 (from torch->face-alignment)\n",
            "  Using cached nvidia_nvtx_cu12-12.1.105-py3-none-manylinux1_x86_64.whl (99 kB)\n",
            "Requirement already satisfied: triton==2.2.0 in /usr/local/lib/python3.10/dist-packages (from torch->face-alignment) (2.2.0)\n",
            "Collecting nvidia-nvjitlink-cu12 (from nvidia-cusolver-cu12==11.4.5.107->torch->face-alignment)\n",
            "  Using cached nvidia_nvjitlink_cu12-12.4.127-py3-none-manylinux2014_x86_64.whl (21.1 MB)\n",
            "Requirement already satisfied: MarkupSafe>=2.0 in /usr/local/lib/python3.10/dist-packages (from jinja2->torch->face-alignment) (2.1.5)\n",
            "Requirement already satisfied: mpmath>=0.19 in /usr/local/lib/python3.10/dist-packages (from sympy->torch->face-alignment) (1.3.0)\n",
            "Installing collected packages: nvidia-nvtx-cu12, nvidia-nvjitlink-cu12, nvidia-nccl-cu12, nvidia-curand-cu12, nvidia-cufft-cu12, nvidia-cuda-runtime-cu12, nvidia-cuda-nvrtc-cu12, nvidia-cuda-cupti-cu12, nvidia-cublas-cu12, nvidia-cusparse-cu12, nvidia-cudnn-cu12, nvidia-cusolver-cu12, face-alignment\n",
            "Successfully installed face-alignment-1.4.1 nvidia-cublas-cu12-12.1.3.1 nvidia-cuda-cupti-cu12-12.1.105 nvidia-cuda-nvrtc-cu12-12.1.105 nvidia-cuda-runtime-cu12-12.1.105 nvidia-cudnn-cu12-8.9.2.26 nvidia-cufft-cu12-11.0.2.54 nvidia-curand-cu12-10.3.2.106 nvidia-cusolver-cu12-11.4.5.107 nvidia-cusparse-cu12-12.1.0.106 nvidia-nccl-cu12-2.19.3 nvidia-nvjitlink-cu12-12.4.127 nvidia-nvtx-cu12-12.1.105\n"
          ]
        }
      ]
    },
    {
      "cell_type": "code",
      "source": [
        "def detect_mouts_celeb(deepfake_folder, num_videos=30):\n",
        "  scores = np.array([]);\n",
        "  filename_list = []\n",
        "  for deepfake in tqdm(islice(os.listdir(deepfake_folder), num_videos), total=num_videos):\n",
        "    vid_path = os.path.join(deepfake_folder, deepfake)\n",
        "    video_cap = cv2.VideoCapture(vid_path)\n",
        "    target_dir = os.path.join(deepfake_folder, \"cropped_mouths\", deepfake.replace('.mp4', ''))\n",
        "    filename_list.append(deepfake.replace('.mp4', ''))\n",
        "    crop_mouths(video_cap, target_dir, \"cuda\")\n",
        "  return filename_list"
      ],
      "metadata": {
        "id": "xvfE07r3DVQI"
      },
      "execution_count": null,
      "outputs": []
    },
    {
      "cell_type": "code",
      "source": [
        "real_celeb_filenames = detect_mouts_celeb(real_celeb_dir)\n",
        "fake_celeb_filenames = detect_mouts_celeb(fake_celeb_dir)"
      ],
      "metadata": {
        "id": "q-KQcI0MDZkN",
        "colab": {
          "base_uri": "https://localhost:8080/"
        },
        "outputId": "859c151d-5ef9-4cd9-a8db-d17f1988bd04"
      },
      "execution_count": null,
      "outputs": [
        {
          "output_type": "stream",
          "name": "stderr",
          "text": [
            "  3%|▎         | 1/30 [01:23<40:17, 83.37s/it]"
          ]
        },
        {
          "output_type": "stream",
          "name": "stdout",
          "text": [
            "Extracted Mouths: /content/deepfake_detection_datasets/Celeb-DF/Celeb-real/cropped_mouths/00000\n"
          ]
        },
        {
          "output_type": "stream",
          "name": "stderr",
          "text": [
            "\r  7%|▋         | 2/30 [02:27<33:45, 72.34s/it]"
          ]
        },
        {
          "output_type": "stream",
          "name": "stdout",
          "text": [
            "Extracted Mouths: /content/deepfake_detection_datasets/Celeb-DF/Celeb-real/cropped_mouths/00001\n"
          ]
        },
        {
          "output_type": "stream",
          "name": "stderr",
          "text": [
            "\r 10%|█         | 3/30 [03:27<29:58, 66.60s/it]"
          ]
        },
        {
          "output_type": "stream",
          "name": "stdout",
          "text": [
            "Extracted Mouths: /content/deepfake_detection_datasets/Celeb-DF/Celeb-real/cropped_mouths/00002\n"
          ]
        },
        {
          "output_type": "stream",
          "name": "stderr",
          "text": [
            "\r 13%|█▎        | 4/30 [04:27<27:38, 63.80s/it]"
          ]
        },
        {
          "output_type": "stream",
          "name": "stdout",
          "text": [
            "Extracted Mouths: /content/deepfake_detection_datasets/Celeb-DF/Celeb-real/cropped_mouths/00003\n"
          ]
        },
        {
          "output_type": "stream",
          "name": "stderr",
          "text": [
            "\r 17%|█▋        | 5/30 [05:23<25:24, 60.99s/it]"
          ]
        },
        {
          "output_type": "stream",
          "name": "stdout",
          "text": [
            "Extracted Mouths: /content/deepfake_detection_datasets/Celeb-DF/Celeb-real/cropped_mouths/00004\n"
          ]
        },
        {
          "output_type": "stream",
          "name": "stderr",
          "text": [
            "\r 20%|██        | 6/30 [06:22<24:08, 60.37s/it]"
          ]
        },
        {
          "output_type": "stream",
          "name": "stdout",
          "text": [
            "Extracted Mouths: /content/deepfake_detection_datasets/Celeb-DF/Celeb-real/cropped_mouths/00005\n"
          ]
        },
        {
          "output_type": "stream",
          "name": "stderr",
          "text": [
            "\r 23%|██▎       | 7/30 [07:36<24:54, 64.97s/it]"
          ]
        },
        {
          "output_type": "stream",
          "name": "stdout",
          "text": [
            "Extracted Mouths: /content/deepfake_detection_datasets/Celeb-DF/Celeb-real/cropped_mouths/00006\n"
          ]
        },
        {
          "output_type": "stream",
          "name": "stderr",
          "text": [
            "\r 27%|██▋       | 8/30 [08:58<25:44, 70.22s/it]"
          ]
        },
        {
          "output_type": "stream",
          "name": "stdout",
          "text": [
            "Extracted Mouths: /content/deepfake_detection_datasets/Celeb-DF/Celeb-real/cropped_mouths/00007\n"
          ]
        },
        {
          "output_type": "stream",
          "name": "stderr",
          "text": [
            "\r 30%|███       | 9/30 [09:57<23:20, 66.69s/it]"
          ]
        },
        {
          "output_type": "stream",
          "name": "stdout",
          "text": [
            "Extracted Mouths: /content/deepfake_detection_datasets/Celeb-DF/Celeb-real/cropped_mouths/00008\n"
          ]
        },
        {
          "output_type": "stream",
          "name": "stderr",
          "text": [
            "\r 33%|███▎      | 10/30 [11:06<22:27, 67.39s/it]"
          ]
        },
        {
          "output_type": "stream",
          "name": "stdout",
          "text": [
            "Extracted Mouths: /content/deepfake_detection_datasets/Celeb-DF/Celeb-real/cropped_mouths/00009\n"
          ]
        },
        {
          "output_type": "stream",
          "name": "stderr",
          "text": [
            "\r 37%|███▋      | 11/30 [12:15<21:31, 67.99s/it]"
          ]
        },
        {
          "output_type": "stream",
          "name": "stdout",
          "text": [
            "Extracted Mouths: /content/deepfake_detection_datasets/Celeb-DF/Celeb-real/cropped_mouths/00010\n"
          ]
        },
        {
          "output_type": "stream",
          "name": "stderr",
          "text": [
            "\r 40%|████      | 12/30 [13:09<19:06, 63.70s/it]"
          ]
        },
        {
          "output_type": "stream",
          "name": "stdout",
          "text": [
            "Extracted Mouths: /content/deepfake_detection_datasets/Celeb-DF/Celeb-real/cropped_mouths/00011\n"
          ]
        },
        {
          "output_type": "stream",
          "name": "stderr",
          "text": [
            "\r 43%|████▎     | 13/30 [14:15<18:12, 64.28s/it]"
          ]
        },
        {
          "output_type": "stream",
          "name": "stdout",
          "text": [
            "Extracted Mouths: /content/deepfake_detection_datasets/Celeb-DF/Celeb-real/cropped_mouths/00012\n"
          ]
        },
        {
          "output_type": "stream",
          "name": "stderr",
          "text": [
            "\r 47%|████▋     | 14/30 [15:24<17:34, 65.91s/it]"
          ]
        },
        {
          "output_type": "stream",
          "name": "stdout",
          "text": [
            "Extracted Mouths: /content/deepfake_detection_datasets/Celeb-DF/Celeb-real/cropped_mouths/00013\n"
          ]
        },
        {
          "output_type": "stream",
          "name": "stderr",
          "text": [
            "\r 50%|█████     | 15/30 [16:41<17:17, 69.17s/it]"
          ]
        },
        {
          "output_type": "stream",
          "name": "stdout",
          "text": [
            "Extracted Mouths: /content/deepfake_detection_datasets/Celeb-DF/Celeb-real/cropped_mouths/00014\n"
          ]
        },
        {
          "output_type": "stream",
          "name": "stderr",
          "text": [
            "\r 53%|█████▎    | 16/30 [17:57<16:39, 71.37s/it]"
          ]
        },
        {
          "output_type": "stream",
          "name": "stdout",
          "text": [
            "Extracted Mouths: /content/deepfake_detection_datasets/Celeb-DF/Celeb-real/cropped_mouths/00015\n"
          ]
        },
        {
          "output_type": "stream",
          "name": "stderr",
          "text": [
            "\r 57%|█████▋    | 17/30 [19:11<15:35, 71.97s/it]"
          ]
        },
        {
          "output_type": "stream",
          "name": "stdout",
          "text": [
            "Extracted Mouths: /content/deepfake_detection_datasets/Celeb-DF/Celeb-real/cropped_mouths/00016\n"
          ]
        },
        {
          "output_type": "stream",
          "name": "stderr",
          "text": [
            "\r 60%|██████    | 18/30 [20:22<14:21, 71.80s/it]"
          ]
        },
        {
          "output_type": "stream",
          "name": "stdout",
          "text": [
            "Extracted Mouths: /content/deepfake_detection_datasets/Celeb-DF/Celeb-real/cropped_mouths/00017\n"
          ]
        },
        {
          "output_type": "stream",
          "name": "stderr",
          "text": [
            "\r 63%|██████▎   | 19/30 [21:26<12:42, 69.29s/it]"
          ]
        },
        {
          "output_type": "stream",
          "name": "stdout",
          "text": [
            "Extracted Mouths: /content/deepfake_detection_datasets/Celeb-DF/Celeb-real/cropped_mouths/00018\n"
          ]
        },
        {
          "output_type": "stream",
          "name": "stderr",
          "text": [
            "\r 67%|██████▋   | 20/30 [22:25<11:03, 66.40s/it]"
          ]
        },
        {
          "output_type": "stream",
          "name": "stdout",
          "text": [
            "Extracted Mouths: /content/deepfake_detection_datasets/Celeb-DF/Celeb-real/cropped_mouths/00019\n"
          ]
        },
        {
          "output_type": "stream",
          "name": "stderr",
          "text": [
            "\r 70%|███████   | 21/30 [23:28<09:46, 65.17s/it]"
          ]
        },
        {
          "output_type": "stream",
          "name": "stdout",
          "text": [
            "Extracted Mouths: /content/deepfake_detection_datasets/Celeb-DF/Celeb-real/cropped_mouths/00020\n"
          ]
        },
        {
          "output_type": "stream",
          "name": "stderr",
          "text": [
            "\r 73%|███████▎  | 22/30 [24:38<08:53, 66.63s/it]"
          ]
        },
        {
          "output_type": "stream",
          "name": "stdout",
          "text": [
            "Extracted Mouths: /content/deepfake_detection_datasets/Celeb-DF/Celeb-real/cropped_mouths/00021\n"
          ]
        },
        {
          "output_type": "stream",
          "name": "stderr",
          "text": [
            "\r 77%|███████▋  | 23/30 [25:43<07:43, 66.19s/it]"
          ]
        },
        {
          "output_type": "stream",
          "name": "stdout",
          "text": [
            "Extracted Mouths: /content/deepfake_detection_datasets/Celeb-DF/Celeb-real/cropped_mouths/00022\n"
          ]
        },
        {
          "output_type": "stream",
          "name": "stderr",
          "text": [
            "\r 80%|████████  | 24/30 [27:04<07:04, 70.79s/it]"
          ]
        },
        {
          "output_type": "stream",
          "name": "stdout",
          "text": [
            "Extracted Mouths: /content/deepfake_detection_datasets/Celeb-DF/Celeb-real/cropped_mouths/00023\n"
          ]
        },
        {
          "output_type": "stream",
          "name": "stderr",
          "text": [
            "\r 83%|████████▎ | 25/30 [27:59<05:29, 65.82s/it]"
          ]
        },
        {
          "output_type": "stream",
          "name": "stdout",
          "text": [
            "Extracted Mouths: /content/deepfake_detection_datasets/Celeb-DF/Celeb-real/cropped_mouths/00024\n"
          ]
        },
        {
          "output_type": "stream",
          "name": "stderr",
          "text": [
            "\r 87%|████████▋ | 26/30 [28:43<03:58, 59.51s/it]"
          ]
        },
        {
          "output_type": "stream",
          "name": "stdout",
          "text": [
            "Extracted Mouths: /content/deepfake_detection_datasets/Celeb-DF/Celeb-real/cropped_mouths/00025\n"
          ]
        },
        {
          "output_type": "stream",
          "name": "stderr",
          "text": [
            "\r 90%|█████████ | 27/30 [29:38<02:54, 58.11s/it]"
          ]
        },
        {
          "output_type": "stream",
          "name": "stdout",
          "text": [
            "Extracted Mouths: /content/deepfake_detection_datasets/Celeb-DF/Celeb-real/cropped_mouths/00026\n"
          ]
        },
        {
          "output_type": "stream",
          "name": "stderr",
          "text": [
            "\r 93%|█████████▎| 28/30 [30:46<02:02, 61.02s/it]"
          ]
        },
        {
          "output_type": "stream",
          "name": "stdout",
          "text": [
            "Extracted Mouths: /content/deepfake_detection_datasets/Celeb-DF/Celeb-real/cropped_mouths/00027\n"
          ]
        },
        {
          "output_type": "stream",
          "name": "stderr",
          "text": [
            "\r 97%|█████████▋| 29/30 [31:49<01:01, 61.48s/it]"
          ]
        },
        {
          "output_type": "stream",
          "name": "stdout",
          "text": [
            "Extracted Mouths: /content/deepfake_detection_datasets/Celeb-DF/Celeb-real/cropped_mouths/00028\n"
          ]
        },
        {
          "output_type": "stream",
          "name": "stderr",
          "text": [
            "100%|██████████| 30/30 [33:03<00:00, 66.10s/it]"
          ]
        },
        {
          "output_type": "stream",
          "name": "stdout",
          "text": [
            "Extracted Mouths: /content/deepfake_detection_datasets/Celeb-DF/Celeb-real/cropped_mouths/00029\n"
          ]
        },
        {
          "output_type": "stream",
          "name": "stderr",
          "text": [
            "\n",
            "  3%|▎         | 1/30 [01:04<30:57, 64.07s/it]"
          ]
        },
        {
          "output_type": "stream",
          "name": "stdout",
          "text": [
            "Extracted Mouths: /content/deepfake_detection_datasets/Celeb-DF/Celeb-synthesis/cropped_mouths/id0_id16_0000\n"
          ]
        },
        {
          "output_type": "stream",
          "name": "stderr",
          "text": [
            "\r  7%|▋         | 2/30 [02:10<30:40, 65.72s/it]"
          ]
        },
        {
          "output_type": "stream",
          "name": "stdout",
          "text": [
            "Extracted Mouths: /content/deepfake_detection_datasets/Celeb-DF/Celeb-synthesis/cropped_mouths/id0_id16_0001\n"
          ]
        },
        {
          "output_type": "stream",
          "name": "stderr",
          "text": [
            "\r 10%|█         | 3/30 [03:20<30:25, 67.61s/it]"
          ]
        },
        {
          "output_type": "stream",
          "name": "stdout",
          "text": [
            "Extracted Mouths: /content/deepfake_detection_datasets/Celeb-DF/Celeb-synthesis/cropped_mouths/id0_id16_0002\n"
          ]
        },
        {
          "output_type": "stream",
          "name": "stderr",
          "text": [
            "\r 13%|█▎        | 4/30 [04:32<29:56, 69.08s/it]"
          ]
        },
        {
          "output_type": "stream",
          "name": "stdout",
          "text": [
            "Extracted Mouths: /content/deepfake_detection_datasets/Celeb-DF/Celeb-synthesis/cropped_mouths/id0_id16_0003\n"
          ]
        },
        {
          "output_type": "stream",
          "name": "stderr",
          "text": [
            "\r 17%|█▋        | 5/30 [05:35<27:56, 67.07s/it]"
          ]
        },
        {
          "output_type": "stream",
          "name": "stdout",
          "text": [
            "Extracted Mouths: /content/deepfake_detection_datasets/Celeb-DF/Celeb-synthesis/cropped_mouths/id0_id16_0004\n"
          ]
        },
        {
          "output_type": "stream",
          "name": "stderr",
          "text": [
            "\r 20%|██        | 6/30 [06:41<26:35, 66.50s/it]"
          ]
        },
        {
          "output_type": "stream",
          "name": "stdout",
          "text": [
            "Extracted Mouths: /content/deepfake_detection_datasets/Celeb-DF/Celeb-synthesis/cropped_mouths/id0_id16_0005\n"
          ]
        },
        {
          "output_type": "stream",
          "name": "stderr",
          "text": [
            "\r 23%|██▎       | 7/30 [07:44<25:10, 65.66s/it]"
          ]
        },
        {
          "output_type": "stream",
          "name": "stdout",
          "text": [
            "Extracted Mouths: /content/deepfake_detection_datasets/Celeb-DF/Celeb-synthesis/cropped_mouths/id0_id16_0006\n"
          ]
        },
        {
          "output_type": "stream",
          "name": "stderr",
          "text": [
            "\r 27%|██▋       | 8/30 [09:03<25:37, 69.87s/it]"
          ]
        },
        {
          "output_type": "stream",
          "name": "stdout",
          "text": [
            "Extracted Mouths: /content/deepfake_detection_datasets/Celeb-DF/Celeb-synthesis/cropped_mouths/id0_id16_0007\n"
          ]
        },
        {
          "output_type": "stream",
          "name": "stderr",
          "text": [
            "\r 30%|███       | 9/30 [09:44<21:18, 60.88s/it]"
          ]
        },
        {
          "output_type": "stream",
          "name": "stdout",
          "text": [
            "Extracted Mouths: /content/deepfake_detection_datasets/Celeb-DF/Celeb-synthesis/cropped_mouths/id0_id16_0008\n"
          ]
        },
        {
          "output_type": "stream",
          "name": "stderr",
          "text": [
            "\r 33%|███▎      | 10/30 [10:45<20:15, 60.77s/it]"
          ]
        },
        {
          "output_type": "stream",
          "name": "stdout",
          "text": [
            "Extracted Mouths: /content/deepfake_detection_datasets/Celeb-DF/Celeb-synthesis/cropped_mouths/id0_id16_0009\n"
          ]
        },
        {
          "output_type": "stream",
          "name": "stderr",
          "text": [
            "\r 37%|███▋      | 11/30 [11:42<18:53, 59.68s/it]"
          ]
        },
        {
          "output_type": "stream",
          "name": "stdout",
          "text": [
            "Extracted Mouths: /content/deepfake_detection_datasets/Celeb-DF/Celeb-synthesis/cropped_mouths/id0_id17_0000\n"
          ]
        },
        {
          "output_type": "stream",
          "name": "stderr",
          "text": [
            "\r 40%|████      | 12/30 [12:41<17:50, 59.45s/it]"
          ]
        },
        {
          "output_type": "stream",
          "name": "stdout",
          "text": [
            "Extracted Mouths: /content/deepfake_detection_datasets/Celeb-DF/Celeb-synthesis/cropped_mouths/id0_id17_0001\n"
          ]
        },
        {
          "output_type": "stream",
          "name": "stderr",
          "text": [
            "\r 43%|████▎     | 13/30 [13:47<17:25, 61.52s/it]"
          ]
        },
        {
          "output_type": "stream",
          "name": "stdout",
          "text": [
            "Extracted Mouths: /content/deepfake_detection_datasets/Celeb-DF/Celeb-synthesis/cropped_mouths/id0_id17_0002\n"
          ]
        },
        {
          "output_type": "stream",
          "name": "stderr",
          "text": [
            "\r 47%|████▋     | 14/30 [14:48<16:20, 61.29s/it]"
          ]
        },
        {
          "output_type": "stream",
          "name": "stdout",
          "text": [
            "Extracted Mouths: /content/deepfake_detection_datasets/Celeb-DF/Celeb-synthesis/cropped_mouths/id0_id17_0003\n"
          ]
        },
        {
          "output_type": "stream",
          "name": "stderr",
          "text": [
            "\r 50%|█████     | 15/30 [15:47<15:08, 60.53s/it]"
          ]
        },
        {
          "output_type": "stream",
          "name": "stdout",
          "text": [
            "Extracted Mouths: /content/deepfake_detection_datasets/Celeb-DF/Celeb-synthesis/cropped_mouths/id0_id17_0005\n"
          ]
        },
        {
          "output_type": "stream",
          "name": "stderr",
          "text": [
            "\r 53%|█████▎    | 16/30 [16:50<14:20, 61.43s/it]"
          ]
        },
        {
          "output_type": "stream",
          "name": "stdout",
          "text": [
            "Extracted Mouths: /content/deepfake_detection_datasets/Celeb-DF/Celeb-synthesis/cropped_mouths/id0_id17_0006\n"
          ]
        },
        {
          "output_type": "stream",
          "name": "stderr",
          "text": [
            "\r 57%|█████▋    | 17/30 [18:07<14:15, 65.84s/it]"
          ]
        },
        {
          "output_type": "stream",
          "name": "stdout",
          "text": [
            "Extracted Mouths: /content/deepfake_detection_datasets/Celeb-DF/Celeb-synthesis/cropped_mouths/id0_id17_0007\n"
          ]
        },
        {
          "output_type": "stream",
          "name": "stderr",
          "text": [
            "\r 60%|██████    | 18/30 [19:07<12:50, 64.23s/it]"
          ]
        },
        {
          "output_type": "stream",
          "name": "stdout",
          "text": [
            "Extracted Mouths: /content/deepfake_detection_datasets/Celeb-DF/Celeb-synthesis/cropped_mouths/id0_id17_0009\n"
          ]
        },
        {
          "output_type": "stream",
          "name": "stderr",
          "text": [
            "\r 63%|██████▎   | 19/30 [20:07<11:31, 62.86s/it]"
          ]
        },
        {
          "output_type": "stream",
          "name": "stdout",
          "text": [
            "Extracted Mouths: /content/deepfake_detection_datasets/Celeb-DF/Celeb-synthesis/cropped_mouths/id0_id1_0000\n"
          ]
        },
        {
          "output_type": "stream",
          "name": "stderr",
          "text": [
            "\r 67%|██████▋   | 20/30 [21:07<10:19, 61.99s/it]"
          ]
        },
        {
          "output_type": "stream",
          "name": "stdout",
          "text": [
            "Extracted Mouths: /content/deepfake_detection_datasets/Celeb-DF/Celeb-synthesis/cropped_mouths/id0_id1_0001\n"
          ]
        },
        {
          "output_type": "stream",
          "name": "stderr",
          "text": [
            "\r 70%|███████   | 21/30 [22:07<09:14, 61.57s/it]"
          ]
        },
        {
          "output_type": "stream",
          "name": "stdout",
          "text": [
            "Extracted Mouths: /content/deepfake_detection_datasets/Celeb-DF/Celeb-synthesis/cropped_mouths/id0_id1_0002\n"
          ]
        },
        {
          "output_type": "stream",
          "name": "stderr",
          "text": [
            "\r 73%|███████▎  | 22/30 [23:21<08:41, 65.19s/it]"
          ]
        },
        {
          "output_type": "stream",
          "name": "stdout",
          "text": [
            "Extracted Mouths: /content/deepfake_detection_datasets/Celeb-DF/Celeb-synthesis/cropped_mouths/id0_id1_0003\n"
          ]
        },
        {
          "output_type": "stream",
          "name": "stderr",
          "text": [
            "\r 77%|███████▋  | 23/30 [24:11<07:05, 60.80s/it]"
          ]
        },
        {
          "output_type": "stream",
          "name": "stdout",
          "text": [
            "Extracted Mouths: /content/deepfake_detection_datasets/Celeb-DF/Celeb-synthesis/cropped_mouths/id0_id1_0005\n"
          ]
        },
        {
          "output_type": "stream",
          "name": "stderr",
          "text": [
            "\r 80%|████████  | 24/30 [25:15<06:10, 61.75s/it]"
          ]
        },
        {
          "output_type": "stream",
          "name": "stdout",
          "text": [
            "Extracted Mouths: /content/deepfake_detection_datasets/Celeb-DF/Celeb-synthesis/cropped_mouths/id0_id1_0006\n"
          ]
        },
        {
          "output_type": "stream",
          "name": "stderr",
          "text": [
            "\r 83%|████████▎ | 25/30 [26:20<05:13, 62.60s/it]"
          ]
        },
        {
          "output_type": "stream",
          "name": "stdout",
          "text": [
            "Extracted Mouths: /content/deepfake_detection_datasets/Celeb-DF/Celeb-synthesis/cropped_mouths/id0_id1_0007\n"
          ]
        },
        {
          "output_type": "stream",
          "name": "stderr",
          "text": [
            "\r 87%|████████▋ | 26/30 [27:27<04:15, 63.94s/it]"
          ]
        },
        {
          "output_type": "stream",
          "name": "stdout",
          "text": [
            "Extracted Mouths: /content/deepfake_detection_datasets/Celeb-DF/Celeb-synthesis/cropped_mouths/id0_id1_0009\n"
          ]
        },
        {
          "output_type": "stream",
          "name": "stderr",
          "text": [
            "\r 90%|█████████ | 27/30 [28:42<03:21, 67.22s/it]"
          ]
        },
        {
          "output_type": "stream",
          "name": "stdout",
          "text": [
            "Extracted Mouths: /content/deepfake_detection_datasets/Celeb-DF/Celeb-synthesis/cropped_mouths/id0_id20_0000\n"
          ]
        },
        {
          "output_type": "stream",
          "name": "stderr",
          "text": [
            "\r 93%|█████████▎| 28/30 [29:42<02:10, 65.00s/it]"
          ]
        },
        {
          "output_type": "stream",
          "name": "stdout",
          "text": [
            "Extracted Mouths: /content/deepfake_detection_datasets/Celeb-DF/Celeb-synthesis/cropped_mouths/id0_id20_0001\n"
          ]
        },
        {
          "output_type": "stream",
          "name": "stderr",
          "text": [
            "\r 97%|█████████▋| 29/30 [30:43<01:03, 63.91s/it]"
          ]
        },
        {
          "output_type": "stream",
          "name": "stdout",
          "text": [
            "Extracted Mouths: /content/deepfake_detection_datasets/Celeb-DF/Celeb-synthesis/cropped_mouths/id0_id20_0002\n"
          ]
        },
        {
          "output_type": "stream",
          "name": "stderr",
          "text": [
            "100%|██████████| 30/30 [31:42<00:00, 63.42s/it]"
          ]
        },
        {
          "output_type": "stream",
          "name": "stdout",
          "text": [
            "Extracted Mouths: /content/deepfake_detection_datasets/Celeb-DF/Celeb-synthesis/cropped_mouths/id0_id20_0003\n"
          ]
        },
        {
          "output_type": "stream",
          "name": "stderr",
          "text": [
            "\n"
          ]
        }
      ]
    },
    {
      "cell_type": "markdown",
      "source": [
        "## Predict"
      ],
      "metadata": {
        "id": "rxbT2HH9-VE2"
      }
    },
    {
      "cell_type": "code",
      "source": [
        "import locale\n",
        "locale.getpreferredencoding = lambda: \"UTF-8\""
      ],
      "metadata": {
        "id": "8kXKlB_8jDDq"
      },
      "execution_count": null,
      "outputs": []
    },
    {
      "cell_type": "code",
      "source": [
        "!python evaluate.py --dataset CelebDF --weights_forgery ./models/weights/lipforensics_ff.pth --num_workers 0 --frames_per_clip 10"
      ],
      "metadata": {
        "colab": {
          "base_uri": "https://localhost:8080/"
        },
        "id": "oMPKM2Uc7xFV",
        "outputId": "232f5c9c-9977-4b73-935c-da016d5a9b38"
      },
      "execution_count": null,
      "outputs": [
        {
          "output_type": "stream",
          "name": "stdout",
          "text": [
            "Face forgery weights loaded.\n",
            "Loading Datasets:   0% 0/2 [00:00<?, ?it/s]Celeb-real Real\n",
            "Loading Datasets:  50% 1/2 [00:24<00:24, 24.55s/it]Celeb-synthesis Fake\n",
            "Loading Datasets: 100% 2/2 [00:47<00:00, 23.93s/it]\n",
            "100% 8/8 [01:01<00:00,  7.64s/it]\n",
            "CelebDF AUC (video-level): 0.74, Logits (video-level): tensor([[-2.3468],\n",
            "        [-3.2496],\n",
            "        [-3.0685],\n",
            "        [-5.0563],\n",
            "        [-4.2045],\n",
            "        [-4.2607],\n",
            "        [-4.8862],\n",
            "        [-5.1996],\n",
            "        [-1.8329],\n",
            "        [-6.4544],\n",
            "        [-0.7074],\n",
            "        [-1.2789],\n",
            "        [-3.2394],\n",
            "        [ 0.4721],\n",
            "        [-1.8867],\n",
            "        [-2.7988],\n",
            "        [-3.6126],\n",
            "        [-3.2376],\n",
            "        [ 2.8980],\n",
            "        [-3.7402],\n",
            "        [-0.4970],\n",
            "        [-3.3806],\n",
            "        [-3.2451],\n",
            "        [-4.5594],\n",
            "        [-4.9303],\n",
            "        [-2.0580],\n",
            "        [-4.5488],\n",
            "        [-2.4695],\n",
            "        [-4.4996],\n",
            "        [-4.4918],\n",
            "        [ 2.4863],\n",
            "        [-2.7768],\n",
            "        [-3.1661],\n",
            "        [-2.3253],\n",
            "        [-1.6861],\n",
            "        [-2.2028],\n",
            "        [-2.2121],\n",
            "        [-0.9867],\n",
            "        [-3.1257],\n",
            "        [-3.2533],\n",
            "        [-1.1948],\n",
            "        [-2.6823],\n",
            "        [-2.5697],\n",
            "        [-1.0770],\n",
            "        [-2.1926],\n",
            "        [-2.3930],\n",
            "        [-2.5664],\n",
            "        [-2.9689],\n",
            "        [ 0.4404],\n",
            "        [-3.0704],\n",
            "        [-2.1661],\n",
            "        [-1.6317],\n",
            "        [-1.1099],\n",
            "        [-2.4867],\n",
            "        [-1.1611],\n",
            "        [-2.4667],\n",
            "        [ 1.8042],\n",
            "        [-2.0110],\n",
            "        [-3.8126],\n",
            "        [-0.6010]], device='cuda:0')\n",
            "Predicitons: tensor([0, 0, 0, 0, 0, 0, 0, 0, 0, 0, 0, 0, 0, 0, 0, 0, 0, 0, 0, 0, 0, 0, 0, 0,\n",
            "        0, 0, 0, 0, 0, 0, 1, 1, 1, 1, 1, 1, 1, 1, 1, 1, 1, 1, 1, 1, 1, 1, 1, 1,\n",
            "        1, 1, 1, 1, 1, 1, 1, 1, 1, 1, 1, 1], device='cuda:0')\n"
          ]
        }
      ]
    },
    {
      "cell_type": "code",
      "source": [
        "results = torch.tensor([[-2.3468],\n",
        "        [-3.2496],\n",
        "        [-3.0685],\n",
        "        [-5.0563],\n",
        "        [-4.2045],\n",
        "        [-4.2607],\n",
        "        [-4.8862],\n",
        "        [-5.1996],\n",
        "        [-1.8329],\n",
        "        [-6.4544],\n",
        "        [-0.7074],\n",
        "        [-1.2789],\n",
        "        [-3.2394],\n",
        "        [ 0.4721],\n",
        "        [-1.8867],\n",
        "        [-2.7988],\n",
        "        [-3.6126],\n",
        "        [-3.2376],\n",
        "        [ 2.8980],\n",
        "        [-3.7402],\n",
        "        [-0.4970],\n",
        "        [-3.3806],\n",
        "        [-3.2451],\n",
        "        [-4.5594],\n",
        "        [-4.9303],\n",
        "        [-2.0580],\n",
        "        [-4.5488],\n",
        "        [-2.4695],\n",
        "        [-4.4996],\n",
        "        [-4.4918],\n",
        "        [ 2.4863],\n",
        "        [-2.7768],\n",
        "        [-3.1661],\n",
        "        [-2.3253],\n",
        "        [-1.6861],\n",
        "        [-2.2028],\n",
        "        [-2.2121],\n",
        "        [-0.9867],\n",
        "        [-3.1257],\n",
        "        [-3.2533],\n",
        "        [-1.1948],\n",
        "        [-2.6823],\n",
        "        [-2.5697],\n",
        "        [-1.0770],\n",
        "        [-2.1926],\n",
        "        [-2.3930],\n",
        "        [-2.5664],\n",
        "        [-2.9689],\n",
        "        [ 0.4404],\n",
        "        [-3.0704],\n",
        "        [-2.1661],\n",
        "        [-1.6317],\n",
        "        [-1.1099],\n",
        "        [-2.4867],\n",
        "        [-1.1611],\n",
        "        [-2.4667],\n",
        "        [ 1.8042],\n",
        "        [-2.0110],\n",
        "        [-3.8126],\n",
        "        [-0.6010]])"
      ],
      "metadata": {
        "id": "BM9IFVzN-TuX"
      },
      "execution_count": null,
      "outputs": []
    },
    {
      "cell_type": "code",
      "source": [
        "sigmoid_results = calculate_sigmoid(results)\n",
        "score_real, score_fake = calculate_scores(sigmoid_results, 30)"
      ],
      "metadata": {
        "id": "1TyxqeB5BHw3"
      },
      "execution_count": null,
      "outputs": []
    },
    {
      "cell_type": "code",
      "source": [
        "score_fake"
      ],
      "metadata": {
        "colab": {
          "base_uri": "https://localhost:8080/"
        },
        "id": "e84IWmJrB9Mo",
        "outputId": "0be0cb55-aa0d-40cf-da8c-de660c078c5a"
      },
      "execution_count": null,
      "outputs": [
        {
          "output_type": "execute_result",
          "data": {
            "text/plain": [
              "array([0.81552225, 0.02238336, 0.01527567, 0.03471338, 0.06379856,\n",
              "       0.03906049, 0.03871291, 0.12060642, 0.01589544, 0.01401795,\n",
              "       0.10021843, 0.02454729, 0.0273928 , 0.11135247, 0.03944515,\n",
              "       0.03251496, 0.02748086, 0.01854384, 0.36364001, 0.01678404,\n",
              "       0.04046156, 0.06712591, 0.10813832, 0.02969303, 0.10329852,\n",
              "       0.03027471, 0.69087219, 0.0469314 , 0.00806119, 0.16784188])"
            ]
          },
          "metadata": {},
          "execution_count": 35
        }
      ]
    },
    {
      "cell_type": "markdown",
      "source": [
        "# VASA"
      ],
      "metadata": {
        "id": "l1ZwVr42r3SE"
      }
    },
    {
      "cell_type": "code",
      "source": [
        "vasa_dir = \"/content/deepfake_detection_datasets/VASA-1\"\n",
        "dataset = \"VASA-1\""
      ],
      "metadata": {
        "id": "TM7U4X-NsBt-"
      },
      "execution_count": null,
      "outputs": []
    },
    {
      "cell_type": "markdown",
      "source": [
        "## Data preperation"
      ],
      "metadata": {
        "id": "KB60CD0R74hH"
      }
    },
    {
      "cell_type": "code",
      "source": [
        "!pip install face-alignment\n",
        "import face_alignment\n",
        "import json\n",
        "\n",
        "STD_SIZE = (256, 256)\n",
        "STABLE_POINTS = [33, 36, 39, 42, 45]\n",
        "mean_face_landmarks = np.load(\"/content/LipForensics/preprocessing/20words_mean_face.npy\")"
      ],
      "metadata": {
        "id": "OHBFxexWAhik"
      },
      "execution_count": null,
      "outputs": []
    },
    {
      "cell_type": "code",
      "source": [
        "def detect_vasa_deepfake(deepfake_folder):\n",
        "  for deepfake in tqdm(os.listdir(deepfake_folder)):\n",
        "    vid_path = os.path.join(deepfake_folder, deepfake)\n",
        "\n",
        "    video_cap = cv2.VideoCapture(vid_path)\n",
        "    target_dir = os.path.join(deepfake_folder, \"cropped_mouths\", deepfake.replace('.mp4', ''))\n",
        "    crop_mouths(video_cap, target_dir, \"cuda\")"
      ],
      "metadata": {
        "id": "X0h7cfEyr5SW"
      },
      "execution_count": null,
      "outputs": []
    },
    {
      "cell_type": "code",
      "source": [
        "detect_vasa_deepfake(vasa_dir)"
      ],
      "metadata": {
        "colab": {
          "base_uri": "https://localhost:8080/"
        },
        "id": "yc8_yxeEsEl4",
        "outputId": "d745e60d-c131-4def-9df1-95bb4afcece1"
      },
      "execution_count": null,
      "outputs": [
        {
          "output_type": "stream",
          "name": "stderr",
          "text": [
            "\r  0%|          | 0/16 [00:00<?, ?it/s]"
          ]
        },
        {
          "output_type": "stream",
          "name": "stdout",
          "text": [
            "/content/deepfake_detection_datasets/VASA-1/cropped_mouths/10/0059.png\n",
            "/content/deepfake_detection_datasets/VASA-1/cropped_mouths/10/0060.png\n",
            "/content/deepfake_detection_datasets/VASA-1/cropped_mouths/10/0061.png\n",
            "/content/deepfake_detection_datasets/VASA-1/cropped_mouths/10/0062.png\n",
            "/content/deepfake_detection_datasets/VASA-1/cropped_mouths/10/0063.png\n",
            "/content/deepfake_detection_datasets/VASA-1/cropped_mouths/10/0064.png\n",
            "/content/deepfake_detection_datasets/VASA-1/cropped_mouths/10/0065.png\n",
            "/content/deepfake_detection_datasets/VASA-1/cropped_mouths/10/0066.png\n",
            "/content/deepfake_detection_datasets/VASA-1/cropped_mouths/10/0067.png\n",
            "/content/deepfake_detection_datasets/VASA-1/cropped_mouths/10/0068.png\n",
            "/content/deepfake_detection_datasets/VASA-1/cropped_mouths/10/0069.png\n",
            "Extracted Mouths: /content/deepfake_detection_datasets/VASA-1/cropped_mouths/10\n"
          ]
        },
        {
          "output_type": "stream",
          "name": "stderr",
          "text": [
            " 12%|█▎        | 2/16 [00:16<01:44,  7.50s/it]"
          ]
        },
        {
          "output_type": "stream",
          "name": "stdout",
          "text": [
            "Extracted Mouths: /content/deepfake_detection_datasets/VASA-1/cropped_mouths/11\n",
            "/content/deepfake_detection_datasets/VASA-1/cropped_mouths/12/0059.png\n",
            "/content/deepfake_detection_datasets/VASA-1/cropped_mouths/12/0060.png\n",
            "/content/deepfake_detection_datasets/VASA-1/cropped_mouths/12/0061.png\n",
            "/content/deepfake_detection_datasets/VASA-1/cropped_mouths/12/0062.png\n",
            "/content/deepfake_detection_datasets/VASA-1/cropped_mouths/12/0063.png\n",
            "/content/deepfake_detection_datasets/VASA-1/cropped_mouths/12/0064.png\n",
            "/content/deepfake_detection_datasets/VASA-1/cropped_mouths/12/0065.png\n",
            "/content/deepfake_detection_datasets/VASA-1/cropped_mouths/12/0066.png\n",
            "/content/deepfake_detection_datasets/VASA-1/cropped_mouths/12/0067.png\n",
            "/content/deepfake_detection_datasets/VASA-1/cropped_mouths/12/0068.png\n",
            "/content/deepfake_detection_datasets/VASA-1/cropped_mouths/12/0069.png\n",
            "Extracted Mouths: /content/deepfake_detection_datasets/VASA-1/cropped_mouths/12\n"
          ]
        },
        {
          "output_type": "stream",
          "name": "stderr",
          "text": [
            "\r 19%|█▉        | 3/16 [00:41<03:20, 15.42s/it]"
          ]
        },
        {
          "output_type": "stream",
          "name": "stdout",
          "text": [
            "/content/deepfake_detection_datasets/VASA-1/cropped_mouths/13/0059.png\n",
            "/content/deepfake_detection_datasets/VASA-1/cropped_mouths/13/0060.png\n",
            "/content/deepfake_detection_datasets/VASA-1/cropped_mouths/13/0061.png\n",
            "/content/deepfake_detection_datasets/VASA-1/cropped_mouths/13/0062.png\n",
            "/content/deepfake_detection_datasets/VASA-1/cropped_mouths/13/0063.png\n",
            "/content/deepfake_detection_datasets/VASA-1/cropped_mouths/13/0064.png\n",
            "/content/deepfake_detection_datasets/VASA-1/cropped_mouths/13/0065.png\n",
            "/content/deepfake_detection_datasets/VASA-1/cropped_mouths/13/0066.png\n",
            "/content/deepfake_detection_datasets/VASA-1/cropped_mouths/13/0067.png\n",
            "/content/deepfake_detection_datasets/VASA-1/cropped_mouths/13/0068.png\n",
            "/content/deepfake_detection_datasets/VASA-1/cropped_mouths/13/0069.png\n",
            "Extracted Mouths: /content/deepfake_detection_datasets/VASA-1/cropped_mouths/13\n"
          ]
        },
        {
          "output_type": "stream",
          "name": "stderr",
          "text": [
            "\r 25%|██▌       | 4/16 [01:08<03:57, 19.79s/it]"
          ]
        },
        {
          "output_type": "stream",
          "name": "stdout",
          "text": [
            "/content/deepfake_detection_datasets/VASA-1/cropped_mouths/15/0059.png\n",
            "/content/deepfake_detection_datasets/VASA-1/cropped_mouths/15/0060.png\n",
            "/content/deepfake_detection_datasets/VASA-1/cropped_mouths/15/0061.png\n",
            "/content/deepfake_detection_datasets/VASA-1/cropped_mouths/15/0062.png\n",
            "/content/deepfake_detection_datasets/VASA-1/cropped_mouths/15/0063.png\n",
            "/content/deepfake_detection_datasets/VASA-1/cropped_mouths/15/0064.png\n",
            "/content/deepfake_detection_datasets/VASA-1/cropped_mouths/15/0065.png\n",
            "/content/deepfake_detection_datasets/VASA-1/cropped_mouths/15/0066.png\n",
            "/content/deepfake_detection_datasets/VASA-1/cropped_mouths/15/0067.png\n",
            "/content/deepfake_detection_datasets/VASA-1/cropped_mouths/15/0068.png\n",
            "/content/deepfake_detection_datasets/VASA-1/cropped_mouths/15/0069.png\n",
            "Extracted Mouths: /content/deepfake_detection_datasets/VASA-1/cropped_mouths/15\n"
          ]
        },
        {
          "output_type": "stream",
          "name": "stderr",
          "text": [
            "\r 31%|███▏      | 5/16 [01:34<04:02, 22.08s/it]"
          ]
        },
        {
          "output_type": "stream",
          "name": "stdout",
          "text": [
            "/content/deepfake_detection_datasets/VASA-1/cropped_mouths/17/0059.png\n",
            "/content/deepfake_detection_datasets/VASA-1/cropped_mouths/17/0060.png\n",
            "/content/deepfake_detection_datasets/VASA-1/cropped_mouths/17/0061.png\n",
            "/content/deepfake_detection_datasets/VASA-1/cropped_mouths/17/0062.png\n",
            "/content/deepfake_detection_datasets/VASA-1/cropped_mouths/17/0063.png\n",
            "/content/deepfake_detection_datasets/VASA-1/cropped_mouths/17/0064.png\n",
            "/content/deepfake_detection_datasets/VASA-1/cropped_mouths/17/0065.png\n",
            "/content/deepfake_detection_datasets/VASA-1/cropped_mouths/17/0066.png\n",
            "/content/deepfake_detection_datasets/VASA-1/cropped_mouths/17/0067.png\n",
            "/content/deepfake_detection_datasets/VASA-1/cropped_mouths/17/0068.png\n",
            "/content/deepfake_detection_datasets/VASA-1/cropped_mouths/17/0069.png\n",
            "Extracted Mouths: /content/deepfake_detection_datasets/VASA-1/cropped_mouths/17\n"
          ]
        },
        {
          "output_type": "stream",
          "name": "stderr",
          "text": [
            "\r 38%|███▊      | 6/16 [01:59<03:52, 23.22s/it]"
          ]
        },
        {
          "output_type": "stream",
          "name": "stdout",
          "text": [
            "/content/deepfake_detection_datasets/VASA-1/cropped_mouths/3/0059.png\n",
            "/content/deepfake_detection_datasets/VASA-1/cropped_mouths/3/0060.png\n",
            "/content/deepfake_detection_datasets/VASA-1/cropped_mouths/3/0061.png\n",
            "/content/deepfake_detection_datasets/VASA-1/cropped_mouths/3/0062.png\n",
            "/content/deepfake_detection_datasets/VASA-1/cropped_mouths/3/0063.png\n",
            "/content/deepfake_detection_datasets/VASA-1/cropped_mouths/3/0064.png\n",
            "/content/deepfake_detection_datasets/VASA-1/cropped_mouths/3/0065.png\n",
            "/content/deepfake_detection_datasets/VASA-1/cropped_mouths/3/0066.png\n",
            "/content/deepfake_detection_datasets/VASA-1/cropped_mouths/3/0067.png\n",
            "/content/deepfake_detection_datasets/VASA-1/cropped_mouths/3/0068.png\n",
            "/content/deepfake_detection_datasets/VASA-1/cropped_mouths/3/0069.png\n",
            "Extracted Mouths: /content/deepfake_detection_datasets/VASA-1/cropped_mouths/3\n"
          ]
        },
        {
          "output_type": "stream",
          "name": "stderr",
          "text": [
            "\r 44%|████▍     | 7/16 [02:25<03:36, 24.10s/it]"
          ]
        },
        {
          "output_type": "stream",
          "name": "stdout",
          "text": [
            "/content/deepfake_detection_datasets/VASA-1/cropped_mouths/5.mov/0059.png\n",
            "/content/deepfake_detection_datasets/VASA-1/cropped_mouths/5.mov/0060.png\n",
            "/content/deepfake_detection_datasets/VASA-1/cropped_mouths/5.mov/0061.png\n",
            "/content/deepfake_detection_datasets/VASA-1/cropped_mouths/5.mov/0062.png\n",
            "/content/deepfake_detection_datasets/VASA-1/cropped_mouths/5.mov/0063.png\n",
            "/content/deepfake_detection_datasets/VASA-1/cropped_mouths/5.mov/0064.png\n",
            "/content/deepfake_detection_datasets/VASA-1/cropped_mouths/5.mov/0065.png\n",
            "/content/deepfake_detection_datasets/VASA-1/cropped_mouths/5.mov/0066.png\n",
            "/content/deepfake_detection_datasets/VASA-1/cropped_mouths/5.mov/0067.png\n",
            "/content/deepfake_detection_datasets/VASA-1/cropped_mouths/5.mov/0068.png\n",
            "/content/deepfake_detection_datasets/VASA-1/cropped_mouths/5.mov/0069.png\n",
            "Extracted Mouths: /content/deepfake_detection_datasets/VASA-1/cropped_mouths/5.mov\n"
          ]
        },
        {
          "output_type": "stream",
          "name": "stderr",
          "text": [
            "\r 50%|█████     | 8/16 [02:50<03:15, 24.42s/it]"
          ]
        },
        {
          "output_type": "stream",
          "name": "stdout",
          "text": [
            "/content/deepfake_detection_datasets/VASA-1/cropped_mouths/7/0059.png\n",
            "/content/deepfake_detection_datasets/VASA-1/cropped_mouths/7/0060.png\n",
            "/content/deepfake_detection_datasets/VASA-1/cropped_mouths/7/0061.png\n",
            "/content/deepfake_detection_datasets/VASA-1/cropped_mouths/7/0062.png\n",
            "/content/deepfake_detection_datasets/VASA-1/cropped_mouths/7/0063.png\n",
            "/content/deepfake_detection_datasets/VASA-1/cropped_mouths/7/0064.png\n",
            "/content/deepfake_detection_datasets/VASA-1/cropped_mouths/7/0065.png\n",
            "/content/deepfake_detection_datasets/VASA-1/cropped_mouths/7/0066.png\n",
            "/content/deepfake_detection_datasets/VASA-1/cropped_mouths/7/0067.png\n",
            "/content/deepfake_detection_datasets/VASA-1/cropped_mouths/7/0068.png\n",
            "/content/deepfake_detection_datasets/VASA-1/cropped_mouths/7/0069.png\n",
            "Extracted Mouths: /content/deepfake_detection_datasets/VASA-1/cropped_mouths/7\n"
          ]
        },
        {
          "output_type": "stream",
          "name": "stderr",
          "text": [
            "\r 56%|█████▋    | 9/16 [03:16<02:54, 25.00s/it]"
          ]
        },
        {
          "output_type": "stream",
          "name": "stdout",
          "text": [
            "/content/deepfake_detection_datasets/VASA-1/cropped_mouths/9/0059.png\n",
            "/content/deepfake_detection_datasets/VASA-1/cropped_mouths/9/0060.png\n",
            "/content/deepfake_detection_datasets/VASA-1/cropped_mouths/9/0061.png\n",
            "/content/deepfake_detection_datasets/VASA-1/cropped_mouths/9/0062.png\n",
            "/content/deepfake_detection_datasets/VASA-1/cropped_mouths/9/0063.png\n",
            "/content/deepfake_detection_datasets/VASA-1/cropped_mouths/9/0064.png\n",
            "/content/deepfake_detection_datasets/VASA-1/cropped_mouths/9/0065.png\n",
            "/content/deepfake_detection_datasets/VASA-1/cropped_mouths/9/0066.png\n",
            "/content/deepfake_detection_datasets/VASA-1/cropped_mouths/9/0067.png\n",
            "/content/deepfake_detection_datasets/VASA-1/cropped_mouths/9/0068.png\n",
            "/content/deepfake_detection_datasets/VASA-1/cropped_mouths/9/0069.png\n",
            "Extracted Mouths: /content/deepfake_detection_datasets/VASA-1/cropped_mouths/9\n"
          ]
        },
        {
          "output_type": "stream",
          "name": "stderr",
          "text": [
            " 69%|██████▉   | 11/16 [03:42<01:28, 17.62s/it]"
          ]
        },
        {
          "output_type": "stream",
          "name": "stdout",
          "text": [
            "Extracted Mouths: /content/deepfake_detection_datasets/VASA-1/cropped_mouths/cropped_mouths\n",
            "/content/deepfake_detection_datasets/VASA-1/cropped_mouths/l3/0059.png\n",
            "/content/deepfake_detection_datasets/VASA-1/cropped_mouths/l3/0060.png\n",
            "/content/deepfake_detection_datasets/VASA-1/cropped_mouths/l3/0061.png\n",
            "/content/deepfake_detection_datasets/VASA-1/cropped_mouths/l3/0062.png\n",
            "/content/deepfake_detection_datasets/VASA-1/cropped_mouths/l3/0063.png\n",
            "/content/deepfake_detection_datasets/VASA-1/cropped_mouths/l3/0064.png\n",
            "/content/deepfake_detection_datasets/VASA-1/cropped_mouths/l3/0065.png\n",
            "/content/deepfake_detection_datasets/VASA-1/cropped_mouths/l3/0066.png\n",
            "/content/deepfake_detection_datasets/VASA-1/cropped_mouths/l3/0067.png\n",
            "/content/deepfake_detection_datasets/VASA-1/cropped_mouths/l3/0068.png\n",
            "/content/deepfake_detection_datasets/VASA-1/cropped_mouths/l3/0069.png\n",
            "Extracted Mouths: /content/deepfake_detection_datasets/VASA-1/cropped_mouths/l3\n"
          ]
        },
        {
          "output_type": "stream",
          "name": "stderr",
          "text": [
            "\r 75%|███████▌  | 12/16 [04:08<01:19, 19.94s/it]"
          ]
        },
        {
          "output_type": "stream",
          "name": "stdout",
          "text": [
            "/content/deepfake_detection_datasets/VASA-1/cropped_mouths/l4/0059.png\n",
            "/content/deepfake_detection_datasets/VASA-1/cropped_mouths/l4/0060.png\n",
            "/content/deepfake_detection_datasets/VASA-1/cropped_mouths/l4/0061.png\n",
            "/content/deepfake_detection_datasets/VASA-1/cropped_mouths/l4/0062.png\n",
            "/content/deepfake_detection_datasets/VASA-1/cropped_mouths/l4/0063.png\n",
            "/content/deepfake_detection_datasets/VASA-1/cropped_mouths/l4/0064.png\n",
            "/content/deepfake_detection_datasets/VASA-1/cropped_mouths/l4/0065.png\n",
            "/content/deepfake_detection_datasets/VASA-1/cropped_mouths/l4/0066.png\n",
            "/content/deepfake_detection_datasets/VASA-1/cropped_mouths/l4/0067.png\n",
            "/content/deepfake_detection_datasets/VASA-1/cropped_mouths/l4/0068.png\n",
            "/content/deepfake_detection_datasets/VASA-1/cropped_mouths/l4/0069.png\n",
            "Extracted Mouths: /content/deepfake_detection_datasets/VASA-1/cropped_mouths/l4\n"
          ]
        },
        {
          "output_type": "stream",
          "name": "stderr",
          "text": [
            "\r 81%|████████▏ | 13/16 [04:33<01:04, 21.50s/it]"
          ]
        },
        {
          "output_type": "stream",
          "name": "stdout",
          "text": [
            "/content/deepfake_detection_datasets/VASA-1/cropped_mouths/l5/0059.png\n",
            "/content/deepfake_detection_datasets/VASA-1/cropped_mouths/l5/0060.png\n",
            "/content/deepfake_detection_datasets/VASA-1/cropped_mouths/l5/0061.png\n",
            "/content/deepfake_detection_datasets/VASA-1/cropped_mouths/l5/0062.png\n",
            "/content/deepfake_detection_datasets/VASA-1/cropped_mouths/l5/0063.png\n",
            "/content/deepfake_detection_datasets/VASA-1/cropped_mouths/l5/0064.png\n",
            "/content/deepfake_detection_datasets/VASA-1/cropped_mouths/l5/0065.png\n",
            "/content/deepfake_detection_datasets/VASA-1/cropped_mouths/l5/0066.png\n",
            "/content/deepfake_detection_datasets/VASA-1/cropped_mouths/l5/0067.png\n",
            "/content/deepfake_detection_datasets/VASA-1/cropped_mouths/l5/0068.png\n",
            "/content/deepfake_detection_datasets/VASA-1/cropped_mouths/l5/0069.png\n",
            "Extracted Mouths: /content/deepfake_detection_datasets/VASA-1/cropped_mouths/l5\n"
          ]
        },
        {
          "output_type": "stream",
          "name": "stderr",
          "text": [
            "\r 88%|████████▊ | 14/16 [04:58<00:45, 22.59s/it]"
          ]
        },
        {
          "output_type": "stream",
          "name": "stdout",
          "text": [
            "/content/deepfake_detection_datasets/VASA-1/cropped_mouths/l7/0059.png\n",
            "/content/deepfake_detection_datasets/VASA-1/cropped_mouths/l7/0060.png\n",
            "/content/deepfake_detection_datasets/VASA-1/cropped_mouths/l7/0061.png\n",
            "/content/deepfake_detection_datasets/VASA-1/cropped_mouths/l7/0062.png\n",
            "/content/deepfake_detection_datasets/VASA-1/cropped_mouths/l7/0063.png\n",
            "/content/deepfake_detection_datasets/VASA-1/cropped_mouths/l7/0064.png\n",
            "/content/deepfake_detection_datasets/VASA-1/cropped_mouths/l7/0065.png\n",
            "/content/deepfake_detection_datasets/VASA-1/cropped_mouths/l7/0066.png\n",
            "/content/deepfake_detection_datasets/VASA-1/cropped_mouths/l7/0067.png\n",
            "/content/deepfake_detection_datasets/VASA-1/cropped_mouths/l7/0068.png\n",
            "/content/deepfake_detection_datasets/VASA-1/cropped_mouths/l7/0069.png\n",
            "Extracted Mouths: /content/deepfake_detection_datasets/VASA-1/cropped_mouths/l7\n"
          ]
        },
        {
          "output_type": "stream",
          "name": "stderr",
          "text": [
            "\r 94%|█████████▍| 15/16 [05:23<00:23, 23.48s/it]"
          ]
        },
        {
          "output_type": "stream",
          "name": "stdout",
          "text": [
            "/content/deepfake_detection_datasets/VASA-1/cropped_mouths/l8/0059.png\n",
            "/content/deepfake_detection_datasets/VASA-1/cropped_mouths/l8/0060.png\n",
            "/content/deepfake_detection_datasets/VASA-1/cropped_mouths/l8/0061.png\n",
            "/content/deepfake_detection_datasets/VASA-1/cropped_mouths/l8/0062.png\n",
            "/content/deepfake_detection_datasets/VASA-1/cropped_mouths/l8/0063.png\n",
            "/content/deepfake_detection_datasets/VASA-1/cropped_mouths/l8/0064.png\n",
            "/content/deepfake_detection_datasets/VASA-1/cropped_mouths/l8/0065.png\n",
            "/content/deepfake_detection_datasets/VASA-1/cropped_mouths/l8/0066.png\n",
            "/content/deepfake_detection_datasets/VASA-1/cropped_mouths/l8/0067.png\n",
            "/content/deepfake_detection_datasets/VASA-1/cropped_mouths/l8/0068.png\n",
            "/content/deepfake_detection_datasets/VASA-1/cropped_mouths/l8/0069.png\n",
            "Extracted Mouths: /content/deepfake_detection_datasets/VASA-1/cropped_mouths/l8\n"
          ]
        },
        {
          "output_type": "stream",
          "name": "stderr",
          "text": [
            "100%|██████████| 16/16 [05:49<00:00, 21.83s/it]\n"
          ]
        }
      ]
    },
    {
      "cell_type": "code",
      "source": [
        "!mkdir /content/deepfake_detection_datasets/FFPP/manipulated_sequences/VASA/\n",
        "!cp -r /content/deepfake_detection_datasets/VASA-1/cropped_mouths /content/deepfake_detection_datasets/FFPP/manipulated_sequences/VASA/"
      ],
      "metadata": {
        "id": "_S36IQiQCkB4"
      },
      "execution_count": null,
      "outputs": []
    },
    {
      "cell_type": "markdown",
      "source": [
        "## Predict"
      ],
      "metadata": {
        "id": "GbzXye6nGaql"
      }
    },
    {
      "cell_type": "code",
      "source": [
        "!python evaluate.py --dataset VASA --weights_forgery ./models/weights/lipforensics_ff.pth --num_workers 0 --frames_per_clip 10"
      ],
      "metadata": {
        "colab": {
          "base_uri": "https://localhost:8080/"
        },
        "outputId": "5a01dbed-8900-4c70-c6a7-3568f100b318",
        "id": "oql4SgVqGaq0"
      },
      "execution_count": null,
      "outputs": [
        {
          "output_type": "stream",
          "name": "stdout",
          "text": [
            "Face forgery weights loaded.\n",
            "Loading Datasets: 100% 3/3 [00:01<00:00,  1.53it/s]\n",
            "100% 6/6 [00:12<00:00,  2.02s/it]\n",
            "VASA AUC (video-level): 0.37777777777777777, Logits (video-level): tensor([[ 0.1517],\n",
            "        [-0.7394],\n",
            "        [-3.4285],\n",
            "        [-2.4295],\n",
            "        [-5.0361],\n",
            "        [-2.7151],\n",
            "        [-3.7413],\n",
            "        [-0.5931],\n",
            "        [-3.3267],\n",
            "        [-3.3278],\n",
            "        [-2.6118],\n",
            "        [-5.0942],\n",
            "        [-3.9507],\n",
            "        [-5.5626],\n",
            "        [-5.8097],\n",
            "        [-2.6174],\n",
            "        [-4.9412],\n",
            "        [-3.3937],\n",
            "        [-5.6401],\n",
            "        [-4.4126],\n",
            "        [-3.5791],\n",
            "        [-4.3198],\n",
            "        [-4.9369],\n",
            "        [-4.4588],\n",
            "        [-4.0967],\n",
            "        [-2.4841],\n",
            "        [-4.0799],\n",
            "        [-3.3155],\n",
            "        [-3.1243],\n",
            "        [-4.2607]], device='cuda:0')\n",
            "Predicitons: tensor([0, 0, 0, 0, 0, 0, 0, 0, 0, 0, 0, 0, 0, 0, 0, 1, 1, 1, 1, 1, 1, 1, 1, 1,\n",
            "        1, 1, 1, 1, 1, 1], device='cuda:0')\n"
          ]
        }
      ]
    },
    {
      "cell_type": "code",
      "source": [
        "results = torch.tensor([[ 0.1517], [-0.7394], [-3.4285], [-2.4295], [-5.0361], [-2.7151],\n",
        "                      [-3.7413], [-0.5931], [-3.3267], [-3.3278], [-2.6118], [-5.0942],\n",
        "                      [-3.9507], [-5.5626], [-5.8097], [-2.6174], [-4.9412], [-3.3937],\n",
        "                      [-5.6401], [-4.4126], [-3.5791], [-4.3198], [-4.9369], [-4.4588],\n",
        "                      [-4.0967], [-2.4841], [-4.0799], [-3.3155], [-3.1243], [-4.2607]])"
      ],
      "metadata": {
        "id": "oH5rX0OcGaq0"
      },
      "execution_count": null,
      "outputs": []
    },
    {
      "cell_type": "code",
      "source": [
        "sigmoid_results = calculate_sigmoid(results)\n",
        "score_real, score_fake = calculate_scores(sigmoid_results, 15)"
      ],
      "metadata": {
        "id": "RgYpsi-UGaq1"
      },
      "execution_count": null,
      "outputs": []
    },
    {
      "cell_type": "code",
      "source": [
        "score_fake"
      ],
      "metadata": {
        "colab": {
          "base_uri": "https://localhost:8080/"
        },
        "outputId": "171ef07e-7e31-4633-a3f9-e9d7977cf9b8",
        "id": "nAQHAc7TGaq1"
      },
      "execution_count": null,
      "outputs": [
        {
          "output_type": "execute_result",
          "data": {
            "text/plain": [
              "array([0.02615021, 0.00262198, 0.01220415, 0.00130519, 0.00444023,\n",
              "       0.01015985, 0.0048699 , 0.00263325, 0.0042406 , 0.00607971,\n",
              "       0.02976803, 0.00618208, 0.01318373, 0.01591735, 0.00516485])"
            ]
          },
          "metadata": {},
          "execution_count": 41
        }
      ]
    },
    {
      "cell_type": "markdown",
      "metadata": {
        "id": "ghg8YAKoLoeW"
      },
      "source": [
        "# Create Diagrams"
      ]
    },
    {
      "cell_type": "code",
      "execution_count": null,
      "metadata": {
        "id": "QfyAaPnsGiQn"
      },
      "outputs": [],
      "source": [
        "import matplotlib.pyplot as plt\n",
        "import pandas as pd\n",
        "import seaborn as sns\n",
        "import json\n",
        "import shutil\n",
        "from sklearn.preprocessing import normalize\n"
      ]
    },
    {
      "cell_type": "code",
      "execution_count": null,
      "metadata": {
        "colab": {
          "base_uri": "https://localhost:8080/",
          "height": 959
        },
        "id": "T38jwVo4CGHH",
        "outputId": "7e7b8a4a-603e-4e30-ec68-f2bf389bae19"
      },
      "outputs": [
        {
          "output_type": "display_data",
          "data": {
            "text/plain": [
              "<Figure size 640x480 with 1 Axes>"
            ],
            "image/png": "[encoded data removed]"
          },
          "metadata": {}
        },
        {
          "output_type": "display_data",
          "data": {
            "text/plain": [
              "<Figure size 640x480 with 1 Axes>"
            ],
            "image/png": "[encoded data removed]"
          },
          "metadata": {}
        }
      ],
      "source": [
        "# Use the default PLT style, in case it was changed for the confusion matrix\n",
        "plt.style.use('default')\n",
        "\n",
        "_, _, bars = plt.hist(score_real, range=(0,1), color='steelblue', edgecolor='black')\n",
        "plt.title(f'{net_model} + {dataset} (echt)')\n",
        "plt.xlabel(f'Punktzahl\\nMittelwert: {score_real.mean()}')\n",
        "plt.bar_label(bars)\n",
        "plt.xlim(0, 1)\n",
        "plt.ylabel('#Videos')\n",
        "plt.show()\n",
        "\n",
        "_, _, bars = plt.hist(score_fake, range=(0,1), color='steelblue', edgecolor='black')\n",
        "plt.title(f'{net_model} + {dataset} (manipuliert)')\n",
        "plt.xlabel(f'Punktzahl\\nMittelwert: {score_fake.mean()}')\n",
        "plt.bar_label(bars)\n",
        "plt.xlim(0, 1)\n",
        "plt.ylabel('#Videos')\n",
        "plt.show()"
      ]
    },
    {
      "cell_type": "code",
      "execution_count": null,
      "metadata": {
        "id": "jukj2zn5CXXw"
      },
      "outputs": [],
      "source": [
        "# Getting Data\n",
        "TP = np.sum(score_fake > 0.6) # True Positives  => Fake Videos als fake Klassifiziert\n",
        "FN = np.sum(score_fake < 0.6) # False Negatives => Fake Videos als echt Klassifiziert\n",
        "FP = np.sum(score_real > 0.4) # False Positives => Echt Videos als fake Klassifiziert\n",
        "TN = np.sum(score_real < 0.4) # True Negatives  => Echt Videos als echt Klassifiziert\n",
        "\n",
        "# Create the confusion matrix\n",
        "confusion_matrix = np.array([[TP, FN], [FP, TN]])\n",
        "# Create the nomalized confusion matrix\n",
        "normalized_confusion_matrix = normalize(confusion_matrix, norm='l1', axis=1)"
      ]
    },
    {
      "cell_type": "code",
      "execution_count": null,
      "metadata": {
        "colab": {
          "base_uri": "https://localhost:8080/",
          "height": 480
        },
        "id": "Ugi8Eh60CYTp",
        "outputId": "df2b5ffc-4e15-4fcf-ad23-96dbb3614878"
      },
      "outputs": [
        {
          "output_type": "display_data",
          "data": {
            "text/plain": [
              "<Figure size 640x480 with 1 Axes>"
            ],
            "image/png": "[encoded data removed]"
          },
          "metadata": {}
        }
      ],
      "source": [
        "# Labels for the classes\n",
        "labels = [\"Fake\", \"Echt\"]\n",
        "\n",
        "# Create a heatmap\n",
        "sns.set(color_codes=False)\n",
        "sns.heatmap(confusion_matrix, annot=True, fmt='.0f', cmap='Blues', cbar=False, xticklabels=labels, yticklabels=labels)\n",
        "\n",
        "plt.figure(1, figsize=(5,5))\n",
        "plt.title(f'{net_model} + {dataset}')\n",
        "plt.ylabel(\"Wirkliche Labels\")\n",
        "plt.xlabel('Vorhergesagte Labels')\n",
        "plt.show()"
      ]
    },
    {
      "cell_type": "code",
      "execution_count": null,
      "metadata": {
        "colab": {
          "base_uri": "https://localhost:8080/",
          "height": 480
        },
        "id": "eEpUCI4kCZ3v",
        "outputId": "5b0d4743-f8bc-4b5b-d789-f071ebbb87bb"
      },
      "outputs": [
        {
          "output_type": "display_data",
          "data": {
            "text/plain": [
              "<Figure size 640x480 with 1 Axes>"
            ],
            "image/png": "[encoded data removed]"
          },
          "metadata": {}
        }
      ],
      "source": [
        "# Labels for the classes\n",
        "labels = [\"Fake\", \"Echt\"]\n",
        "\n",
        "# Create a heatmap\n",
        "sns.set(color_codes=False)\n",
        "sns.heatmap(normalized_confusion_matrix, annot=True, fmt='.2f', cmap='Blues', cbar=False, xticklabels=labels, yticklabels=labels)\n",
        "\n",
        "plt.figure(1, figsize=(5,5))\n",
        "plt.title(f'{net_model} + {dataset}')\n",
        "plt.ylabel(\"Wirkliche Labels\")\n",
        "plt.xlabel('Vorhergesagte Labels')\n",
        "plt.show()"
      ]
    }
  ],
  "metadata": {
    "accelerator": "GPU",
    "colab": {
      "collapsed_sections": [
        "HjvM9qVW_2YA",
        "0Igf8RnsgJjZ",
        "tKjaYo2cC9Z5",
        "M1mS5VVEDB6_",
        "ekqHfJUgQKgo",
        "l1ZwVr42r3SE",
        "KB60CD0R74hH",
        "GbzXye6nGaql"
      ],
      "gpuType": "T4",
      "provenance": [],
      "include_colab_link": true
    },
    "kernelspec": {
      "display_name": "Python 3",
      "name": "python3"
    },
    "language_info": {
      "name": "python"
    }
  },
  "nbformat": 4,
  "nbformat_minor": 0
}