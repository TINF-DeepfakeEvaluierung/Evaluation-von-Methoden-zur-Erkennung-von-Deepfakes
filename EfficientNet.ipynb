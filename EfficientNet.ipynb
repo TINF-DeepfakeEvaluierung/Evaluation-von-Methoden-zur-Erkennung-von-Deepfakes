{
  "cells": [
    {
      "cell_type": "markdown",
      "metadata": {
        "id": "view-in-github",
        "colab_type": "text"
      },
      "source": [
        "<a href=\"https://colab.research.google.com/github/TINF-DeepfakeEvaluierung/Evaluation-von-Methoden-zur-Erkennung-von-Deepfakes/blob/main/EfficientNet.ipynb\" target=\"_parent\"><img src=\"https://colab.research.google.com/assets/colab-badge.svg\" alt=\"Open In Colab\"/></a>"
      ]
    },
    {
      "cell_type": "markdown",
      "metadata": {
        "id": "AwbA2dl-wzSq"
      },
      "source": [
        "# Video Face Manipulation Detection Through Ensemble of CNNs\n",
        "Image and Sound Processing Lab - Politecnico di Milano\n",
        "- Nicolò Bonettini\n",
        "- Edoardo Daniele Cannas\n",
        "- Sara Mandelli\n",
        "- Luca Bondi\n",
        "- Paolo Bestagini\n"
      ]
    },
    {
      "cell_type": "code",
      "execution_count": null,
      "metadata": {
        "id": "TH96I-fxw_JU",
        "colab": {
          "base_uri": "https://localhost:8080/"
        },
        "outputId": "fa398197-b76c-4096-8200-aac52f67c5bc"
      },
      "outputs": [
        {
          "output_type": "stream",
          "name": "stdout",
          "text": [
            "Cloning into 'icpr2020dfdc'...\n",
            "remote: Enumerating objects: 656, done.\u001b[K\n",
            "remote: Counting objects: 100% (119/119), done.\u001b[K\n",
            "remote: Compressing objects: 100% (36/36), done.\u001b[K\n",
            "remote: Total 656 (delta 101), reused 87 (delta 83), pack-reused 537\u001b[K\n",
            "Receiving objects: 100% (656/656), 99.64 MiB | 12.32 MiB/s, done.\n",
            "Resolving deltas: 100% (341/341), done.\n",
            "Collecting efficientnet-pytorch\n",
            "  Downloading efficientnet_pytorch-0.7.1.tar.gz (21 kB)\n",
            "  Preparing metadata (setup.py) ... \u001b[?25l\u001b[?25hdone\n",
            "Requirement already satisfied: torch in /usr/local/lib/python3.10/dist-packages (from efficientnet-pytorch) (2.2.1+cu121)\n",
            "Requirement already satisfied: filelock in /usr/local/lib/python3.10/dist-packages (from torch->efficientnet-pytorch) (3.14.0)\n",
            "Requirement already satisfied: typing-extensions>=4.8.0 in /usr/local/lib/python3.10/dist-packages (from torch->efficientnet-pytorch) (4.11.0)\n",
            "Requirement already satisfied: sympy in /usr/local/lib/python3.10/dist-packages (from torch->efficientnet-pytorch) (1.12)\n",
            "Requirement already satisfied: networkx in /usr/local/lib/python3.10/dist-packages (from torch->efficientnet-pytorch) (3.3)\n",
            "Requirement already satisfied: jinja2 in /usr/local/lib/python3.10/dist-packages (from torch->efficientnet-pytorch) (3.1.3)\n",
            "Requirement already satisfied: fsspec in /usr/local/lib/python3.10/dist-packages (from torch->efficientnet-pytorch) (2023.6.0)\n",
            "Collecting nvidia-cuda-nvrtc-cu12==12.1.105 (from torch->efficientnet-pytorch)\n",
            "  Using cached nvidia_cuda_nvrtc_cu12-12.1.105-py3-none-manylinux1_x86_64.whl (23.7 MB)\n",
            "Collecting nvidia-cuda-runtime-cu12==12.1.105 (from torch->efficientnet-pytorch)\n",
            "  Using cached nvidia_cuda_runtime_cu12-12.1.105-py3-none-manylinux1_x86_64.whl (823 kB)\n",
            "Collecting nvidia-cuda-cupti-cu12==12.1.105 (from torch->efficientnet-pytorch)\n",
            "  Using cached nvidia_cuda_cupti_cu12-12.1.105-py3-none-manylinux1_x86_64.whl (14.1 MB)\n",
            "Collecting nvidia-cudnn-cu12==8.9.2.26 (from torch->efficientnet-pytorch)\n",
            "  Using cached nvidia_cudnn_cu12-8.9.2.26-py3-none-manylinux1_x86_64.whl (731.7 MB)\n",
            "Collecting nvidia-cublas-cu12==12.1.3.1 (from torch->efficientnet-pytorch)\n",
            "  Using cached nvidia_cublas_cu12-12.1.3.1-py3-none-manylinux1_x86_64.whl (410.6 MB)\n",
            "Collecting nvidia-cufft-cu12==11.0.2.54 (from torch->efficientnet-pytorch)\n",
            "  Using cached nvidia_cufft_cu12-11.0.2.54-py3-none-manylinux1_x86_64.whl (121.6 MB)\n",
            "Collecting nvidia-curand-cu12==10.3.2.106 (from torch->efficientnet-pytorch)\n",
            "  Using cached nvidia_curand_cu12-10.3.2.106-py3-none-manylinux1_x86_64.whl (56.5 MB)\n",
            "Collecting nvidia-cusolver-cu12==11.4.5.107 (from torch->efficientnet-pytorch)\n",
            "  Using cached nvidia_cusolver_cu12-11.4.5.107-py3-none-manylinux1_x86_64.whl (124.2 MB)\n",
            "Collecting nvidia-cusparse-cu12==12.1.0.106 (from torch->efficientnet-pytorch)\n",
            "  Using cached nvidia_cusparse_cu12-12.1.0.106-py3-none-manylinux1_x86_64.whl (196.0 MB)\n",
            "Collecting nvidia-nccl-cu12==2.19.3 (from torch->efficientnet-pytorch)\n",
            "  Using cached nvidia_nccl_cu12-2.19.3-py3-none-manylinux1_x86_64.whl (166.0 MB)\n",
            "Collecting nvidia-nvtx-cu12==12.1.105 (from torch->efficientnet-pytorch)\n",
            "  Using cached nvidia_nvtx_cu12-12.1.105-py3-none-manylinux1_x86_64.whl (99 kB)\n",
            "Requirement already satisfied: triton==2.2.0 in /usr/local/lib/python3.10/dist-packages (from torch->efficientnet-pytorch) (2.2.0)\n",
            "Collecting nvidia-nvjitlink-cu12 (from nvidia-cusolver-cu12==11.4.5.107->torch->efficientnet-pytorch)\n",
            "  Using cached nvidia_nvjitlink_cu12-12.4.127-py3-none-manylinux2014_x86_64.whl (21.1 MB)\n",
            "Requirement already satisfied: MarkupSafe>=2.0 in /usr/local/lib/python3.10/dist-packages (from jinja2->torch->efficientnet-pytorch) (2.1.5)\n",
            "Requirement already satisfied: mpmath>=0.19 in /usr/local/lib/python3.10/dist-packages (from sympy->torch->efficientnet-pytorch) (1.3.0)\n",
            "Building wheels for collected packages: efficientnet-pytorch\n",
            "  Building wheel for efficientnet-pytorch (setup.py) ... \u001b[?25l\u001b[?25hdone\n",
            "  Created wheel for efficientnet-pytorch: filename=efficientnet_pytorch-0.7.1-py3-none-any.whl size=16429 sha256=1dac7114488402eb7eb20f4e56b78f6bc0ef155679e891b5a60310b752ce8333\n",
            "  Stored in directory: /root/.cache/pip/wheels/03/3f/e9/911b1bc46869644912bda90a56bcf7b960f20b5187feea3baf\n",
            "Successfully built efficientnet-pytorch\n",
            "Installing collected packages: nvidia-nvtx-cu12, nvidia-nvjitlink-cu12, nvidia-nccl-cu12, nvidia-curand-cu12, nvidia-cufft-cu12, nvidia-cuda-runtime-cu12, nvidia-cuda-nvrtc-cu12, nvidia-cuda-cupti-cu12, nvidia-cublas-cu12, nvidia-cusparse-cu12, nvidia-cudnn-cu12, nvidia-cusolver-cu12, efficientnet-pytorch\n",
            "Successfully installed efficientnet-pytorch-0.7.1 nvidia-cublas-cu12-12.1.3.1 nvidia-cuda-cupti-cu12-12.1.105 nvidia-cuda-nvrtc-cu12-12.1.105 nvidia-cuda-runtime-cu12-12.1.105 nvidia-cudnn-cu12-8.9.2.26 nvidia-cufft-cu12-11.0.2.54 nvidia-curand-cu12-10.3.2.106 nvidia-cusolver-cu12-11.4.5.107 nvidia-cusparse-cu12-12.1.0.106 nvidia-nccl-cu12-2.19.3 nvidia-nvjitlink-cu12-12.4.127 nvidia-nvtx-cu12-12.1.105\n",
            "  Running command git clone --filter=blob:none --quiet https://github.com/albu/albumentations /tmp/pip-req-build-vshgd50n\n",
            "/content/icpr2020dfdc/notebook\n"
          ]
        }
      ],
      "source": [
        "!git clone https://github.com/polimi-ispl/icpr2020dfdc\n",
        "!pip install efficientnet-pytorch\n",
        "!pip install -U git+https://github.com/albu/albumentations > /dev/null\n",
        "%cd icpr2020dfdc/notebook"
      ]
    },
    {
      "cell_type": "code",
      "execution_count": null,
      "metadata": {
        "id": "fPvvLUnIwzSs"
      },
      "outputs": [],
      "source": [
        "import torch\n",
        "from torch.utils.model_zoo import load_url\n",
        "from scipy.special import expit\n",
        "from sklearn.preprocessing import normalize\n",
        "from tqdm import tqdm\n",
        "import numpy as np\n",
        "import matplotlib.pyplot as plt\n",
        "import pandas as pd\n",
        "import seaborn as sns\n",
        "import json\n",
        "import shutil\n",
        "import os\n",
        "import sys\n",
        "from itertools import islice\n",
        "\n",
        "sys.path.append('..')\n",
        "\n",
        "from blazeface import FaceExtractor, BlazeFace, VideoReader\n",
        "from architectures import fornet,weights\n",
        "from isplutils import utils"
      ]
    },
    {
      "cell_type": "code",
      "execution_count": null,
      "metadata": {
        "id": "H6ozzmU-KS3y",
        "colab": {
          "base_uri": "https://localhost:8080/"
        },
        "outputId": "63e34f3a-2e2f-45c5-fc55-a35ff96041fa"
      },
      "outputs": [
        {
          "output_type": "stream",
          "name": "stdout",
          "text": [
            "deb https://packages.cloud.google.com/apt gcsfuse-jammy main\n",
            "  % Total    % Received % Xferd  Average Speed   Time    Time     Time  Current\n",
            "                                 Dload  Upload   Total   Spent    Left  Speed\n",
            "100  2659  100  2659    0     0  31353      0 --:--:-- --:--:-- --:--:-- 31654\n",
            "Warning: apt-key is deprecated. Manage keyring files in trusted.gpg.d instead (see apt-key(8)).\n",
            "OK\n",
            "48 packages can be upgraded. Run 'apt list --upgradable' to see them.\n",
            "\u001b[1;33mW: \u001b[0mhttps://packages.cloud.google.com/apt/dists/gcsfuse-jammy/InRelease: Key is stored in legacy trusted.gpg keyring (/etc/apt/trusted.gpg), see the DEPRECATION section in apt-key(8) for details.\u001b[0m\n",
            "The following NEW packages will be installed:\n",
            "  gcsfuse\n",
            "0 upgraded, 1 newly installed, 0 to remove and 48 not upgraded.\n",
            "Need to get 10.4 MB of archives.\n",
            "After this operation, 0 B of additional disk space will be used.\n",
            "Selecting previously unselected package gcsfuse.\n",
            "(Reading database ... 121918 files and directories currently installed.)\n",
            "Preparing to unpack .../gcsfuse_2.0.1_amd64.deb ...\n",
            "Unpacking gcsfuse (2.0.1) ...\n",
            "Setting up gcsfuse (2.0.1) ...\n",
            "{\"timestamp\":{\"seconds\":1715202120,\"nanos\":160032706},\"severity\":\"INFO\",\"message\":\"Start gcsfuse/2.0.1 (Go version go1.22.1) for app \\\"\\\" using mount point: /content/deepfake_detection_datasets\\n\"}\n",
            "{\"timestamp\":{\"seconds\":1715202120,\"nanos\":160413369},\"severity\":\"INFO\",\"message\":\"GCSFuse mount command flags: {\\\"AppName\\\":\\\"\\\",\\\"Foreground\\\":false,\\\"ConfigFile\\\":\\\"\\\",\\\"MountOptions\\\":{},\\\"DirMode\\\":493,\\\"FileMode\\\":420,\\\"Uid\\\":-1,\\\"Gid\\\":-1,\\\"ImplicitDirs\\\":true,\\\"OnlyDir\\\":\\\"\\\",\\\"RenameDirLimit\\\":0,\\\"CustomEndpoint\\\":null,\\\"BillingProject\\\":\\\"\\\",\\\"KeyFile\\\":\\\"\\\",\\\"TokenUrl\\\":\\\"\\\",\\\"ReuseTokenFromUrl\\\":true,\\\"EgressBandwidthLimitBytesPerSecond\\\":-1,\\\"OpRateLimitHz\\\":-1,\\\"SequentialReadSizeMb\\\":200,\\\"MaxRetrySleep\\\":30000000000,\\\"StatCacheCapacity\\\":20460,\\\"StatCacheTTL\\\":60000000000,\\\"TypeCacheTTL\\\":60000000000,\\\"HttpClientTimeout\\\":0,\\\"MaxRetryDuration\\\":-1000000000,\\\"RetryMultiplier\\\":2,\\\"LocalFileCache\\\":false,\\\"TempDir\\\":\\\"\\\",\\\"ClientProtocol\\\":\\\"http1\\\",\\\"MaxConnsPerHost\\\":100,\\\"MaxIdleConnsPerHost\\\":100,\\\"EnableNonexistentTypeCache\\\":false,\\\"StackdriverExportInterval\\\":0,\\\"OtelCollectorAddress\\\":\\\"\\\",\\\"LogFile\\\":\\\"\\\",\\\"LogFormat\\\":\\\"json\\\",\\\"ExperimentalEnableJsonRead\\\":false,\\\"DebugFuseErrors\\\":true,\\\"DebugFuse\\\":false,\\\"DebugFS\\\":false,\\\"DebugGCS\\\":false,\\\"DebugHTTP\\\":false,\\\"DebugInvariants\\\":false,\\\"DebugMutex\\\":false}\"}\n",
            "{\"timestamp\":{\"seconds\":1715202120,\"nanos\":160543879},\"severity\":\"INFO\",\"message\":\"GCSFuse mount config flags: {\\\"CreateEmptyFile\\\":false,\\\"Severity\\\":\\\"INFO\\\",\\\"Format\\\":\\\"json\\\",\\\"FilePath\\\":\\\"\\\",\\\"LogRotateConfig\\\":{\\\"MaxFileSizeMB\\\":512,\\\"BackupFileCount\\\":10,\\\"Compress\\\":true},\\\"MaxSizeMB\\\":-1,\\\"CacheFileForRangeRead\\\":false,\\\"CacheDir\\\":\\\"\\\",\\\"TtlInSeconds\\\":-9223372036854775808,\\\"TypeCacheMaxSizeMB\\\":4,\\\"StatCacheMaxSizeMB\\\":-9223372036854775808,\\\"EnableEmptyManagedFolders\\\":false,\\\"ConnPoolSize\\\":1}\"}\n",
            "{\"timestamp\":{\"seconds\":1715202122,\"nanos\":290818518},\"severity\":\"INFO\",\"message\":\"File system has been successfully mounted.\"}\n"
          ]
        }
      ],
      "source": [
        "# Connect Google Cloud\n",
        "# Authenticate.\n",
        "from google.colab import auth\n",
        "auth.authenticate_user()\n",
        "\n",
        "# Install Cloud Storage FUSE.\n",
        "!echo \"deb https://packages.cloud.google.com/apt gcsfuse-`lsb_release -c -s` main\" | sudo tee /etc/apt/sources.list.d/gcsfuse.list\n",
        "!curl https://packages.cloud.google.com/apt/doc/apt-key.gpg | sudo apt-key add -\n",
        "!apt -qq update && apt -qq install gcsfuse\n",
        "# Mount a Cloud Storage bucket or location, without the gs:// prefix.\n",
        "mount_path = \"deepfake_detection_datasets\"  # or a location like \"my-bucket/path/to/mount\"\n",
        "local_path = f\"/content/{mount_path}\"\n",
        "\n",
        "!mkdir -p {local_path}\n",
        "!gcsfuse --implicit-dirs {mount_path} {local_path}"
      ]
    },
    {
      "cell_type": "markdown",
      "metadata": {
        "id": "-3smEpNwwzSt"
      },
      "source": [
        "## Parameters"
      ]
    },
    {
      "cell_type": "code",
      "execution_count": null,
      "metadata": {
        "id": "QMaTYblPwzSt"
      },
      "outputs": [],
      "source": [
        "\"\"\"\n",
        "Choose an architecture between\n",
        "- EfficientNetB4\n",
        "- EfficientNetB4ST\n",
        "- EfficientNetAutoAttB4\n",
        "- EfficientNetAutoAttB4ST\n",
        "- Xception\n",
        "\"\"\"\n",
        "net_model = 'EfficientNetAutoAttB4'\n",
        "\n",
        "\"\"\"\n",
        "Choose a training dataset between\n",
        "- DFDC\n",
        "- FFPP\n",
        "\"\"\"\n",
        "train_db = 'FFPP'"
      ]
    },
    {
      "cell_type": "code",
      "execution_count": null,
      "metadata": {
        "id": "n7sIweSJwzSu"
      },
      "outputs": [],
      "source": [
        "device = torch.device('cuda:0') if torch.cuda.is_available() else torch.device('cpu')\n",
        "face_policy = 'scale'\n",
        "face_size = 224\n",
        "frames_per_video = 32"
      ]
    },
    {
      "cell_type": "markdown",
      "metadata": {
        "id": "Q0rPauY4wzSv"
      },
      "source": [
        "## Initialization"
      ]
    },
    {
      "cell_type": "code",
      "execution_count": null,
      "metadata": {
        "id": "vMlZk3TSwzSv",
        "colab": {
          "base_uri": "https://localhost:8080/"
        },
        "outputId": "a6b02036-d384-4718-c45e-3d60019fd41d"
      },
      "outputs": [
        {
          "output_type": "stream",
          "name": "stdout",
          "text": [
            "Loaded pretrained weights for efficientnet-b4\n"
          ]
        },
        {
          "output_type": "stream",
          "name": "stderr",
          "text": [
            "Downloading: \"https://f002.backblazeb2.com/file/icpr2020/EfficientNetAutoAttB4_FFPP_bestval-b0c9e9522a7143cf119843e910234be5e30f77dc527b1b427cdffa5ce3bdbc25.pth\" to /root/.cache/torch/hub/checkpoints/EfficientNetAutoAttB4_FFPP_bestval-b0c9e9522a7143cf119843e910234be5e30f77dc527b1b427cdffa5ce3bdbc25.pth\n",
            "100%|██████████| 33.9M/33.9M [00:03<00:00, 11.5MB/s]\n"
          ]
        },
        {
          "output_type": "execute_result",
          "data": {
            "text/plain": [
              "<All keys matched successfully>"
            ]
          },
          "metadata": {},
          "execution_count": 87
        }
      ],
      "source": [
        "model_url = weights.weight_url['{:s}_{:s}'.format(net_model,train_db)]\n",
        "net = getattr(fornet,net_model)().eval().to(device)\n",
        "net.load_state_dict(load_url(model_url,map_location=device,check_hash=True))"
      ]
    },
    {
      "cell_type": "code",
      "execution_count": null,
      "metadata": {
        "id": "sJD4-cmNwzSw"
      },
      "outputs": [],
      "source": [
        "transf = utils.get_transformer(face_policy, face_size, net.get_normalizer(), train=False)"
      ]
    },
    {
      "cell_type": "code",
      "execution_count": null,
      "metadata": {
        "id": "6jDS1Gs6wzSx"
      },
      "outputs": [],
      "source": [
        "facedet = BlazeFace().to(device)\n",
        "facedet.load_weights(\"../blazeface/blazeface.pth\")\n",
        "facedet.load_anchors(\"../blazeface/anchors.npy\")\n",
        "videoreader = VideoReader(verbose=False)\n",
        "video_read_fn = lambda x: videoreader.read_frames(x, num_frames=frames_per_video)\n",
        "face_extractor = FaceExtractor(video_read_fn=video_read_fn,facedet=facedet)"
      ]
    },
    {
      "cell_type": "markdown",
      "metadata": {
        "id": "QwK40a1YT4_K"
      },
      "source": [
        "## Detection Method"
      ]
    },
    {
      "cell_type": "code",
      "execution_count": null,
      "metadata": {
        "id": "TeITi4oLOBz7"
      },
      "outputs": [],
      "source": [
        "def detect_deepfake(deepfake_folder):\n",
        "  scores = np.array([]);\n",
        "\n",
        "  for deepfake in tqdm(os.listdir(deepfake_folder)):\n",
        "    vid_path = os.path.join(deepfake_folder, deepfake)\n",
        "    vid = face_extractor.process_video(vid_path)\n",
        "\n",
        "    # For each frame, we consider the face with the highest confidence score found by BlazeFace (= frame['faces'][0])\n",
        "    faces_t = torch.stack( [ transf(image=frame['faces'][0])['image'] for frame in vid if len(frame['faces'])] )\n",
        "\n",
        "    with torch.no_grad():\n",
        "        faces_pred = net(faces_t.to(device)).cpu().numpy().flatten()\n",
        "\n",
        "    scores = np.append(scores, expit(faces_pred.mean()))\n",
        "    # print('Average score for {} video: {:.4f}'.format(deepfake, expit(faces_pred.mean())))\n",
        "  return scores"
      ]
    },
    {
      "cell_type": "markdown",
      "metadata": {
        "id": "l37M5qzmwzSx"
      },
      "source": [
        "## TIMIT"
      ]
    },
    {
      "cell_type": "markdown",
      "metadata": {
        "id": "3TJaY3fRNMDq"
      },
      "source": [
        "### Prepare TIMIT Dataset"
      ]
    },
    {
      "cell_type": "code",
      "execution_count": null,
      "metadata": {
        "id": "K01znClgIMY0"
      },
      "outputs": [],
      "source": [
        "def move_timit_deepfakes(source_dir, output_dir):\n",
        "  if not os.path.exists(output_dir):\n",
        "    os.makedirs(output_dir)\n",
        "  else:\n",
        "    # Wenns schon existiert wurde schon kopiert\n",
        "    return\n",
        "\n",
        "  for folder in os.listdir(source_dir):\n",
        "    path = os.path.join(source_dir, folder)\n",
        "    if not os.path.isdir(path):\n",
        "      continue\n",
        "    for filename in os.listdir(path):\n",
        "      if filename.endswith(\".avi\"):\n",
        "        source_file = os.path.join(path, filename)\n",
        "        dest_file = os.path.join(output_dir, filename)\n",
        "\n",
        "        shutil.move(source_file, dest_file)"
      ]
    },
    {
      "cell_type": "code",
      "execution_count": null,
      "metadata": {
        "id": "mqLP3aU3MajL"
      },
      "outputs": [],
      "source": [
        "high_output_dir = \"/content/deepfake_detection_datasets/DeepfakeTIMIT/deepfakes_higher_quality\"\n",
        "high_source_dir = \"/content/deepfake_detection_datasets/DeepfakeTIMIT/higher_quality\"\n",
        "move_timit_deepfakes(high_source_dir, high_output_dir)\n",
        "\n",
        "low_output_dir = \"/content/deepfake_detection_datasets/DeepfakeTIMIT/deepfakes_lower_quality\"\n",
        "low_source_dir = \"/content/deepfake_detection_datasets/DeepfakeTIMIT/lower_quality\"\n",
        "move_timit_deepfakes(low_source_dir, low_output_dir)"
      ]
    },
    {
      "cell_type": "markdown",
      "metadata": {
        "id": "2-I7YXvON9vg"
      },
      "source": [
        "### Detect TIMIT Deepfakes"
      ]
    },
    {
      "cell_type": "code",
      "execution_count": null,
      "metadata": {
        "id": "rFrpAB43QaIh"
      },
      "outputs": [],
      "source": [
        "# High Quality\n",
        "dataset = \"TIMIT (hohe Auflösung)\"\n",
        "high_output_dir = \"/content/deepfake_detection_datasets/DeepfakeTIMIT/deepfakes_higher_quality\"\n",
        "\n",
        "\n",
        "# score_fake = detect_deepfake(high_output_dir)\n",
        "score_real = np.array([])"
      ]
    },
    {
      "cell_type": "code",
      "source": [
        "# High Quality\n",
        "dataset = \"TIMIT (niedrige Auflösung)\"\n",
        "high_output_dir = \"/content/deepfake_detection_datasets/DeepfakeTIMIT/deepfakes_higher_quality\"\n",
        "\n",
        "\n",
        "score_fake = detect_deepfake(high_output_dir)\n",
        "score_real = np.array([])"
      ],
      "metadata": {
        "id": "JnVHS7xPKyLd"
      },
      "execution_count": null,
      "outputs": []
    },
    {
      "cell_type": "markdown",
      "metadata": {
        "id": "0BiACzQ0OktX"
      },
      "source": [
        "## CELEB-DF"
      ]
    },
    {
      "cell_type": "code",
      "execution_count": null,
      "metadata": {
        "id": "1nJqKC8OO1ZK"
      },
      "outputs": [],
      "source": [
        "real_celeb_dir = \"/content/deepfake_detection_datasets/Celeb-DF/Celeb-real\"\n",
        "fake_celeb_dir = \"/content/deepfake_detection_datasets/Celeb-DF/Celeb-synthesis\"\n",
        "dataset = \"CelebDF\""
      ]
    },
    {
      "cell_type": "markdown",
      "metadata": {
        "id": "BH0B6-CHOnZD"
      },
      "source": [
        "### Prepare CELEB-DF Dataset"
      ]
    },
    {
      "cell_type": "code",
      "execution_count": null,
      "metadata": {
        "id": "qa4876ZO2u74"
      },
      "outputs": [],
      "source": [
        "def move_celeb_deepfakes(source_dir, output_dir):\n",
        "  for filename in tqdm(os.listdir(source_dir)):\n",
        "    if filename.endswith(\".mp4\"):\n",
        "      source_file = os.path.join(source_dir, filename)\n",
        "      dest_file = os.path.join(output_dir, filename)\n",
        "\n",
        "      shutil.move(source_file, dest_file)"
      ]
    },
    {
      "cell_type": "code",
      "execution_count": null,
      "metadata": {
        "colab": {
          "base_uri": "https://localhost:8080/"
        },
        "id": "7nEXawzk1qRj",
        "outputId": "6024e80f-7602-4496-e2a6-c5019e3a8482"
      },
      "outputs": [
        {
          "name": "stderr",
          "output_type": "stream",
          "text": [
            "100%|██████████| 300/300 [00:01<00:00, 296.35it/s]\n"
          ]
        }
      ],
      "source": [
        "real_celeb_youtube_dir = \"/content/deepfake_detection_datasets/Celeb-DF/YouTube-real\"\n",
        "move_celeb_deepfakes(real_celeb_youtube_dir, real_celeb_dir)"
      ]
    },
    {
      "cell_type": "markdown",
      "metadata": {
        "id": "88hJq5rrOqzZ"
      },
      "source": [
        "### Detect Deepfakes CELEB-DF"
      ]
    },
    {
      "cell_type": "code",
      "execution_count": null,
      "metadata": {
        "id": "aSxFUG_F1PNi"
      },
      "outputs": [],
      "source": [
        "def detect_celeb_deepfake(deepfake_folder, num_videos=890):\n",
        "  scores = np.array([]);\n",
        "\n",
        "  for deepfake in tqdm(islice(os.listdir(deepfake_folder), num_videos), total=num_videos):\n",
        "    vid_path = os.path.join(deepfake_folder, deepfake)\n",
        "    vid = face_extractor.process_video(vid_path)\n",
        "\n",
        "    # For each frame, we consider the face with the highest confidence score found by BlazeFace (= frame['faces'][0])\n",
        "    faces_t = torch.stack( [ transf(image=frame['faces'][0])['image'] for frame in vid if len(frame['faces'])] )\n",
        "\n",
        "    with torch.no_grad():\n",
        "        faces_pred = net(faces_t.to(device)).cpu().numpy().flatten()\n",
        "\n",
        "    scores = np.append(scores, expit(faces_pred.mean()))\n",
        "    # print('Average score for {} video: {:.4f}'.format(deepfake, expit(faces_pred.mean())))\n",
        "  return scores"
      ]
    },
    {
      "cell_type": "code",
      "execution_count": null,
      "metadata": {
        "id": "kAx-R5FHO0xb"
      },
      "outputs": [],
      "source": [
        "score_real = detect_celeb_deepfake(real_celeb_dir)\n",
        "score_fake = detect_celeb_deepfake(fake_celeb_dir)"
      ]
    },
    {
      "cell_type": "markdown",
      "metadata": {
        "id": "_Jwguint2csD"
      },
      "source": [
        "### Confusion Matrix erstellen"
      ]
    },
    {
      "cell_type": "code",
      "execution_count": null,
      "metadata": {
        "id": "YWQVhZon2roP"
      },
      "outputs": [],
      "source": [
        "# Manuelle Datenerfassung\n",
        "# B4 DFDC\n",
        "net_model = 'EfficientNetB4'\n",
        "train_db = 'DFDC'\n",
        "\n",
        "TP = 4303 # True Positives  => Fake Videos als fake Klassifiziert\n",
        "FN = 1336 # False Negatives => Fake Videos als echt Klassifiziert\n",
        "FP = 217 # False Positives => Echt Videos als fake Klassifiziert\n",
        "TN = 654 # True Negatives  => Echt Videos als echt Klassifiziert"
      ]
    },
    {
      "cell_type": "code",
      "execution_count": null,
      "metadata": {
        "id": "6JSQQ19kcJAM"
      },
      "outputs": [],
      "source": [
        "# B4ST DFDC\n",
        "net_model = 'EfficientNetB4ST'\n",
        "train_db = 'DFDC'\n",
        "\n",
        "TP = 4199\n",
        "FN = 1440\n",
        "FP = 249\n",
        "TN = 641"
      ]
    },
    {
      "cell_type": "code",
      "execution_count": null,
      "metadata": {
        "id": "7dn68WivcKC1"
      },
      "outputs": [],
      "source": [
        "# AutoAttB4 DFDC\n",
        "net_model = 'EfficientNetAutoAttB4'\n",
        "train_db = 'DFDC'\n",
        "\n",
        "TP = 4189\n",
        "FN = 1450\n",
        "FP = 213\n",
        "TN = 677"
      ]
    },
    {
      "cell_type": "code",
      "execution_count": null,
      "metadata": {
        "id": "oq6SkGbNcK6D"
      },
      "outputs": [],
      "source": [
        "# AutoAttB4ST DFDC\n",
        "net_model = 'EfficientNetAutoAttB4ST'\n",
        "train_db = 'DFDC'\n",
        "\n",
        "TP = 3781\n",
        "FN = 1858\n",
        "FP = 249\n",
        "TN = 641"
      ]
    },
    {
      "cell_type": "code",
      "execution_count": null,
      "metadata": {
        "id": "fz3Wo3jFcL0g"
      },
      "outputs": [],
      "source": [
        "# B4 FFPP\n",
        "net_model = 'EfficientNetB4'\n",
        "train_db = 'FFPP'\n",
        "\n",
        "TP = 3455\n",
        "FN = 2184\n",
        "FP = 180\n",
        "TN = 710"
      ]
    },
    {
      "cell_type": "markdown",
      "metadata": {
        "id": "twmB0dfzJGD-"
      },
      "source": [
        "## VASA-1\n",
        "[Webseite](https://https://www.microsoft.com/en-us/research/project/vasa-1/)\n",
        "\n",
        "[Paper](https://arxiv.org/pdf/2404.10667.pdf)"
      ]
    },
    {
      "cell_type": "code",
      "execution_count": null,
      "metadata": {
        "colab": {
          "base_uri": "https://localhost:8080/"
        },
        "id": "Sl2c2UE7JFRz",
        "outputId": "21249f46-c459-46e6-9562-63e518258cb3"
      },
      "outputs": [
        {
          "name": "stderr",
          "output_type": "stream",
          "text": [
            "100%|██████████| 15/15 [00:20<00:00,  1.35s/it]"
          ]
        },
        {
          "name": "stdout",
          "output_type": "stream",
          "text": [
            "Fake Scores: [0.00847442 0.00218733 0.00347676 0.00249026 0.01739395 0.00796419\n",
            " 0.01123404 0.00603204 0.01166494 0.00294177 0.00552632 0.004751\n",
            " 0.00488503 0.00153002 0.00370283]\n"
          ]
        },
        {
          "name": "stderr",
          "output_type": "stream",
          "text": [
            "\n"
          ]
        }
      ],
      "source": [
        "vasa_dir = \"/content/deepfake_detection_datasets/VASA-1\"\n",
        "dataset = \"VASA-1\"\n",
        "\n",
        "score_fake = detect_deepfake(vasa_dir)\n",
        "score_real = np.array([])\n",
        "\n",
        "print(f\"Fake Scores: {score_fake}\")"
      ]
    },
    {
      "cell_type": "markdown",
      "metadata": {
        "id": "1ZqbrtQ8x0GA"
      },
      "source": [
        "## DFDC"
      ]
    },
    {
      "cell_type": "code",
      "execution_count": null,
      "metadata": {
        "id": "vf5-wfSHzkwG"
      },
      "outputs": [],
      "source": [
        "dfdc_dir = \"/content/deepfake_detection_datasets/DFDC/train_sample_videos\"\n",
        "dataset = \"DFDC\""
      ]
    },
    {
      "cell_type": "code",
      "execution_count": null,
      "metadata": {
        "id": "VJWdVIrEyDX9"
      },
      "outputs": [],
      "source": [
        "def detect_dfdc_deepfake(deepfake_folder):\n",
        "  metadata_file = deepfake_folder + \"/metadata.json\"\n",
        "\n",
        "  with open(metadata_file, 'r') as file:\n",
        "    metadata = json.load(file)\n",
        "\n",
        "  scores_real = np.array([]);\n",
        "  scores_fake = np.array([]);\n",
        "\n",
        "  for deepfake, properties in tqdm(metadata.items()):\n",
        "    vid_path = os.path.join(deepfake_folder, deepfake)\n",
        "    vid = face_extractor.process_video(vid_path)\n",
        "\n",
        "    # For each frame, we consider the face with the highest confidence score found by BlazeFace (= frame['faces'][0])\n",
        "    faces_t = torch.stack( [ transf(image=frame['faces'][0])['image'] for frame in vid if len(frame['faces'])] )\n",
        "\n",
        "    with torch.no_grad():\n",
        "        faces_pred = net(faces_t.to(device)).cpu().numpy().flatten()\n",
        "\n",
        "    if properties['label'] == \"FAKE\":\n",
        "      scores_fake = np.append(scores_fake, expit(faces_pred.mean()))\n",
        "    else:\n",
        "      scores_real = np.append(scores_real, expit(faces_pred.mean()))\n",
        "\n",
        "  return scores_fake, scores_real"
      ]
    },
    {
      "cell_type": "code",
      "execution_count": null,
      "metadata": {
        "colab": {
          "base_uri": "https://localhost:8080/"
        },
        "id": "XlGMN6KT1lDO",
        "outputId": "5082bb71-26b8-4251-c811-8b710b0c5393"
      },
      "outputs": [
        {
          "output_type": "stream",
          "name": "stderr",
          "text": [
            "100%|██████████| 400/400 [1:08:16<00:00, 10.24s/it]\n"
          ]
        }
      ],
      "source": [
        "score_fake, score_real = detect_dfdc_deepfake(dfdc_dir)"
      ]
    },
    {
      "cell_type": "markdown",
      "metadata": {
        "id": "UPalCdUBx3iB"
      },
      "source": [
        "## FF++"
      ]
    },
    {
      "cell_type": "code",
      "execution_count": null,
      "metadata": {
        "id": "fGka7FQiBy2q"
      },
      "outputs": [],
      "source": [
        "ffpp_dir = \"/content/deepfake_detection_datasets/FFPP/\"\n",
        "dataset = \"FaceForensics++\""
      ]
    },
    {
      "cell_type": "code",
      "execution_count": null,
      "metadata": {
        "id": "1A9apfFbrU8M"
      },
      "outputs": [],
      "source": [
        "def detect_ffpp_deepfakes(ffpp_dir):\n",
        "    scores_real = np.array([])\n",
        "    scores_fake = np.array([])\n",
        "\n",
        "    for root, _, files in os.walk(ffpp_dir):\n",
        "      files_bar = tqdm(files)\n",
        "\n",
        "      for file in files_bar:\n",
        "        if file.endswith('.mp4'):\n",
        "          vid_path = os.path.join(root, file)\n",
        "          vid = face_extractor.process_video(vid_path)\n",
        "\n",
        "          # Check if the file is in the original_sequences or manipulated_sequences directory and update tqdm description\n",
        "          rel_path = os.path.relpath(vid_path, ffpp_dir)\n",
        "          path_parts = rel_path.split(os.sep)\n",
        "          files_bar.set_description(f\"{path_parts[0]}/{path_parts[1]}\")\n",
        "\n",
        "          # For each frame, we consider the face with the highest confidence score found by BlazeFace (= frame['faces'][0])\n",
        "          faces_t = torch.stack( [ transf(image=frame['faces'][0])['image'] for frame in vid if len(frame['faces'])] )\n",
        "\n",
        "          with torch.no_grad():\n",
        "            faces_pred = net(faces_t.to(device)).cpu().numpy().flatten()\n",
        "\n",
        "          if path_parts[0] == 'manipulated_sequences':\n",
        "            scores_fake = np.append(scores_fake, expit(faces_pred.mean()))\n",
        "          else:\n",
        "            scores_real = np.append(scores_real, expit(faces_pred.mean()))\n",
        "\n",
        "    return scores_fake, scores_real"
      ]
    },
    {
      "cell_type": "code",
      "execution_count": null,
      "metadata": {
        "colab": {
          "base_uri": "https://localhost:8080/"
        },
        "id": "9rO2bvAeB0Hg",
        "outputId": "5b04d287-3c6f-422d-dae8-0c5964945a4a"
      },
      "outputs": [
        {
          "output_type": "stream",
          "name": "stderr",
          "text": [
            "100%|██████████| 4/4 [00:00<00:00, 13785.72it/s]\n",
            "0it [00:00, ?it/s]\n",
            "0it [00:00, ?it/s]\n",
            "0it [00:00, ?it/s]\n",
            "0it [00:00, ?it/s]\n",
            "0it [00:00, ?it/s]\n",
            "100%|██████████| 40/40 [00:00<00:00, 148998.37it/s]\n",
            "100%|██████████| 40/40 [00:00<00:00, 128364.32it/s]\n",
            "100%|██████████| 40/40 [00:00<00:00, 318958.48it/s]\n",
            "100%|██████████| 40/40 [00:00<00:00, 286300.61it/s]\n",
            "100%|██████████| 40/40 [00:00<00:00, 308972.67it/s]\n",
            "100%|██████████| 40/40 [00:00<00:00, 277309.36it/s]\n",
            "100%|██████████| 40/40 [00:00<00:00, 157532.54it/s]\n",
            "100%|██████████| 40/40 [00:00<00:00, 307838.83it/s]\n",
            "100%|██████████| 40/40 [00:00<00:00, 286300.61it/s]\n",
            "100%|██████████| 40/40 [00:00<00:00, 362358.88it/s]\n",
            "100%|██████████| 40/40 [00:00<00:00, 341000.33it/s]\n",
            "100%|██████████| 40/40 [00:00<00:00, 350987.78it/s]\n",
            "100%|██████████| 40/40 [00:00<00:00, 328965.02it/s]\n",
            "100%|██████████| 40/40 [00:00<00:00, 311844.16it/s]\n",
            "100%|██████████| 40/40 [00:00<00:00, 306713.27it/s]\n",
            "100%|██████████| 40/40 [00:00<00:00, 36889.22it/s]\n",
            "100%|██████████| 40/40 [00:00<00:00, 291777.67it/s]\n",
            "100%|██████████| 40/40 [00:00<00:00, 253432.27it/s]\n",
            "100%|██████████| 40/40 [00:00<00:00, 288764.48it/s]\n",
            "100%|██████████| 40/40 [00:00<00:00, 332881.27it/s]\n",
            "100%|██████████| 40/40 [00:00<00:00, 281025.39it/s]\n",
            "100%|██████████| 40/40 [00:00<00:00, 251155.93it/s]\n",
            "100%|██████████| 40/40 [00:00<00:00, 280555.45it/s]\n",
            "100%|██████████| 40/40 [00:00<00:00, 274137.52it/s]\n",
            "100%|██████████| 40/40 [00:00<00:00, 335544.32it/s]\n",
            "100%|██████████| 40/40 [00:00<00:00, 136400.13it/s]\n",
            "100%|██████████| 40/40 [00:00<00:00, 68227.80it/s]\n",
            "100%|██████████| 40/40 [00:00<00:00, 281025.39it/s]\n",
            "100%|██████████| 40/40 [00:00<00:00, 206615.96it/s]\n",
            "100%|██████████| 40/40 [00:00<00:00, 316551.25it/s]\n",
            "0it [00:00, ?it/s]\n",
            "0it [00:00, ?it/s]\n",
            "0it [00:00, ?it/s]\n",
            "0it [00:00, ?it/s]\n",
            "0it [00:00, ?it/s]\n",
            "0it [00:00, ?it/s]\n",
            "0it [00:00, ?it/s]\n",
            "0it [00:00, ?it/s]\n",
            "0it [00:00, ?it/s]\n",
            "0it [00:00, ?it/s]\n",
            "0it [00:00, ?it/s]\n",
            "0it [00:00, ?it/s]\n",
            "0it [00:00, ?it/s]\n",
            "0it [00:00, ?it/s]\n",
            "0it [00:00, ?it/s]\n",
            "0it [00:00, ?it/s]\n",
            "0it [00:00, ?it/s]\n",
            "0it [00:00, ?it/s]\n",
            "0it [00:00, ?it/s]\n",
            "0it [00:00, ?it/s]\n",
            "0it [00:00, ?it/s]\n",
            "0it [00:00, ?it/s]\n",
            "0it [00:00, ?it/s]\n",
            "0it [00:00, ?it/s]\n",
            "0it [00:00, ?it/s]\n",
            "0it [00:00, ?it/s]\n",
            "0it [00:00, ?it/s]\n",
            "0it [00:00, ?it/s]\n",
            "0it [00:00, ?it/s]\n",
            "0it [00:00, ?it/s]\n",
            "0it [00:00, ?it/s]\n",
            "0it [00:00, ?it/s]\n",
            "0it [00:00, ?it/s]\n",
            "0it [00:00, ?it/s]\n",
            "0it [00:00, ?it/s]\n",
            "0it [00:00, ?it/s]\n",
            "0it [00:00, ?it/s]\n",
            "0it [00:00, ?it/s]\n",
            "0it [00:00, ?it/s]\n",
            "0it [00:00, ?it/s]\n",
            "0it [00:00, ?it/s]\n",
            "0it [00:00, ?it/s]\n",
            "0it [00:00, ?it/s]\n",
            "0it [00:00, ?it/s]\n",
            "0it [00:00, ?it/s]\n",
            "0it [00:00, ?it/s]\n",
            "0it [00:00, ?it/s]\n",
            "0it [00:00, ?it/s]\n",
            "0it [00:00, ?it/s]\n",
            "0it [00:00, ?it/s]\n",
            "0it [00:00, ?it/s]\n",
            "manipulated_sequences/DeepFakeDetection: 100%|██████████| 51/51 [04:52<00:00,  5.73s/it]\n",
            "0it [00:00, ?it/s]\n",
            "0it [00:00, ?it/s]\n",
            "0it [00:00, ?it/s]\n",
            "100%|██████████| 40/40 [00:00<00:00, 38863.14it/s]\n",
            "100%|██████████| 40/40 [00:00<00:00, 260515.78it/s]\n",
            "100%|██████████| 40/40 [00:00<00:00, 138197.83it/s]\n",
            "100%|██████████| 40/40 [00:00<00:00, 285326.80it/s]\n",
            "100%|██████████| 40/40 [00:00<00:00, 154914.28it/s]\n",
            "100%|██████████| 40/40 [00:00<00:00, 141341.33it/s]\n",
            "100%|██████████| 40/40 [00:00<00:00, 150333.48it/s]\n",
            "100%|██████████| 40/40 [00:00<00:00, 285326.80it/s]\n",
            "100%|██████████| 40/40 [00:00<00:00, 313592.82it/s]\n",
            "100%|██████████| 40/40 [00:00<00:00, 33500.83it/s]\n",
            "100%|██████████| 40/40 [00:00<00:00, 152243.34it/s]\n",
            "100%|██████████| 40/40 [00:00<00:00, 273244.56it/s]\n",
            "100%|██████████| 40/40 [00:00<00:00, 343092.35it/s]\n",
            "100%|██████████| 40/40 [00:00<00:00, 322638.77it/s]\n",
            "100%|██████████| 40/40 [00:00<00:00, 334207.49it/s]\n",
            "100%|██████████| 40/40 [00:00<00:00, 251155.93it/s]\n",
            "100%|██████████| 40/40 [00:00<00:00, 283398.92it/s]\n",
            "100%|██████████| 40/40 [00:00<00:00, 272357.40it/s]\n",
            "100%|██████████| 40/40 [00:00<00:00, 303935.07it/s]\n",
            "100%|██████████| 40/40 [00:00<00:00, 153216.58it/s]\n",
            "100%|██████████| 40/40 [00:00<00:00, 331565.53it/s]\n",
            "100%|██████████| 40/40 [00:00<00:00, 286790.02it/s]\n",
            "100%|██████████| 40/40 [00:00<00:00, 316551.25it/s]\n",
            "100%|██████████| 40/40 [00:00<00:00, 282921.01it/s]\n",
            "100%|██████████| 40/40 [00:00<00:00, 162412.55it/s]\n",
            "100%|██████████| 40/40 [00:00<00:00, 35757.07it/s]\n",
            "100%|██████████| 40/40 [00:00<00:00, 314769.53it/s]\n",
            "100%|██████████| 40/40 [00:00<00:00, 340308.64it/s]\n",
            "100%|██████████| 40/40 [00:00<00:00, 315955.10it/s]\n",
            "100%|██████████| 40/40 [00:00<00:00, 336216.75it/s]\n",
            "0it [00:00, ?it/s]\n",
            "0it [00:00, ?it/s]\n",
            "0it [00:00, ?it/s]\n",
            "0it [00:00, ?it/s]\n",
            "0it [00:00, ?it/s]\n",
            "0it [00:00, ?it/s]\n",
            "0it [00:00, ?it/s]\n",
            "0it [00:00, ?it/s]\n",
            "0it [00:00, ?it/s]\n",
            "0it [00:00, ?it/s]\n",
            "0it [00:00, ?it/s]\n",
            "0it [00:00, ?it/s]\n",
            "0it [00:00, ?it/s]\n",
            "0it [00:00, ?it/s]\n",
            "0it [00:00, ?it/s]\n",
            "0it [00:00, ?it/s]\n",
            "0it [00:00, ?it/s]\n",
            "0it [00:00, ?it/s]\n",
            "0it [00:00, ?it/s]\n",
            "0it [00:00, ?it/s]\n",
            "0it [00:00, ?it/s]\n",
            "0it [00:00, ?it/s]\n",
            "0it [00:00, ?it/s]\n",
            "0it [00:00, ?it/s]\n",
            "0it [00:00, ?it/s]\n",
            "0it [00:00, ?it/s]\n",
            "0it [00:00, ?it/s]\n",
            "0it [00:00, ?it/s]\n",
            "0it [00:00, ?it/s]\n",
            "0it [00:00, ?it/s]\n",
            "0it [00:00, ?it/s]\n",
            "0it [00:00, ?it/s]\n",
            "0it [00:00, ?it/s]\n",
            "0it [00:00, ?it/s]\n",
            "0it [00:00, ?it/s]\n",
            "0it [00:00, ?it/s]\n",
            "0it [00:00, ?it/s]\n",
            "0it [00:00, ?it/s]\n",
            "0it [00:00, ?it/s]\n",
            "0it [00:00, ?it/s]\n",
            "0it [00:00, ?it/s]\n",
            "0it [00:00, ?it/s]\n",
            "0it [00:00, ?it/s]\n",
            "0it [00:00, ?it/s]\n",
            "0it [00:00, ?it/s]\n",
            "0it [00:00, ?it/s]\n",
            "0it [00:00, ?it/s]\n",
            "0it [00:00, ?it/s]\n",
            "0it [00:00, ?it/s]\n",
            "0it [00:00, ?it/s]\n",
            "0it [00:00, ?it/s]\n",
            "manipulated_sequences/Deepfakes: 100%|██████████| 50/50 [01:50<00:00,  2.22s/it]\n",
            "0it [00:00, ?it/s]\n",
            "0it [00:00, ?it/s]\n",
            "0it [00:00, ?it/s]\n",
            "100%|██████████| 40/40 [00:00<00:00, 321402.61it/s]\n",
            "100%|██████████| 40/40 [00:00<00:00, 35402.44it/s]\n",
            "100%|██████████| 40/40 [00:00<00:00, 299059.11it/s]\n",
            "100%|██████████| 40/40 [00:00<00:00, 330260.16it/s]\n",
            "100%|██████████| 40/40 [00:00<00:00, 323260.42it/s]\n",
            "100%|██████████| 40/40 [00:00<00:00, 294854.41it/s]\n",
            "100%|██████████| 40/40 [00:00<00:00, 300129.09it/s]\n",
            "100%|██████████| 40/40 [00:00<00:00, 320175.88it/s]\n",
            "100%|██████████| 40/40 [00:00<00:00, 321402.61it/s]\n",
            "100%|██████████| 40/40 [00:00<00:00, 306713.27it/s]\n",
            "100%|██████████| 40/40 [00:00<00:00, 306713.27it/s]\n",
            "100%|██████████| 40/40 [00:00<00:00, 314769.53it/s]\n",
            "100%|██████████| 40/40 [00:00<00:00, 165619.11it/s]\n",
            "100%|██████████| 40/40 [00:00<00:00, 275036.33it/s]\n",
            "100%|██████████| 40/40 [00:00<00:00, 315955.10it/s]\n",
            "100%|██████████| 40/40 [00:00<00:00, 301206.75it/s]\n",
            "100%|██████████| 40/40 [00:00<00:00, 317149.64it/s]\n",
            "100%|██████████| 40/40 [00:00<00:00, 338933.66it/s]\n",
            "100%|██████████| 40/40 [00:00<00:00, 146398.05it/s]\n",
            "100%|██████████| 40/40 [00:00<00:00, 317149.64it/s]\n",
            "100%|██████████| 40/40 [00:00<00:00, 311265.60it/s]\n",
            "100%|██████████| 40/40 [00:00<00:00, 301206.75it/s]\n",
            "100%|██████████| 40/40 [00:00<00:00, 341000.33it/s]\n",
            "100%|██████████| 40/40 [00:00<00:00, 307275.02it/s]\n",
            "100%|██████████| 40/40 [00:00<00:00, 296941.88it/s]\n",
            "100%|██████████| 40/40 [00:00<00:00, 137630.98it/s]\n",
            "100%|██████████| 40/40 [00:00<00:00, 272800.26it/s]\n",
            "100%|██████████| 40/40 [00:00<00:00, 313592.82it/s]\n",
            "100%|██████████| 40/40 [00:00<00:00, 287281.10it/s]\n",
            "100%|██████████| 40/40 [00:00<00:00, 330911.56it/s]\n",
            "0it [00:00, ?it/s]\n",
            "0it [00:00, ?it/s]\n",
            "0it [00:00, ?it/s]\n",
            "0it [00:00, ?it/s]\n",
            "0it [00:00, ?it/s]\n",
            "0it [00:00, ?it/s]\n",
            "0it [00:00, ?it/s]\n",
            "0it [00:00, ?it/s]\n",
            "0it [00:00, ?it/s]\n",
            "0it [00:00, ?it/s]\n",
            "0it [00:00, ?it/s]\n",
            "0it [00:00, ?it/s]\n",
            "0it [00:00, ?it/s]\n",
            "0it [00:00, ?it/s]\n",
            "0it [00:00, ?it/s]\n",
            "0it [00:00, ?it/s]\n",
            "0it [00:00, ?it/s]\n",
            "0it [00:00, ?it/s]\n",
            "0it [00:00, ?it/s]\n",
            "0it [00:00, ?it/s]\n",
            "0it [00:00, ?it/s]\n",
            "0it [00:00, ?it/s]\n",
            "0it [00:00, ?it/s]\n",
            "0it [00:00, ?it/s]\n",
            "0it [00:00, ?it/s]\n",
            "0it [00:00, ?it/s]\n",
            "0it [00:00, ?it/s]\n",
            "0it [00:00, ?it/s]\n",
            "0it [00:00, ?it/s]\n",
            "0it [00:00, ?it/s]\n",
            "0it [00:00, ?it/s]\n",
            "0it [00:00, ?it/s]\n",
            "0it [00:00, ?it/s]\n",
            "0it [00:00, ?it/s]\n",
            "0it [00:00, ?it/s]\n",
            "0it [00:00, ?it/s]\n",
            "0it [00:00, ?it/s]\n",
            "0it [00:00, ?it/s]\n",
            "0it [00:00, ?it/s]\n",
            "0it [00:00, ?it/s]\n",
            "0it [00:00, ?it/s]\n",
            "0it [00:00, ?it/s]\n",
            "0it [00:00, ?it/s]\n",
            "0it [00:00, ?it/s]\n",
            "0it [00:00, ?it/s]\n",
            "0it [00:00, ?it/s]\n",
            "0it [00:00, ?it/s]\n",
            "0it [00:00, ?it/s]\n",
            "0it [00:00, ?it/s]\n",
            "0it [00:00, ?it/s]\n",
            "0it [00:00, ?it/s]\n",
            "manipulated_sequences/Face2Face: 100%|██████████| 50/50 [01:53<00:00,  2.27s/it]\n",
            "0it [00:00, ?it/s]\n",
            "0it [00:00, ?it/s]\n",
            "0it [00:00, ?it/s]\n",
            "100%|██████████| 40/40 [00:00<00:00, 32011.48it/s]\n",
            "100%|██████████| 40/40 [00:00<00:00, 268435.46it/s]\n",
            "100%|██████████| 40/40 [00:00<00:00, 291271.11it/s]\n",
            "100%|██████████| 40/40 [00:00<00:00, 292796.09it/s]\n",
            "100%|██████████| 40/40 [00:00<00:00, 296417.24it/s]\n",
            "100%|██████████| 40/40 [00:00<00:00, 248920.12it/s]\n",
            "100%|██████████| 40/40 [00:00<00:00, 289761.93it/s]\n",
            "100%|██████████| 40/40 [00:00<00:00, 280555.45it/s]\n",
            "100%|██████████| 40/40 [00:00<00:00, 151418.92it/s]\n",
            "100%|██████████| 40/40 [00:00<00:00, 285326.80it/s]\n",
            "100%|██████████| 40/40 [00:00<00:00, 289761.93it/s]\n",
            "100%|██████████| 40/40 [00:00<00:00, 292796.09it/s]\n",
            "100%|██████████| 40/40 [00:00<00:00, 160701.30it/s]\n",
            "100%|██████████| 40/40 [00:00<00:00, 243854.88it/s]\n",
            "100%|██████████| 40/40 [00:00<00:00, 301206.75it/s]\n",
            "100%|██████████| 40/40 [00:00<00:00, 274586.19it/s]\n",
            "100%|██████████| 40/40 [00:00<00:00, 325139.84it/s]\n",
            "100%|██████████| 40/40 [00:00<00:00, 153778.33it/s]\n",
            "100%|██████████| 40/40 [00:00<00:00, 307275.02it/s]\n",
            "100%|██████████| 40/40 [00:00<00:00, 158275.62it/s]\n",
            "100%|██████████| 40/40 [00:00<00:00, 360026.09it/s]\n",
            "100%|██████████| 40/40 [00:00<00:00, 156650.01it/s]\n",
            "100%|██████████| 40/40 [00:00<00:00, 266728.39it/s]\n",
            "100%|██████████| 40/40 [00:00<00:00, 286790.02it/s]\n",
            "100%|██████████| 40/40 [00:00<00:00, 360800.34it/s]\n",
            "100%|██████████| 40/40 [00:00<00:00, 345921.98it/s]\n",
            "100%|██████████| 40/40 [00:00<00:00, 313592.82it/s]\n",
            "100%|██████████| 40/40 [00:00<00:00, 381300.36it/s]\n",
            "100%|██████████| 40/40 [00:00<00:00, 348075.02it/s]\n",
            "100%|██████████| 40/40 [00:00<00:00, 357723.16it/s]\n",
            "0it [00:00, ?it/s]\n",
            "0it [00:00, ?it/s]\n",
            "0it [00:00, ?it/s]\n",
            "0it [00:00, ?it/s]\n",
            "0it [00:00, ?it/s]\n",
            "0it [00:00, ?it/s]\n",
            "0it [00:00, ?it/s]\n",
            "0it [00:00, ?it/s]\n",
            "0it [00:00, ?it/s]\n",
            "0it [00:00, ?it/s]\n",
            "0it [00:00, ?it/s]\n",
            "0it [00:00, ?it/s]\n",
            "0it [00:00, ?it/s]\n",
            "0it [00:00, ?it/s]\n",
            "0it [00:00, ?it/s]\n",
            "0it [00:00, ?it/s]\n",
            "0it [00:00, ?it/s]\n",
            "0it [00:00, ?it/s]\n",
            "0it [00:00, ?it/s]\n",
            "0it [00:00, ?it/s]\n",
            "0it [00:00, ?it/s]\n",
            "0it [00:00, ?it/s]\n",
            "0it [00:00, ?it/s]\n",
            "0it [00:00, ?it/s]\n",
            "0it [00:00, ?it/s]\n",
            "0it [00:00, ?it/s]\n",
            "0it [00:00, ?it/s]\n",
            "0it [00:00, ?it/s]\n",
            "0it [00:00, ?it/s]\n",
            "0it [00:00, ?it/s]\n",
            "0it [00:00, ?it/s]\n",
            "0it [00:00, ?it/s]\n",
            "0it [00:00, ?it/s]\n",
            "0it [00:00, ?it/s]\n",
            "0it [00:00, ?it/s]\n",
            "0it [00:00, ?it/s]\n",
            "0it [00:00, ?it/s]\n",
            "0it [00:00, ?it/s]\n",
            "0it [00:00, ?it/s]\n",
            "0it [00:00, ?it/s]\n",
            "0it [00:00, ?it/s]\n",
            "0it [00:00, ?it/s]\n",
            "0it [00:00, ?it/s]\n",
            "0it [00:00, ?it/s]\n",
            "0it [00:00, ?it/s]\n",
            "0it [00:00, ?it/s]\n",
            "0it [00:00, ?it/s]\n",
            "0it [00:00, ?it/s]\n",
            "0it [00:00, ?it/s]\n",
            "0it [00:00, ?it/s]\n",
            "0it [00:00, ?it/s]\n",
            "manipulated_sequences/FaceShifter: 100%|██████████| 50/50 [01:50<00:00,  2.21s/it]\n",
            "0it [00:00, ?it/s]\n",
            "0it [00:00, ?it/s]\n",
            "0it [00:00, ?it/s]\n",
            "100%|██████████| 40/40 [00:00<00:00, 301748.49it/s]\n",
            "100%|██████████| 40/40 [00:00<00:00, 152381.62it/s]\n",
            "100%|██████████| 40/40 [00:00<00:00, 33955.10it/s]\n",
            "100%|██████████| 40/40 [00:00<00:00, 159783.01it/s]\n",
            "100%|██████████| 40/40 [00:00<00:00, 323884.48it/s]\n",
            "100%|██████████| 40/40 [00:00<00:00, 160087.94it/s]\n",
            "100%|██████████| 40/40 [00:00<00:00, 211566.41it/s]\n",
            "100%|██████████| 40/40 [00:00<00:00, 295373.52it/s]\n",
            "100%|██████████| 40/40 [00:00<00:00, 279620.27it/s]\n",
            "100%|██████████| 40/40 [00:00<00:00, 309542.73it/s]\n",
            "100%|██████████| 40/40 [00:00<00:00, 163520.62it/s]\n",
            "100%|██████████| 40/40 [00:00<00:00, 158724.84it/s]\n",
            "100%|██████████| 40/40 [00:00<00:00, 283878.44it/s]\n",
            "100%|██████████| 40/40 [00:00<00:00, 356962.04it/s]\n",
            "100%|██████████| 40/40 [00:00<00:00, 282921.01it/s]\n",
            "100%|██████████| 40/40 [00:00<00:00, 293821.65it/s]\n",
            "100%|██████████| 40/40 [00:00<00:00, 341000.33it/s]\n",
            "100%|██████████| 40/40 [00:00<00:00, 361577.93it/s]\n",
            "100%|██████████| 40/40 [00:00<00:00, 306153.58it/s]\n",
            "100%|██████████| 40/40 [00:00<00:00, 259709.23it/s]\n",
            "100%|██████████| 40/40 [00:00<00:00, 267579.20it/s]\n",
            "100%|██████████| 40/40 [00:00<00:00, 328321.25it/s]\n",
            "100%|██████████| 40/40 [00:00<00:00, 189573.06it/s]\n",
            "100%|██████████| 40/40 [00:00<00:00, 264624.86it/s]\n",
            "100%|██████████| 40/40 [00:00<00:00, 289262.34it/s]\n",
            "100%|██████████| 40/40 [00:00<00:00, 262144.00it/s]\n",
            "100%|██████████| 40/40 [00:00<00:00, 292796.09it/s]\n",
            "100%|██████████| 40/40 [00:00<00:00, 153919.41it/s]\n",
            "100%|██████████| 40/40 [00:00<00:00, 143763.63it/s]\n",
            "100%|██████████| 40/40 [00:00<00:00, 25400.78it/s]\n",
            "0it [00:00, ?it/s]\n",
            "0it [00:00, ?it/s]\n",
            "0it [00:00, ?it/s]\n",
            "0it [00:00, ?it/s]\n",
            "0it [00:00, ?it/s]\n",
            "0it [00:00, ?it/s]\n",
            "0it [00:00, ?it/s]\n",
            "0it [00:00, ?it/s]\n",
            "0it [00:00, ?it/s]\n",
            "0it [00:00, ?it/s]\n",
            "0it [00:00, ?it/s]\n",
            "0it [00:00, ?it/s]\n",
            "0it [00:00, ?it/s]\n",
            "0it [00:00, ?it/s]\n",
            "0it [00:00, ?it/s]\n",
            "0it [00:00, ?it/s]\n",
            "0it [00:00, ?it/s]\n",
            "0it [00:00, ?it/s]\n",
            "0it [00:00, ?it/s]\n",
            "0it [00:00, ?it/s]\n",
            "0it [00:00, ?it/s]\n",
            "0it [00:00, ?it/s]\n",
            "0it [00:00, ?it/s]\n",
            "0it [00:00, ?it/s]\n",
            "0it [00:00, ?it/s]\n",
            "0it [00:00, ?it/s]\n",
            "0it [00:00, ?it/s]\n",
            "0it [00:00, ?it/s]\n",
            "0it [00:00, ?it/s]\n",
            "0it [00:00, ?it/s]\n",
            "0it [00:00, ?it/s]\n",
            "0it [00:00, ?it/s]\n",
            "0it [00:00, ?it/s]\n",
            "0it [00:00, ?it/s]\n",
            "0it [00:00, ?it/s]\n",
            "0it [00:00, ?it/s]\n",
            "0it [00:00, ?it/s]\n",
            "0it [00:00, ?it/s]\n",
            "0it [00:00, ?it/s]\n",
            "0it [00:00, ?it/s]\n",
            "0it [00:00, ?it/s]\n",
            "0it [00:00, ?it/s]\n",
            "0it [00:00, ?it/s]\n",
            "0it [00:00, ?it/s]\n",
            "0it [00:00, ?it/s]\n",
            "0it [00:00, ?it/s]\n",
            "0it [00:00, ?it/s]\n",
            "0it [00:00, ?it/s]\n",
            "0it [00:00, ?it/s]\n",
            "0it [00:00, ?it/s]\n",
            "0it [00:00, ?it/s]\n",
            "manipulated_sequences/FaceSwap: 100%|██████████| 50/50 [01:33<00:00,  1.86s/it]\n",
            "0it [00:00, ?it/s]\n",
            "0it [00:00, ?it/s]\n",
            "0it [00:00, ?it/s]\n",
            "100%|██████████| 40/40 [00:00<00:00, 148602.44it/s]\n",
            "100%|██████████| 40/40 [00:00<00:00, 227025.93it/s]\n",
            "100%|██████████| 40/40 [00:00<00:00, 159935.33it/s]\n",
            "100%|██████████| 40/40 [00:00<00:00, 239332.61it/s]\n",
            "100%|██████████| 40/40 [00:00<00:00, 165130.08it/s]\n",
            "100%|██████████| 40/40 [00:00<00:00, 312424.88it/s]\n",
            "100%|██████████| 40/40 [00:00<00:00, 307838.83it/s]\n",
            "100%|██████████| 40/40 [00:00<00:00, 141341.33it/s]\n",
            "100%|██████████| 40/40 [00:00<00:00, 270600.26it/s]\n",
            "100%|██████████| 40/40 [00:00<00:00, 290766.31it/s]\n",
            "100%|██████████| 40/40 [00:00<00:00, 161474.65it/s]\n",
            "100%|██████████| 40/40 [00:00<00:00, 280087.08it/s]\n",
            "100%|██████████| 40/40 [00:00<00:00, 148998.37it/s]\n",
            "100%|██████████| 40/40 [00:00<00:00, 293307.97it/s]\n",
            "100%|██████████| 40/40 [00:00<00:00, 309542.73it/s]\n",
            "100%|██████████| 40/40 [00:00<00:00, 149662.94it/s]\n",
            "100%|██████████| 40/40 [00:00<00:00, 330260.16it/s]\n",
            "100%|██████████| 40/40 [00:00<00:00, 349525.33it/s]\n",
            "100%|██████████| 40/40 [00:00<00:00, 321402.61it/s]\n",
            "100%|██████████| 40/40 [00:00<00:00, 303935.07it/s]\n",
            "100%|██████████| 40/40 [00:00<00:00, 335544.32it/s]\n",
            "100%|██████████| 40/40 [00:00<00:00, 349525.33it/s]\n",
            "100%|██████████| 40/40 [00:00<00:00, 304486.68it/s]\n",
            "100%|██████████| 40/40 [00:00<00:00, 243854.88it/s]\n",
            "100%|██████████| 40/40 [00:00<00:00, 320788.07it/s]\n",
            "100%|██████████| 40/40 [00:00<00:00, 145888.83it/s]\n",
            "100%|██████████| 40/40 [00:00<00:00, 267153.12it/s]\n",
            "100%|██████████| 40/40 [00:00<00:00, 31720.96it/s]\n",
            "100%|██████████| 40/40 [00:00<00:00, 290766.31it/s]\n",
            "100%|██████████| 40/40 [00:00<00:00, 294337.12it/s]\n",
            "0it [00:00, ?it/s]\n",
            "0it [00:00, ?it/s]\n",
            "0it [00:00, ?it/s]\n",
            "0it [00:00, ?it/s]\n",
            "0it [00:00, ?it/s]\n",
            "0it [00:00, ?it/s]\n",
            "0it [00:00, ?it/s]\n",
            "0it [00:00, ?it/s]\n",
            "0it [00:00, ?it/s]\n",
            "0it [00:00, ?it/s]\n",
            "0it [00:00, ?it/s]\n",
            "0it [00:00, ?it/s]\n",
            "0it [00:00, ?it/s]\n",
            "0it [00:00, ?it/s]\n",
            "0it [00:00, ?it/s]\n",
            "0it [00:00, ?it/s]\n",
            "0it [00:00, ?it/s]\n",
            "0it [00:00, ?it/s]\n",
            "0it [00:00, ?it/s]\n",
            "0it [00:00, ?it/s]\n",
            "0it [00:00, ?it/s]\n",
            "0it [00:00, ?it/s]\n",
            "0it [00:00, ?it/s]\n",
            "0it [00:00, ?it/s]\n",
            "0it [00:00, ?it/s]\n",
            "0it [00:00, ?it/s]\n",
            "0it [00:00, ?it/s]\n",
            "0it [00:00, ?it/s]\n",
            "0it [00:00, ?it/s]\n",
            "0it [00:00, ?it/s]\n",
            "0it [00:00, ?it/s]\n",
            "0it [00:00, ?it/s]\n",
            "0it [00:00, ?it/s]\n",
            "0it [00:00, ?it/s]\n",
            "0it [00:00, ?it/s]\n",
            "0it [00:00, ?it/s]\n",
            "0it [00:00, ?it/s]\n",
            "0it [00:00, ?it/s]\n",
            "0it [00:00, ?it/s]\n",
            "0it [00:00, ?it/s]\n",
            "0it [00:00, ?it/s]\n",
            "0it [00:00, ?it/s]\n",
            "0it [00:00, ?it/s]\n",
            "0it [00:00, ?it/s]\n",
            "0it [00:00, ?it/s]\n",
            "0it [00:00, ?it/s]\n",
            "0it [00:00, ?it/s]\n",
            "0it [00:00, ?it/s]\n",
            "0it [00:00, ?it/s]\n",
            "0it [00:00, ?it/s]\n",
            "0it [00:00, ?it/s]\n",
            "manipulated_sequences/NeuralTextures: 100%|██████████| 50/50 [01:34<00:00,  1.88s/it]\n",
            "0it [00:00, ?it/s]\n",
            "0it [00:00, ?it/s]\n",
            "0it [00:00, ?it/s]\n",
            "0it [00:00, ?it/s]\n",
            "100%|██████████| 40/40 [00:00<00:00, 277309.36it/s]\n",
            "100%|██████████| 40/40 [00:00<00:00, 316551.25it/s]\n",
            "100%|██████████| 40/40 [00:00<00:00, 266728.39it/s]\n",
            "100%|██████████| 40/40 [00:00<00:00, 300666.95it/s]\n",
            "100%|██████████| 40/40 [00:00<00:00, 301206.75it/s]\n",
            "100%|██████████| 40/40 [00:00<00:00, 302292.18it/s]\n",
            "100%|██████████| 40/40 [00:00<00:00, 268865.64it/s]\n",
            "100%|██████████| 40/40 [00:00<00:00, 277768.48it/s]\n",
            "100%|██████████| 40/40 [00:00<00:00, 148866.16it/s]\n",
            "100%|██████████| 40/40 [00:00<00:00, 357723.16it/s]\n",
            "100%|██████████| 40/40 [00:00<00:00, 305040.29it/s]\n",
            "100%|██████████| 40/40 [00:00<00:00, 150603.38it/s]\n",
            "100%|██████████| 40/40 [00:00<00:00, 276395.65it/s]\n",
            "100%|██████████| 40/40 [00:00<00:00, 122550.88it/s]\n",
            "100%|██████████| 40/40 [00:00<00:00, 150738.69it/s]\n",
            "100%|██████████| 40/40 [00:00<00:00, 322638.77it/s]\n",
            "100%|██████████| 40/40 [00:00<00:00, 319566.02it/s]\n",
            "100%|██████████| 40/40 [00:00<00:00, 304486.68it/s]\n",
            "100%|██████████| 40/40 [00:00<00:00, 359255.16it/s]\n",
            "100%|██████████| 40/40 [00:00<00:00, 318353.24it/s]\n",
            "100%|██████████| 40/40 [00:00<00:00, 356962.04it/s]\n",
            "100%|██████████| 40/40 [00:00<00:00, 375329.22it/s]\n",
            "100%|██████████| 40/40 [00:00<00:00, 311265.60it/s]\n",
            "100%|██████████| 40/40 [00:00<00:00, 275941.05it/s]\n",
            "100%|██████████| 40/40 [00:00<00:00, 145509.25it/s]\n",
            "100%|██████████| 40/40 [00:00<00:00, 224294.33it/s]\n",
            "100%|██████████| 40/40 [00:00<00:00, 291777.67it/s]\n",
            "100%|██████████| 40/40 [00:00<00:00, 230456.26it/s]\n",
            "100%|██████████| 40/40 [00:00<00:00, 289262.34it/s]\n",
            "100%|██████████| 40/40 [00:00<00:00, 149930.44it/s]\n",
            "100%|██████████| 40/40 [00:00<00:00, 313007.76it/s]\n",
            "100%|██████████| 40/40 [00:00<00:00, 293821.65it/s]\n",
            "100%|██████████| 40/40 [00:00<00:00, 303935.07it/s]\n",
            "100%|██████████| 40/40 [00:00<00:00, 261735.04it/s]\n",
            "100%|██████████| 40/40 [00:00<00:00, 322019.50it/s]\n",
            "100%|██████████| 40/40 [00:00<00:00, 297996.73it/s]\n",
            "100%|██████████| 40/40 [00:00<00:00, 292796.09it/s]\n",
            "100%|██████████| 40/40 [00:00<00:00, 320175.88it/s]\n",
            "100%|██████████| 40/40 [00:00<00:00, 320175.88it/s]\n",
            "100%|██████████| 40/40 [00:00<00:00, 103819.41it/s]\n",
            "100%|██████████| 40/40 [00:00<00:00, 323884.48it/s]\n",
            "100%|██████████| 40/40 [00:00<00:00, 172074.01it/s]\n",
            "100%|██████████| 40/40 [00:00<00:00, 334207.49it/s]\n",
            "100%|██████████| 40/40 [00:00<00:00, 334207.49it/s]\n",
            "100%|██████████| 40/40 [00:00<00:00, 347354.37it/s]\n",
            "100%|██████████| 40/40 [00:00<00:00, 342392.16it/s]\n",
            "100%|██████████| 40/40 [00:00<00:00, 317149.64it/s]\n",
            "100%|██████████| 40/40 [00:00<00:00, 170847.41it/s]\n",
            "100%|██████████| 40/40 [00:00<00:00, 333543.06it/s]\n",
            "100%|██████████| 40/40 [00:00<00:00, 308404.71it/s]\n",
            "100%|██████████| 40/40 [00:00<00:00, 323260.42it/s]\n",
            "100%|██████████| 40/40 [00:00<00:00, 338933.66it/s]\n",
            "100%|██████████| 40/40 [00:00<00:00, 356962.04it/s]\n",
            "100%|██████████| 40/40 [00:00<00:00, 306713.27it/s]\n",
            "100%|██████████| 40/40 [00:00<00:00, 332881.27it/s]\n",
            "100%|██████████| 40/40 [00:00<00:00, 41455.93it/s]\n",
            "100%|██████████| 40/40 [00:00<00:00, 134217.73it/s]\n",
            "100%|██████████| 40/40 [00:00<00:00, 283398.92it/s]\n",
            "100%|██████████| 40/40 [00:00<00:00, 140866.63it/s]\n",
            "100%|██████████| 40/40 [00:00<00:00, 300666.95it/s]\n",
            "100%|██████████| 40/40 [00:00<00:00, 266305.02it/s]\n",
            "100%|██████████| 40/40 [00:00<00:00, 153778.33it/s]\n",
            "100%|██████████| 40/40 [00:00<00:00, 310114.90it/s]\n",
            "100%|██████████| 40/40 [00:00<00:00, 303935.07it/s]\n",
            "100%|██████████| 40/40 [00:00<00:00, 168108.38it/s]\n",
            "100%|██████████| 40/40 [00:00<00:00, 327041.25it/s]\n",
            "100%|██████████| 40/40 [00:00<00:00, 160240.84it/s]\n",
            "100%|██████████| 40/40 [00:00<00:00, 334874.57it/s]\n",
            "100%|██████████| 40/40 [00:00<00:00, 314180.07it/s]\n",
            "100%|██████████| 40/40 [00:00<00:00, 313007.76it/s]\n",
            "100%|██████████| 40/40 [00:00<00:00, 315361.20it/s]\n",
            "100%|██████████| 40/40 [00:00<00:00, 328965.02it/s]\n",
            "100%|██████████| 40/40 [00:00<00:00, 377865.23it/s]\n",
            "100%|██████████| 40/40 [00:00<00:00, 373657.37it/s]\n",
            "100%|██████████| 40/40 [00:00<00:00, 283398.92it/s]\n",
            "100%|██████████| 40/40 [00:00<00:00, 305040.29it/s]\n",
            "100%|██████████| 40/40 [00:00<00:00, 311265.60it/s]\n",
            "100%|██████████| 40/40 [00:00<00:00, 292796.09it/s]\n",
            "100%|██████████| 40/40 [00:00<00:00, 288268.32it/s]\n",
            "100%|██████████| 40/40 [00:00<00:00, 272357.40it/s]\n",
            "100%|██████████| 40/40 [00:00<00:00, 315361.20it/s]\n",
            "100%|██████████| 40/40 [00:00<00:00, 144382.24it/s]\n",
            "100%|██████████| 40/40 [00:00<00:00, 290263.25it/s]\n",
            "100%|██████████| 40/40 [00:00<00:00, 298526.98it/s]\n",
            "100%|██████████| 40/40 [00:00<00:00, 272800.26it/s]\n",
            "100%|██████████| 40/40 [00:00<00:00, 249660.95it/s]\n",
            "100%|██████████| 40/40 [00:00<00:00, 276851.75it/s]\n",
            "100%|██████████| 40/40 [00:00<00:00, 199728.76it/s]\n",
            "100%|██████████| 40/40 [00:00<00:00, 302292.18it/s]\n",
            "100%|██████████| 40/40 [00:00<00:00, 305595.92it/s]\n",
            "0it [00:00, ?it/s]\n",
            "100%|██████████| 788/788 [00:00<00:00, 1435133.11it/s]\n",
            "100%|██████████| 560/560 [00:00<00:00, 1200209.63it/s]\n",
            "100%|██████████| 800/800 [00:00<00:00, 1350822.54it/s]\n",
            "100%|██████████| 626/626 [00:00<00:00, 1252090.75it/s]\n",
            "100%|██████████| 851/851 [00:00<00:00, 1238498.51it/s]\n",
            "100%|██████████| 306/306 [00:00<00:00, 871321.81it/s]\n",
            "100%|██████████| 364/364 [00:00<00:00, 1033667.34it/s]\n",
            "100%|██████████| 985/985 [00:00<00:00, 1252315.68it/s]\n",
            "100%|██████████| 990/990 [00:00<00:00, 569050.43it/s]\n",
            "100%|██████████| 482/482 [00:00<00:00, 333386.30it/s]\n",
            "0it [00:00, ?it/s]\n",
            "0it [00:00, ?it/s]\n",
            "0it [00:00, ?it/s]\n",
            "0it [00:00, ?it/s]\n",
            "0it [00:00, ?it/s]\n",
            "0it [00:00, ?it/s]\n",
            "0it [00:00, ?it/s]\n",
            "0it [00:00, ?it/s]\n",
            "0it [00:00, ?it/s]\n",
            "0it [00:00, ?it/s]\n",
            "0it [00:00, ?it/s]\n",
            "0it [00:00, ?it/s]\n",
            "0it [00:00, ?it/s]\n",
            "0it [00:00, ?it/s]\n",
            "0it [00:00, ?it/s]\n",
            "0it [00:00, ?it/s]\n",
            "0it [00:00, ?it/s]\n",
            "0it [00:00, ?it/s]\n",
            "0it [00:00, ?it/s]\n",
            "0it [00:00, ?it/s]\n",
            "0it [00:00, ?it/s]\n",
            "0it [00:00, ?it/s]\n",
            "0it [00:00, ?it/s]\n",
            "0it [00:00, ?it/s]\n",
            "0it [00:00, ?it/s]\n",
            "0it [00:00, ?it/s]\n",
            "0it [00:00, ?it/s]\n",
            "0it [00:00, ?it/s]\n",
            "0it [00:00, ?it/s]\n",
            "0it [00:00, ?it/s]\n",
            "0it [00:00, ?it/s]\n",
            "0it [00:00, ?it/s]\n",
            "0it [00:00, ?it/s]\n",
            "0it [00:00, ?it/s]\n",
            "0it [00:00, ?it/s]\n",
            "0it [00:00, ?it/s]\n",
            "0it [00:00, ?it/s]\n",
            "0it [00:00, ?it/s]\n",
            "0it [00:00, ?it/s]\n",
            "0it [00:00, ?it/s]\n",
            "0it [00:00, ?it/s]\n",
            "0it [00:00, ?it/s]\n",
            "0it [00:00, ?it/s]\n",
            "0it [00:00, ?it/s]\n",
            "0it [00:00, ?it/s]\n",
            "0it [00:00, ?it/s]\n",
            "0it [00:00, ?it/s]\n",
            "0it [00:00, ?it/s]\n",
            "0it [00:00, ?it/s]\n",
            "0it [00:00, ?it/s]\n",
            "0it [00:00, ?it/s]\n",
            "0it [00:00, ?it/s]\n",
            "0it [00:00, ?it/s]\n",
            "0it [00:00, ?it/s]\n",
            "0it [00:00, ?it/s]\n",
            "0it [00:00, ?it/s]\n",
            "0it [00:00, ?it/s]\n",
            "0it [00:00, ?it/s]\n",
            "0it [00:00, ?it/s]\n",
            "0it [00:00, ?it/s]\n",
            "0it [00:00, ?it/s]\n",
            "0it [00:00, ?it/s]\n",
            "0it [00:00, ?it/s]\n",
            "0it [00:00, ?it/s]\n",
            "0it [00:00, ?it/s]\n",
            "0it [00:00, ?it/s]\n",
            "0it [00:00, ?it/s]\n",
            "0it [00:00, ?it/s]\n",
            "0it [00:00, ?it/s]\n",
            "0it [00:00, ?it/s]\n",
            "0it [00:00, ?it/s]\n",
            "0it [00:00, ?it/s]\n",
            "0it [00:00, ?it/s]\n",
            "0it [00:00, ?it/s]\n",
            "0it [00:00, ?it/s]\n",
            "0it [00:00, ?it/s]\n",
            "0it [00:00, ?it/s]\n",
            "0it [00:00, ?it/s]\n",
            "0it [00:00, ?it/s]\n",
            "0it [00:00, ?it/s]\n",
            "0it [00:00, ?it/s]\n",
            "0it [00:00, ?it/s]\n",
            "0it [00:00, ?it/s]\n",
            "0it [00:00, ?it/s]\n",
            "0it [00:00, ?it/s]\n",
            "0it [00:00, ?it/s]\n",
            "0it [00:00, ?it/s]\n",
            "0it [00:00, ?it/s]\n",
            "0it [00:00, ?it/s]\n",
            "0it [00:00, ?it/s]\n",
            "0it [00:00, ?it/s]\n",
            "0it [00:00, ?it/s]\n",
            "0it [00:00, ?it/s]\n",
            "0it [00:00, ?it/s]\n",
            "0it [00:00, ?it/s]\n",
            "0it [00:00, ?it/s]\n",
            "0it [00:00, ?it/s]\n",
            "0it [00:00, ?it/s]\n",
            "0it [00:00, ?it/s]\n",
            "0it [00:00, ?it/s]\n",
            "0it [00:00, ?it/s]\n",
            "0it [00:00, ?it/s]\n",
            "0it [00:00, ?it/s]\n",
            "0it [00:00, ?it/s]\n",
            "0it [00:00, ?it/s]\n",
            "0it [00:00, ?it/s]\n",
            "0it [00:00, ?it/s]\n",
            "0it [00:00, ?it/s]\n",
            "0it [00:00, ?it/s]\n",
            "0it [00:00, ?it/s]\n",
            "0it [00:00, ?it/s]\n",
            "0it [00:00, ?it/s]\n",
            "0it [00:00, ?it/s]\n",
            "0it [00:00, ?it/s]\n",
            "0it [00:00, ?it/s]\n",
            "0it [00:00, ?it/s]\n",
            "0it [00:00, ?it/s]\n",
            "0it [00:00, ?it/s]\n",
            "0it [00:00, ?it/s]\n",
            "0it [00:00, ?it/s]\n",
            "0it [00:00, ?it/s]\n",
            "0it [00:00, ?it/s]\n",
            "0it [00:00, ?it/s]\n",
            "0it [00:00, ?it/s]\n",
            "0it [00:00, ?it/s]\n",
            "0it [00:00, ?it/s]\n",
            "0it [00:00, ?it/s]\n",
            "0it [00:00, ?it/s]\n",
            "0it [00:00, ?it/s]\n",
            "0it [00:00, ?it/s]\n",
            "0it [00:00, ?it/s]\n",
            "0it [00:00, ?it/s]\n",
            "0it [00:00, ?it/s]\n",
            "0it [00:00, ?it/s]\n",
            "0it [00:00, ?it/s]\n",
            "0it [00:00, ?it/s]\n",
            "0it [00:00, ?it/s]\n",
            "0it [00:00, ?it/s]\n",
            "0it [00:00, ?it/s]\n",
            "0it [00:00, ?it/s]\n",
            "original_sequences/actors: 100%|██████████| 150/150 [16:28<00:00,  6.59s/it]\n",
            "0it [00:00, ?it/s]\n",
            "0it [00:00, ?it/s]\n",
            "0it [00:00, ?it/s]\n",
            "100%|██████████| 40/40 [00:00<00:00, 155922.08it/s]\n",
            "100%|██████████| 40/40 [00:00<00:00, 274137.52it/s]\n",
            "100%|██████████| 40/40 [00:00<00:00, 307275.02it/s]\n",
            "100%|██████████| 40/40 [00:00<00:00, 320788.07it/s]\n",
            "100%|██████████| 40/40 [00:00<00:00, 294337.12it/s]\n",
            "100%|██████████| 40/40 [00:00<00:00, 315361.20it/s]\n",
            "100%|██████████| 40/40 [00:00<00:00, 140043.54it/s]\n",
            "100%|██████████| 40/40 [00:00<00:00, 375329.22it/s]\n",
            "100%|██████████| 40/40 [00:00<00:00, 318958.48it/s]\n",
            "100%|██████████| 40/40 [00:00<00:00, 307275.02it/s]\n",
            "100%|██████████| 40/40 [00:00<00:00, 150198.89it/s]\n",
            "100%|██████████| 40/40 [00:00<00:00, 267153.12it/s]\n",
            "100%|██████████| 40/40 [00:00<00:00, 127680.49it/s]\n",
            "100%|██████████| 40/40 [00:00<00:00, 343092.35it/s]\n",
            "100%|██████████| 40/40 [00:00<00:00, 358487.52it/s]\n",
            "100%|██████████| 40/40 [00:00<00:00, 320175.88it/s]\n",
            "100%|██████████| 40/40 [00:00<00:00, 363143.20it/s]\n",
            "100%|██████████| 40/40 [00:00<00:00, 369542.20it/s]\n",
            "100%|██████████| 40/40 [00:00<00:00, 240706.11it/s]\n",
            "100%|██████████| 40/40 [00:00<00:00, 331565.53it/s]\n",
            "100%|██████████| 40/40 [00:00<00:00, 354698.01it/s]\n",
            "100%|██████████| 40/40 [00:00<00:00, 334874.57it/s]\n",
            "100%|██████████| 40/40 [00:00<00:00, 279620.27it/s]\n",
            "100%|██████████| 40/40 [00:00<00:00, 291777.67it/s]\n",
            "100%|██████████| 40/40 [00:00<00:00, 149263.49it/s]\n",
            "100%|██████████| 40/40 [00:00<00:00, 307275.02it/s]\n",
            "100%|██████████| 40/40 [00:00<00:00, 309542.73it/s]\n",
            "100%|██████████| 40/40 [00:00<00:00, 149930.44it/s]\n",
            "100%|██████████| 40/40 [00:00<00:00, 137743.97it/s]\n",
            "100%|██████████| 40/40 [00:00<00:00, 413231.92it/s]\n",
            "100%|██████████| 40/40 [00:00<00:00, 39071.30it/s]\n",
            "100%|██████████| 40/40 [00:00<00:00, 167437.29it/s]\n",
            "100%|██████████| 40/40 [00:00<00:00, 119837.26it/s]\n",
            "100%|██████████| 40/40 [00:00<00:00, 319566.02it/s]\n",
            "100%|██████████| 40/40 [00:00<00:00, 368730.02it/s]\n",
            "100%|██████████| 40/40 [00:00<00:00, 167940.10it/s]\n",
            "100%|██████████| 40/40 [00:00<00:00, 283398.92it/s]\n",
            "100%|██████████| 40/40 [00:00<00:00, 370357.97it/s]\n",
            "100%|██████████| 40/40 [00:00<00:00, 310114.90it/s]\n",
            "100%|██████████| 40/40 [00:00<00:00, 284842.38it/s]\n",
            "100%|██████████| 40/40 [00:00<00:00, 316551.25it/s]\n",
            "100%|██████████| 40/40 [00:00<00:00, 308404.71it/s]\n",
            "100%|██████████| 40/40 [00:00<00:00, 310689.19it/s]\n",
            "100%|██████████| 40/40 [00:00<00:00, 296941.88it/s]\n",
            "100%|██████████| 40/40 [00:00<00:00, 280087.08it/s]\n",
            "100%|██████████| 40/40 [00:00<00:00, 132836.23it/s]\n",
            "100%|██████████| 40/40 [00:00<00:00, 314769.53it/s]\n",
            "100%|██████████| 40/40 [00:00<00:00, 150198.89it/s]\n",
            "100%|██████████| 40/40 [00:00<00:00, 254972.89it/s]\n",
            "100%|██████████| 40/40 [00:00<00:00, 278229.12it/s]\n",
            "100%|██████████| 40/40 [00:00<00:00, 285326.80it/s]\n",
            "100%|██████████| 40/40 [00:00<00:00, 274137.52it/s]\n",
            "100%|██████████| 40/40 [00:00<00:00, 246723.76it/s]\n",
            "100%|██████████| 40/40 [00:00<00:00, 288268.32it/s]\n",
            "100%|██████████| 40/40 [00:00<00:00, 275941.05it/s]\n",
            "100%|██████████| 40/40 [00:00<00:00, 130969.68it/s]\n",
            "100%|██████████| 40/40 [00:00<00:00, 160701.30it/s]\n",
            "100%|██████████| 40/40 [00:00<00:00, 302837.83it/s]\n",
            "100%|██████████| 40/40 [00:00<00:00, 291777.67it/s]\n",
            "100%|██████████| 40/40 [00:00<00:00, 324510.95it/s]\n",
            "100%|██████████| 40/40 [00:00<00:00, 360800.34it/s]\n",
            "100%|██████████| 40/40 [00:00<00:00, 321402.61it/s]\n",
            "100%|██████████| 40/40 [00:00<00:00, 294337.12it/s]\n",
            "100%|██████████| 40/40 [00:00<00:00, 315361.20it/s]\n",
            "100%|██████████| 40/40 [00:00<00:00, 194180.74it/s]\n",
            "100%|██████████| 40/40 [00:00<00:00, 302292.18it/s]\n",
            "100%|██████████| 40/40 [00:00<00:00, 366314.76it/s]\n",
            "100%|██████████| 40/40 [00:00<00:00, 186620.87it/s]\n",
            "100%|██████████| 40/40 [00:00<00:00, 314180.07it/s]\n",
            "100%|██████████| 40/40 [00:00<00:00, 345921.98it/s]\n",
            "100%|██████████| 40/40 [00:00<00:00, 348798.67it/s]\n",
            "100%|██████████| 40/40 [00:00<00:00, 340308.64it/s]\n",
            "100%|██████████| 40/40 [00:00<00:00, 362358.88it/s]\n",
            "100%|██████████| 40/40 [00:00<00:00, 260111.88it/s]\n",
            "100%|██████████| 40/40 [00:00<00:00, 314180.07it/s]\n",
            "100%|██████████| 40/40 [00:00<00:00, 320175.88it/s]\n",
            "100%|██████████| 40/40 [00:00<00:00, 163202.49it/s]\n",
            "100%|██████████| 40/40 [00:00<00:00, 294854.41it/s]\n",
            "100%|██████████| 40/40 [00:00<00:00, 283878.44it/s]\n",
            "100%|██████████| 40/40 [00:00<00:00, 164160.63it/s]\n",
            "100%|██████████| 40/40 [00:00<00:00, 284842.38it/s]\n",
            "100%|██████████| 40/40 [00:00<00:00, 348798.67it/s]\n",
            "100%|██████████| 40/40 [00:00<00:00, 279620.27it/s]\n",
            "100%|██████████| 40/40 [00:00<00:00, 277309.36it/s]\n",
            "100%|██████████| 40/40 [00:00<00:00, 306713.27it/s]\n",
            "100%|██████████| 40/40 [00:00<00:00, 152658.93it/s]\n",
            "100%|██████████| 40/40 [00:00<00:00, 117734.85it/s]\n",
            "100%|██████████| 40/40 [00:00<00:00, 283398.92it/s]\n",
            "100%|██████████| 40/40 [00:00<00:00, 287773.86it/s]\n",
            "100%|██████████| 40/40 [00:00<00:00, 144010.44it/s]\n",
            "0it [00:00, ?it/s]\n",
            "0it [00:00, ?it/s]\n",
            "0it [00:00, ?it/s]\n",
            "0it [00:00, ?it/s]\n",
            "0it [00:00, ?it/s]\n",
            "0it [00:00, ?it/s]\n",
            "0it [00:00, ?it/s]\n",
            "0it [00:00, ?it/s]\n",
            "0it [00:00, ?it/s]\n",
            "0it [00:00, ?it/s]\n",
            "0it [00:00, ?it/s]\n",
            "0it [00:00, ?it/s]\n",
            "0it [00:00, ?it/s]\n",
            "0it [00:00, ?it/s]\n",
            "0it [00:00, ?it/s]\n",
            "0it [00:00, ?it/s]\n",
            "0it [00:00, ?it/s]\n",
            "0it [00:00, ?it/s]\n",
            "0it [00:00, ?it/s]\n",
            "0it [00:00, ?it/s]\n",
            "0it [00:00, ?it/s]\n",
            "0it [00:00, ?it/s]\n",
            "0it [00:00, ?it/s]\n",
            "0it [00:00, ?it/s]\n",
            "0it [00:00, ?it/s]\n",
            "0it [00:00, ?it/s]\n",
            "0it [00:00, ?it/s]\n",
            "0it [00:00, ?it/s]\n",
            "0it [00:00, ?it/s]\n",
            "0it [00:00, ?it/s]\n",
            "0it [00:00, ?it/s]\n",
            "0it [00:00, ?it/s]\n",
            "0it [00:00, ?it/s]\n",
            "0it [00:00, ?it/s]\n",
            "0it [00:00, ?it/s]\n",
            "0it [00:00, ?it/s]\n",
            "0it [00:00, ?it/s]\n",
            "0it [00:00, ?it/s]\n",
            "0it [00:00, ?it/s]\n",
            "0it [00:00, ?it/s]\n",
            "0it [00:00, ?it/s]\n",
            "0it [00:00, ?it/s]\n",
            "0it [00:00, ?it/s]\n",
            "0it [00:00, ?it/s]\n",
            "0it [00:00, ?it/s]\n",
            "0it [00:00, ?it/s]\n",
            "0it [00:00, ?it/s]\n",
            "0it [00:00, ?it/s]\n",
            "0it [00:00, ?it/s]\n",
            "0it [00:00, ?it/s]\n",
            "0it [00:00, ?it/s]\n",
            "0it [00:00, ?it/s]\n",
            "0it [00:00, ?it/s]\n",
            "0it [00:00, ?it/s]\n",
            "0it [00:00, ?it/s]\n",
            "0it [00:00, ?it/s]\n",
            "0it [00:00, ?it/s]\n",
            "0it [00:00, ?it/s]\n",
            "0it [00:00, ?it/s]\n",
            "0it [00:00, ?it/s]\n",
            "0it [00:00, ?it/s]\n",
            "0it [00:00, ?it/s]\n",
            "0it [00:00, ?it/s]\n",
            "0it [00:00, ?it/s]\n",
            "0it [00:00, ?it/s]\n",
            "0it [00:00, ?it/s]\n",
            "0it [00:00, ?it/s]\n",
            "0it [00:00, ?it/s]\n",
            "0it [00:00, ?it/s]\n",
            "0it [00:00, ?it/s]\n",
            "0it [00:00, ?it/s]\n",
            "0it [00:00, ?it/s]\n",
            "0it [00:00, ?it/s]\n",
            "0it [00:00, ?it/s]\n",
            "0it [00:00, ?it/s]\n",
            "0it [00:00, ?it/s]\n",
            "0it [00:00, ?it/s]\n",
            "0it [00:00, ?it/s]\n",
            "0it [00:00, ?it/s]\n",
            "0it [00:00, ?it/s]\n",
            "0it [00:00, ?it/s]\n",
            "0it [00:00, ?it/s]\n",
            "0it [00:00, ?it/s]\n",
            "0it [00:00, ?it/s]\n",
            "0it [00:00, ?it/s]\n",
            "0it [00:00, ?it/s]\n",
            "0it [00:00, ?it/s]\n",
            "0it [00:00, ?it/s]\n",
            "0it [00:00, ?it/s]\n",
            "0it [00:00, ?it/s]\n",
            "0it [00:00, ?it/s]\n",
            "0it [00:00, ?it/s]\n",
            "0it [00:00, ?it/s]\n",
            "0it [00:00, ?it/s]\n",
            "0it [00:00, ?it/s]\n",
            "0it [00:00, ?it/s]\n",
            "0it [00:00, ?it/s]\n",
            "0it [00:00, ?it/s]\n",
            "0it [00:00, ?it/s]\n",
            "0it [00:00, ?it/s]\n",
            "0it [00:00, ?it/s]\n",
            "0it [00:00, ?it/s]\n",
            "0it [00:00, ?it/s]\n",
            "0it [00:00, ?it/s]\n",
            "0it [00:00, ?it/s]\n",
            "0it [00:00, ?it/s]\n",
            "0it [00:00, ?it/s]\n",
            "0it [00:00, ?it/s]\n",
            "0it [00:00, ?it/s]\n",
            "0it [00:00, ?it/s]\n",
            "0it [00:00, ?it/s]\n",
            "0it [00:00, ?it/s]\n",
            "0it [00:00, ?it/s]\n",
            "0it [00:00, ?it/s]\n",
            "0it [00:00, ?it/s]\n",
            "0it [00:00, ?it/s]\n",
            "0it [00:00, ?it/s]\n",
            "0it [00:00, ?it/s]\n",
            "0it [00:00, ?it/s]\n",
            "0it [00:00, ?it/s]\n",
            "0it [00:00, ?it/s]\n",
            "0it [00:00, ?it/s]\n",
            "0it [00:00, ?it/s]\n",
            "0it [00:00, ?it/s]\n",
            "0it [00:00, ?it/s]\n",
            "0it [00:00, ?it/s]\n",
            "0it [00:00, ?it/s]\n",
            "0it [00:00, ?it/s]\n",
            "0it [00:00, ?it/s]\n",
            "0it [00:00, ?it/s]\n",
            "0it [00:00, ?it/s]\n",
            "0it [00:00, ?it/s]\n",
            "0it [00:00, ?it/s]\n",
            "0it [00:00, ?it/s]\n",
            "0it [00:00, ?it/s]\n",
            "0it [00:00, ?it/s]\n",
            "0it [00:00, ?it/s]\n",
            "0it [00:00, ?it/s]\n",
            "0it [00:00, ?it/s]\n",
            "0it [00:00, ?it/s]\n",
            "0it [00:00, ?it/s]\n",
            "0it [00:00, ?it/s]\n",
            "0it [00:00, ?it/s]\n",
            "0it [00:00, ?it/s]\n",
            "0it [00:00, ?it/s]\n",
            "0it [00:00, ?it/s]\n",
            "0it [00:00, ?it/s]\n",
            "0it [00:00, ?it/s]\n",
            "0it [00:00, ?it/s]\n",
            "0it [00:00, ?it/s]\n",
            "0it [00:00, ?it/s]\n",
            "original_sequences/youtube: 100%|██████████| 150/150 [05:59<00:00,  2.40s/it]\n"
          ]
        }
      ],
      "source": [
        "score_fake, score_real = detect_ffpp_deepfakes(ffpp_dir)"
      ]
    },
    {
      "cell_type": "markdown",
      "metadata": {
        "id": "DHFs9xBwx6Hy"
      },
      "source": [
        "## FakeAVCeleb"
      ]
    },
    {
      "cell_type": "code",
      "execution_count": null,
      "metadata": {
        "id": "HriPFX_K4_tC"
      },
      "outputs": [],
      "source": [
        "fakeavceleb_metadata = \"/content/deepfake_detection_datasets/FakeAVCeleb/meta_data.csv\"\n",
        "dataset = \"FakeAVCeleb\""
      ]
    },
    {
      "cell_type": "code",
      "execution_count": null,
      "metadata": {
        "id": "ekGTCQkK5J8-"
      },
      "outputs": [],
      "source": [
        "def detect_fakeAVCeleb_deepfake(metadata_file):\n",
        "  metadata = pd.read_csv(metadata_file)\n",
        "\n",
        "  scores_real = np.array([]);\n",
        "  scores_fake = np.array([]);\n",
        "\n",
        "  # Filter for 'RealVideo-RealAudio' category\n",
        "  real_videos = metadata[metadata['type'] == 'RealVideo-RealAudio']\n",
        "  sampled_reals = real_videos.groupby(['race', 'gender']).apply(\n",
        "        lambda x: x.sample(n=50, replace=False) if len(x) >= 50 else x).reset_index(drop=True)\n",
        "\n",
        "  # Filter for 'FakeVideo-RealAudio' category and sample\n",
        "  fake_videos = metadata[metadata['type'] == 'FakeVideo-RealAudio']\n",
        "  sampled_fakes = fake_videos.groupby(['race', 'gender']).apply(\n",
        "        lambda x: x.sample(n=50, replace=False) if len(x) >= 50 else x).reset_index(drop=True)\n",
        "\n",
        "  # Concatenate real and sampled fake videos\n",
        "  final_metadata = pd.concat([sampled_reals, sampled_fakes]).reset_index(drop=True)\n",
        "  for index, properties in tqdm(final_metadata.iterrows(), total=len(final_metadata.index)):\n",
        "    vid_path = os.path.join(\"/content/deepfake_detection_datasets/\", properties['Unnamed: 9'], properties['path'])\n",
        "    vid = face_extractor.process_video(vid_path)\n",
        "\n",
        "    # For each frame, we consider the face with the highest confidence score found by BlazeFace (= frame['faces'][0])\n",
        "    faces_t = torch.stack( [ transf(image=frame['faces'][0])['image'] for frame in vid if len(frame['faces'])] )\n",
        "\n",
        "    with torch.no_grad():\n",
        "        faces_pred = net(faces_t.to(device)).cpu().numpy().flatten()\n",
        "\n",
        "    if properties['method'] == \"real\":\n",
        "      scores_real = np.append(scores_real, expit(faces_pred.mean()))\n",
        "    else:\n",
        "      scores_fake = np.append(scores_fake, expit(faces_pred.mean()))\n",
        "\n",
        "  return scores_fake, scores_real"
      ]
    },
    {
      "cell_type": "code",
      "execution_count": null,
      "metadata": {
        "colab": {
          "base_uri": "https://localhost:8080/"
        },
        "id": "dZ4BFiNYqcmN",
        "outputId": "24a8f6f1-ff48-4371-d10b-167d1bc084dc"
      },
      "outputs": [
        {
          "output_type": "stream",
          "name": "stderr",
          "text": [
            "100%|██████████| 1000/1000 [30:43<00:00,  1.84s/it]\n"
          ]
        }
      ],
      "source": [
        "score_fake, score_real = detect_fakeAVCeleb_deepfake(fakeavceleb_metadata)"
      ]
    },
    {
      "cell_type": "markdown",
      "metadata": {
        "id": "ghg8YAKoLoeW"
      },
      "source": [
        "## Create Diagrams"
      ]
    },
    {
      "cell_type": "code",
      "execution_count": null,
      "metadata": {
        "id": "T38jwVo4CGHH",
        "colab": {
          "base_uri": "https://localhost:8080/",
          "height": 488
        },
        "outputId": "141dc2b3-af6f-49c1-cdf5-038bcf7b6693"
      },
      "outputs": [
        {
          "output_type": "display_data",
          "data": {
            "text/plain": [
              "<Figure size 640x480 with 1 Axes>"
            ],
            "image/png": "[encoded data removed]"
          },
          "metadata": {}
        }
      ],
      "source": [
        "# Use the default PLT style, in case it was changed for the confusion matrix\n",
        "plt.style.use('default')\n",
        "\n",
        "# _, _, bars = plt.hist(score_real, range=(0,1), color='steelblue', edgecolor='black')\n",
        "# plt.title(f'{net_model} ({train_db}) + {dataset} (echt)')\n",
        "# plt.xlabel(f'Punktzahl\\nMittelwert: {score_real.mean()}')\n",
        "# plt.bar_label(bars)\n",
        "# plt.xlim(0, 1)\n",
        "# plt.ylabel('#Videos')\n",
        "# plt.show()\n",
        "\n",
        "_, _, bars = plt.hist(score_fake, range=(0,1), color='steelblue', edgecolor='black')\n",
        "plt.title(f'{net_model} ({train_db}) + {dataset} (manipuliert)')\n",
        "plt.xlabel(f'Punktzahl\\nMittelwert: {score_fake.mean()}')\n",
        "plt.bar_label(bars)\n",
        "plt.xlim(0, 1)\n",
        "plt.ylabel('#Videos')\n",
        "plt.show()"
      ]
    },
    {
      "cell_type": "code",
      "execution_count": null,
      "metadata": {
        "id": "jukj2zn5CXXw"
      },
      "outputs": [],
      "source": [
        "# Getting Data\n",
        "TP = np.sum(score_fake > 0.6) # True Positives  => Fake Videos als fake Klassifiziert\n",
        "FN = np.sum(score_fake < 0.6) # False Negatives => Fake Videos als echt Klassifiziert\n",
        "FP = np.sum(score_real > 0.4) # False Positives => Echt Videos als fake Klassifiziert\n",
        "TN = np.sum(score_real < 0.4) # True Negatives  => Echt Videos als echt Klassifiziert\n",
        "\n",
        "# Create the confusion matrix\n",
        "confusion_matrix = np.array([[TP, FN], [FP, TN]])\n",
        "# Create the nomalized confusion matrix\n",
        "normalized_confusion_matrix = normalize(confusion_matrix, norm='l1', axis=1)"
      ]
    },
    {
      "cell_type": "code",
      "execution_count": null,
      "metadata": {
        "id": "Ugi8Eh60CYTp",
        "colab": {
          "base_uri": "https://localhost:8080/",
          "height": 480
        },
        "outputId": "492a47db-d413-4668-cb1e-20084f8c8e47"
      },
      "outputs": [
        {
          "output_type": "display_data",
          "data": {
            "text/plain": [
              "<Figure size 640x480 with 1 Axes>"
            ],
            "image/png": "[encoded data removed]"
          },
          "metadata": {}
        }
      ],
      "source": [
        "# Labels for the classes\n",
        "labels = [\"Fake\", \"Echt\"]\n",
        "\n",
        "# Create a heatmap\n",
        "sns.set(color_codes=False)\n",
        "sns.heatmap(confusion_matrix, annot=True, fmt='.0f', cmap='Blues', cbar=False, xticklabels=labels, yticklabels=labels)\n",
        "\n",
        "plt.figure(1, figsize=(5,5))\n",
        "plt.title(f'{net_model} ({train_db}) + {dataset}')\n",
        "plt.ylabel(\"Wirkliche Labels\")\n",
        "plt.xlabel('Vorhergesagte Labels')\n",
        "plt.show()"
      ]
    },
    {
      "cell_type": "code",
      "execution_count": null,
      "metadata": {
        "id": "eEpUCI4kCZ3v",
        "colab": {
          "base_uri": "https://localhost:8080/",
          "height": 480
        },
        "outputId": "9e8b626f-350f-4628-95ce-beb2aa76724c"
      },
      "outputs": [
        {
          "output_type": "display_data",
          "data": {
            "text/plain": [
              "<Figure size 640x480 with 1 Axes>"
            ],
            "image/png": "[encoded data removed]"
          },
          "metadata": {}
        }
      ],
      "source": [
        "# Labels for the classes\n",
        "labels = [\"Fake\", \"Echt\"]\n",
        "\n",
        "# Create a heatmap\n",
        "sns.set(color_codes=False)\n",
        "sns.heatmap(normalized_confusion_matrix, annot=True, fmt='.2f', cmap='Blues', cbar=False, xticklabels=labels, yticklabels=labels)\n",
        "\n",
        "plt.figure(1, figsize=(5,5))\n",
        "plt.title(f'{net_model} ({train_db}) + {dataset}')\n",
        "plt.ylabel(\"Wirkliche Labels\")\n",
        "plt.xlabel('Vorhergesagte Labels')\n",
        "plt.show()"
      ]
    }
  ],
  "metadata": {
    "colab": {
      "collapsed_sections": [
        "-3smEpNwwzSt",
        "QwK40a1YT4_K",
        "3TJaY3fRNMDq",
        "BH0B6-CHOnZD",
        "twmB0dfzJGD-",
        "UPalCdUBx3iB",
        "DHFs9xBwx6Hy"
      ],
      "provenance": [],
      "gpuType": "T4",
      "include_colab_link": true
    },
    "kernelspec": {
      "display_name": "Python 3",
      "name": "python3"
    },
    "language_info": {
      "codemirror_mode": {
        "name": "ipython",
        "version": 3
      },
      "file_extension": ".py",
      "mimetype": "text/x-python",
      "name": "python",
      "nbconvert_exporter": "python",
      "pygments_lexer": "ipython3",
      "version": "3.7.3"
    },
    "accelerator": "GPU"
  },
  "nbformat": 4,
  "nbformat_minor": 0
}